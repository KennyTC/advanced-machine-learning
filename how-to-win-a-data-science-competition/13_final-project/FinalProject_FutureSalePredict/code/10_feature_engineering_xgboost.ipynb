{
 "cells": [
  {
   "cell_type": "code",
   "execution_count": 1,
   "metadata": {},
   "outputs": [
    {
     "data": {
      "text/plain": [
       "sys.version_info(major=3, minor=7, micro=3, releaselevel='final', serial=0)"
      ]
     },
     "execution_count": 1,
     "metadata": {},
     "output_type": "execute_result"
    }
   ],
   "source": [
    "import numpy as np\n",
    "import pandas as pd\n",
    "pd.set_option('display.max_rows', 500)\n",
    "pd.set_option('display.max_columns', 100)\n",
    "\n",
    "from itertools import product\n",
    "from sklearn.preprocessing import LabelEncoder\n",
    "\n",
    "import seaborn as sns\n",
    "import matplotlib.pyplot as plt\n",
    "%matplotlib inline\n",
    "\n",
    "from xgboost import XGBRegressor\n",
    "from xgboost import plot_importance\n",
    "\n",
    "def plot_features(booster, figsize):    \n",
    "    fig, ax = plt.subplots(1,1,figsize=figsize)\n",
    "    return plot_importance(booster=booster, ax=ax)\n",
    "\n",
    "import time\n",
    "import sys\n",
    "import gc\n",
    "import pickle\n",
    "sys.version_info"
   ]
  },
  {
   "cell_type": "code",
   "execution_count": 2,
   "metadata": {},
   "outputs": [],
   "source": [
    "from IPython.core.interactiveshell import InteractiveShell\n",
    "InteractiveShell.ast_node_interactivity = \"all\""
   ]
  },
  {
   "cell_type": "code",
   "execution_count": 3,
   "metadata": {},
   "outputs": [],
   "source": [
    "def downcast_dtypes(df):\n",
    "    float_cols = [c for c in df if df[c].dtype == \"float64\"]\n",
    "    int_cols =   [c for c in df if df[c].dtype in [\"int64\", \"int32\"]]\n",
    "    df[float_cols] = df[float_cols].astype(np.float32)\n",
    "    df[int_cols]   = df[int_cols].astype(np.int16)\n",
    "    return df"
   ]
  },
  {
   "cell_type": "code",
   "execution_count": 4,
   "metadata": {},
   "outputs": [],
   "source": [
    "items = pd.read_csv('../data/items.csv')\n",
    "shops = pd.read_csv('../data/shops.csv')\n",
    "cats = pd.read_csv('../data/item_categories.csv')\n",
    "train = pd.read_csv('../data/sales_train.csv')\n",
    "# set index to ID to avoid droping it later\n",
    "test  = pd.read_csv('../data/test.csv').set_index('ID')"
   ]
  },
  {
   "cell_type": "markdown",
   "metadata": {},
   "source": [
    "#### Preprocessing"
   ]
  },
  {
   "cell_type": "code",
   "execution_count": 5,
   "metadata": {},
   "outputs": [
    {
     "data": {
      "image/png": "[encoded data removed]",
      "text/plain": [
       "<Figure size 720x288 with 1 Axes>"
      ]
     },
     "metadata": {
      "needs_background": "light"
     },
     "output_type": "display_data"
    },
    {
     "data": {
      "image/png": "[encoded data removed]",
      "text/plain": [
       "<Figure size 720x288 with 1 Axes>"
      ]
     },
     "metadata": {
      "needs_background": "light"
     },
     "output_type": "display_data"
    }
   ],
   "source": [
    "plt.figure(figsize=(10,4))\n",
    "plt.xlim(-100, 3000)\n",
    "sns.boxplot(x=train.item_cnt_day);\n",
    "\n",
    "plt.figure(figsize=(10,4))\n",
    "plt.xlim(train.item_price.min(), train.item_price.max()*1.1)\n",
    "sns.boxplot(x=train.item_price);"
   ]
  },
  {
   "cell_type": "markdown",
   "metadata": {},
   "source": [
    "We saw some outliers, so we decided to remove them "
   ]
  },
  {
   "cell_type": "code",
   "execution_count": 9,
   "metadata": {},
   "outputs": [],
   "source": [
    "train = train[train.item_price < 100000]\n",
    "train = train[train.item_cnt_day < 1001] # only 1 records deleted"
   ]
  },
  {
   "cell_type": "code",
   "execution_count": 10,
   "metadata": {},
   "outputs": [
    {
     "data": {
      "text/html": [
       "<div>\n",
       "<style scoped>\n",
       "    .dataframe tbody tr th:only-of-type {\n",
       "        vertical-align: middle;\n",
       "    }\n",
       "\n",
       "    .dataframe tbody tr th {\n",
       "        vertical-align: top;\n",
       "    }\n",
       "\n",
       "    .dataframe thead th {\n",
       "        text-align: right;\n",
       "    }\n",
       "</style>\n",
       "<table border=\"1\" class=\"dataframe\">\n",
       "  <thead>\n",
       "    <tr style=\"text-align: right;\">\n",
       "      <th></th>\n",
       "      <th>date</th>\n",
       "      <th>date_block_num</th>\n",
       "      <th>shop_id</th>\n",
       "      <th>item_id</th>\n",
       "      <th>item_price</th>\n",
       "      <th>item_cnt_day</th>\n",
       "    </tr>\n",
       "  </thead>\n",
       "  <tbody>\n",
       "    <tr>\n",
       "      <th>484683</th>\n",
       "      <td>15.05.2013</td>\n",
       "      <td>4</td>\n",
       "      <td>32</td>\n",
       "      <td>2973</td>\n",
       "      <td>-1.0</td>\n",
       "      <td>1.0</td>\n",
       "    </tr>\n",
       "  </tbody>\n",
       "</table>\n",
       "</div>"
      ],
      "text/plain": [
       "              date  date_block_num  shop_id  item_id  item_price  item_cnt_day\n",
       "484683  15.05.2013               4       32     2973        -1.0           1.0"
      ]
     },
     "execution_count": 10,
     "metadata": {},
     "output_type": "execute_result"
    }
   ],
   "source": [
    "train[train.item_price <0]"
   ]
  },
  {
   "cell_type": "markdown",
   "metadata": {},
   "source": [
    "there is 1 place where item_price <0. We replace with the median"
   ]
  },
  {
   "cell_type": "code",
   "execution_count": 11,
   "metadata": {},
   "outputs": [],
   "source": [
    "median = train[(train.shop_id==32) & \n",
    "               (train.item_id==2973) & \n",
    "               (train.date_block_num==4) & \n",
    "               (train.item_price >0)].item_price.median()\n",
    "train.loc[train.item_price <0, \"item_price\"] = median"
   ]
  },
  {
   "cell_type": "markdown",
   "metadata": {},
   "source": [
    "By viewing shops, we see that these shops have the same name even though they have different shop_id, so we think they are the same shop"
   ]
  },
  {
   "cell_type": "code",
   "execution_count": 32,
   "metadata": {},
   "outputs": [],
   "source": [
    "# Якутск Орджоникидзе, 56\n",
    "train.loc[train.shop_id == 0, 'shop_id'] = 57\n",
    "test.loc[test.shop_id == 0, 'shop_id'] = 57\n",
    "# Якутск ТЦ \"Центральный\"\n",
    "train.loc[train.shop_id == 1, 'shop_id'] = 58\n",
    "test.loc[test.shop_id == 1, 'shop_id'] = 58\n",
    "# Жуковский ул. Чкалова 39м²\n",
    "train.loc[train.shop_id == 10, 'shop_id'] = 11\n",
    "test.loc[test.shop_id == 10, 'shop_id'] = 11"
   ]
  },
  {
   "cell_type": "code",
   "execution_count": 12,
   "metadata": {},
   "outputs": [
    {
     "data": {
      "text/html": [
       "<div>\n",
       "<style scoped>\n",
       "    .dataframe tbody tr th:only-of-type {\n",
       "        vertical-align: middle;\n",
       "    }\n",
       "\n",
       "    .dataframe tbody tr th {\n",
       "        vertical-align: top;\n",
       "    }\n",
       "\n",
       "    .dataframe thead th {\n",
       "        text-align: right;\n",
       "    }\n",
       "</style>\n",
       "<table border=\"1\" class=\"dataframe\">\n",
       "  <thead>\n",
       "    <tr style=\"text-align: right;\">\n",
       "      <th></th>\n",
       "      <th>shop_name</th>\n",
       "      <th>shop_id</th>\n",
       "    </tr>\n",
       "  </thead>\n",
       "  <tbody>\n",
       "    <tr>\n",
       "      <th>0</th>\n",
       "      <td>!Якутск Орджоникидзе, 56 фран</td>\n",
       "      <td>0</td>\n",
       "    </tr>\n",
       "    <tr>\n",
       "      <th>1</th>\n",
       "      <td>!Якутск ТЦ \"Центральный\" фран</td>\n",
       "      <td>1</td>\n",
       "    </tr>\n",
       "    <tr>\n",
       "      <th>2</th>\n",
       "      <td>Адыгея ТЦ \"Мега\"</td>\n",
       "      <td>2</td>\n",
       "    </tr>\n",
       "    <tr>\n",
       "      <th>3</th>\n",
       "      <td>Балашиха ТРК \"Октябрь-Киномир\"</td>\n",
       "      <td>3</td>\n",
       "    </tr>\n",
       "    <tr>\n",
       "      <th>4</th>\n",
       "      <td>Волжский ТЦ \"Волга Молл\"</td>\n",
       "      <td>4</td>\n",
       "    </tr>\n",
       "  </tbody>\n",
       "</table>\n",
       "</div>"
      ],
      "text/plain": [
       "                        shop_name  shop_id\n",
       "0   !Якутск Орджоникидзе, 56 фран        0\n",
       "1   !Якутск ТЦ \"Центральный\" фран        1\n",
       "2                Адыгея ТЦ \"Мега\"        2\n",
       "3  Балашиха ТРК \"Октябрь-Киномир\"        3\n",
       "4        Волжский ТЦ \"Волга Молл\"        4"
      ]
     },
     "execution_count": 12,
     "metadata": {},
     "output_type": "execute_result"
    },
    {
     "data": {
      "text/html": [
       "<div>\n",
       "<style scoped>\n",
       "    .dataframe tbody tr th:only-of-type {\n",
       "        vertical-align: middle;\n",
       "    }\n",
       "\n",
       "    .dataframe tbody tr th {\n",
       "        vertical-align: top;\n",
       "    }\n",
       "\n",
       "    .dataframe thead th {\n",
       "        text-align: right;\n",
       "    }\n",
       "</style>\n",
       "<table border=\"1\" class=\"dataframe\">\n",
       "  <thead>\n",
       "    <tr style=\"text-align: right;\">\n",
       "      <th></th>\n",
       "      <th>item_category_name</th>\n",
       "      <th>item_category_id</th>\n",
       "    </tr>\n",
       "  </thead>\n",
       "  <tbody>\n",
       "    <tr>\n",
       "      <th>0</th>\n",
       "      <td>PC - Гарнитуры/Наушники</td>\n",
       "      <td>0</td>\n",
       "    </tr>\n",
       "    <tr>\n",
       "      <th>1</th>\n",
       "      <td>Аксессуары - PS2</td>\n",
       "      <td>1</td>\n",
       "    </tr>\n",
       "    <tr>\n",
       "      <th>2</th>\n",
       "      <td>Аксессуары - PS3</td>\n",
       "      <td>2</td>\n",
       "    </tr>\n",
       "    <tr>\n",
       "      <th>3</th>\n",
       "      <td>Аксессуары - PS4</td>\n",
       "      <td>3</td>\n",
       "    </tr>\n",
       "    <tr>\n",
       "      <th>4</th>\n",
       "      <td>Аксессуары - PSP</td>\n",
       "      <td>4</td>\n",
       "    </tr>\n",
       "  </tbody>\n",
       "</table>\n",
       "</div>"
      ],
      "text/plain": [
       "        item_category_name  item_category_id\n",
       "0  PC - Гарнитуры/Наушники                 0\n",
       "1         Аксессуары - PS2                 1\n",
       "2         Аксессуары - PS3                 2\n",
       "3         Аксессуары - PS4                 3\n",
       "4         Аксессуары - PSP                 4"
      ]
     },
     "execution_count": 12,
     "metadata": {},
     "output_type": "execute_result"
    }
   ],
   "source": [
    "shops.head()\n",
    "cats.head()"
   ]
  },
  {
   "cell_type": "code",
   "execution_count": 13,
   "metadata": {},
   "outputs": [],
   "source": [
    "cats['split'] = cats['item_category_name'].str.split('-')"
   ]
  },
  {
   "cell_type": "code",
   "execution_count": 15,
   "metadata": {},
   "outputs": [],
   "source": [
    "cats['subtype'] = cats['split'].map(lambda x: x[1].strip() if len(x) > 1 else x[0].strip())\n"
   ]
  },
  {
   "cell_type": "code",
   "execution_count": 16,
   "metadata": {},
   "outputs": [
    {
     "data": {
      "text/html": [
       "<div>\n",
       "<style scoped>\n",
       "    .dataframe tbody tr th:only-of-type {\n",
       "        vertical-align: middle;\n",
       "    }\n",
       "\n",
       "    .dataframe tbody tr th {\n",
       "        vertical-align: top;\n",
       "    }\n",
       "\n",
       "    .dataframe thead th {\n",
       "        text-align: right;\n",
       "    }\n",
       "</style>\n",
       "<table border=\"1\" class=\"dataframe\">\n",
       "  <thead>\n",
       "    <tr style=\"text-align: right;\">\n",
       "      <th></th>\n",
       "      <th>item_category_name</th>\n",
       "      <th>item_category_id</th>\n",
       "      <th>split</th>\n",
       "      <th>subtype</th>\n",
       "    </tr>\n",
       "  </thead>\n",
       "  <tbody>\n",
       "    <tr>\n",
       "      <th>0</th>\n",
       "      <td>PC - Гарнитуры/Наушники</td>\n",
       "      <td>0</td>\n",
       "      <td>[PC ,  Гарнитуры/Наушники]</td>\n",
       "      <td>Гарнитуры/Наушники</td>\n",
       "    </tr>\n",
       "    <tr>\n",
       "      <th>1</th>\n",
       "      <td>Аксессуары - PS2</td>\n",
       "      <td>1</td>\n",
       "      <td>[Аксессуары ,  PS2]</td>\n",
       "      <td>PS2</td>\n",
       "    </tr>\n",
       "    <tr>\n",
       "      <th>2</th>\n",
       "      <td>Аксессуары - PS3</td>\n",
       "      <td>2</td>\n",
       "      <td>[Аксессуары ,  PS3]</td>\n",
       "      <td>PS3</td>\n",
       "    </tr>\n",
       "    <tr>\n",
       "      <th>3</th>\n",
       "      <td>Аксессуары - PS4</td>\n",
       "      <td>3</td>\n",
       "      <td>[Аксессуары ,  PS4]</td>\n",
       "      <td>PS4</td>\n",
       "    </tr>\n",
       "    <tr>\n",
       "      <th>4</th>\n",
       "      <td>Аксессуары - PSP</td>\n",
       "      <td>4</td>\n",
       "      <td>[Аксессуары ,  PSP]</td>\n",
       "      <td>PSP</td>\n",
       "    </tr>\n",
       "    <tr>\n",
       "      <th>5</th>\n",
       "      <td>Аксессуары - PSVita</td>\n",
       "      <td>5</td>\n",
       "      <td>[Аксессуары ,  PSVita]</td>\n",
       "      <td>PSVita</td>\n",
       "    </tr>\n",
       "    <tr>\n",
       "      <th>6</th>\n",
       "      <td>Аксессуары - XBOX 360</td>\n",
       "      <td>6</td>\n",
       "      <td>[Аксессуары ,  XBOX 360]</td>\n",
       "      <td>XBOX 360</td>\n",
       "    </tr>\n",
       "    <tr>\n",
       "      <th>7</th>\n",
       "      <td>Аксессуары - XBOX ONE</td>\n",
       "      <td>7</td>\n",
       "      <td>[Аксессуары ,  XBOX ONE]</td>\n",
       "      <td>XBOX ONE</td>\n",
       "    </tr>\n",
       "    <tr>\n",
       "      <th>8</th>\n",
       "      <td>Билеты (Цифра)</td>\n",
       "      <td>8</td>\n",
       "      <td>[Билеты (Цифра)]</td>\n",
       "      <td>Билеты (Цифра)</td>\n",
       "    </tr>\n",
       "    <tr>\n",
       "      <th>9</th>\n",
       "      <td>Доставка товара</td>\n",
       "      <td>9</td>\n",
       "      <td>[Доставка товара]</td>\n",
       "      <td>Доставка товара</td>\n",
       "    </tr>\n",
       "    <tr>\n",
       "      <th>10</th>\n",
       "      <td>Игровые консоли - PS2</td>\n",
       "      <td>10</td>\n",
       "      <td>[Игровые консоли ,  PS2]</td>\n",
       "      <td>PS2</td>\n",
       "    </tr>\n",
       "    <tr>\n",
       "      <th>11</th>\n",
       "      <td>Игровые консоли - PS3</td>\n",
       "      <td>11</td>\n",
       "      <td>[Игровые консоли ,  PS3]</td>\n",
       "      <td>PS3</td>\n",
       "    </tr>\n",
       "    <tr>\n",
       "      <th>12</th>\n",
       "      <td>Игровые консоли - PS4</td>\n",
       "      <td>12</td>\n",
       "      <td>[Игровые консоли ,  PS4]</td>\n",
       "      <td>PS4</td>\n",
       "    </tr>\n",
       "    <tr>\n",
       "      <th>13</th>\n",
       "      <td>Игровые консоли - PSP</td>\n",
       "      <td>13</td>\n",
       "      <td>[Игровые консоли ,  PSP]</td>\n",
       "      <td>PSP</td>\n",
       "    </tr>\n",
       "    <tr>\n",
       "      <th>14</th>\n",
       "      <td>Игровые консоли - PSVita</td>\n",
       "      <td>14</td>\n",
       "      <td>[Игровые консоли ,  PSVita]</td>\n",
       "      <td>PSVita</td>\n",
       "    </tr>\n",
       "    <tr>\n",
       "      <th>15</th>\n",
       "      <td>Игровые консоли - XBOX 360</td>\n",
       "      <td>15</td>\n",
       "      <td>[Игровые консоли ,  XBOX 360]</td>\n",
       "      <td>XBOX 360</td>\n",
       "    </tr>\n",
       "    <tr>\n",
       "      <th>16</th>\n",
       "      <td>Игровые консоли - XBOX ONE</td>\n",
       "      <td>16</td>\n",
       "      <td>[Игровые консоли ,  XBOX ONE]</td>\n",
       "      <td>XBOX ONE</td>\n",
       "    </tr>\n",
       "    <tr>\n",
       "      <th>17</th>\n",
       "      <td>Игровые консоли - Прочие</td>\n",
       "      <td>17</td>\n",
       "      <td>[Игровые консоли ,  Прочие]</td>\n",
       "      <td>Прочие</td>\n",
       "    </tr>\n",
       "    <tr>\n",
       "      <th>18</th>\n",
       "      <td>Игры - PS2</td>\n",
       "      <td>18</td>\n",
       "      <td>[Игры ,  PS2]</td>\n",
       "      <td>PS2</td>\n",
       "    </tr>\n",
       "    <tr>\n",
       "      <th>19</th>\n",
       "      <td>Игры - PS3</td>\n",
       "      <td>19</td>\n",
       "      <td>[Игры ,  PS3]</td>\n",
       "      <td>PS3</td>\n",
       "    </tr>\n",
       "    <tr>\n",
       "      <th>20</th>\n",
       "      <td>Игры - PS4</td>\n",
       "      <td>20</td>\n",
       "      <td>[Игры ,  PS4]</td>\n",
       "      <td>PS4</td>\n",
       "    </tr>\n",
       "    <tr>\n",
       "      <th>21</th>\n",
       "      <td>Игры - PSP</td>\n",
       "      <td>21</td>\n",
       "      <td>[Игры ,  PSP]</td>\n",
       "      <td>PSP</td>\n",
       "    </tr>\n",
       "    <tr>\n",
       "      <th>22</th>\n",
       "      <td>Игры - PSVita</td>\n",
       "      <td>22</td>\n",
       "      <td>[Игры ,  PSVita]</td>\n",
       "      <td>PSVita</td>\n",
       "    </tr>\n",
       "    <tr>\n",
       "      <th>23</th>\n",
       "      <td>Игры - XBOX 360</td>\n",
       "      <td>23</td>\n",
       "      <td>[Игры ,  XBOX 360]</td>\n",
       "      <td>XBOX 360</td>\n",
       "    </tr>\n",
       "    <tr>\n",
       "      <th>24</th>\n",
       "      <td>Игры - XBOX ONE</td>\n",
       "      <td>24</td>\n",
       "      <td>[Игры ,  XBOX ONE]</td>\n",
       "      <td>XBOX ONE</td>\n",
       "    </tr>\n",
       "    <tr>\n",
       "      <th>25</th>\n",
       "      <td>Игры - Аксессуары для игр</td>\n",
       "      <td>25</td>\n",
       "      <td>[Игры ,  Аксессуары для игр]</td>\n",
       "      <td>Аксессуары для игр</td>\n",
       "    </tr>\n",
       "    <tr>\n",
       "      <th>26</th>\n",
       "      <td>Игры Android - Цифра</td>\n",
       "      <td>26</td>\n",
       "      <td>[Игры Android ,  Цифра]</td>\n",
       "      <td>Цифра</td>\n",
       "    </tr>\n",
       "    <tr>\n",
       "      <th>27</th>\n",
       "      <td>Игры MAC - Цифра</td>\n",
       "      <td>27</td>\n",
       "      <td>[Игры MAC ,  Цифра]</td>\n",
       "      <td>Цифра</td>\n",
       "    </tr>\n",
       "    <tr>\n",
       "      <th>28</th>\n",
       "      <td>Игры PC - Дополнительные издания</td>\n",
       "      <td>28</td>\n",
       "      <td>[Игры PC ,  Дополнительные издания]</td>\n",
       "      <td>Дополнительные издания</td>\n",
       "    </tr>\n",
       "    <tr>\n",
       "      <th>29</th>\n",
       "      <td>Игры PC - Коллекционные издания</td>\n",
       "      <td>29</td>\n",
       "      <td>[Игры PC ,  Коллекционные издания]</td>\n",
       "      <td>Коллекционные издания</td>\n",
       "    </tr>\n",
       "    <tr>\n",
       "      <th>30</th>\n",
       "      <td>Игры PC - Стандартные издания</td>\n",
       "      <td>30</td>\n",
       "      <td>[Игры PC ,  Стандартные издания]</td>\n",
       "      <td>Стандартные издания</td>\n",
       "    </tr>\n",
       "    <tr>\n",
       "      <th>31</th>\n",
       "      <td>Игры PC - Цифра</td>\n",
       "      <td>31</td>\n",
       "      <td>[Игры PC ,  Цифра]</td>\n",
       "      <td>Цифра</td>\n",
       "    </tr>\n",
       "    <tr>\n",
       "      <th>32</th>\n",
       "      <td>Карты оплаты (Кино, Музыка, Игры)</td>\n",
       "      <td>32</td>\n",
       "      <td>[Карты оплаты (Кино, Музыка, Игры)]</td>\n",
       "      <td>Карты оплаты (Кино, Музыка, Игры)</td>\n",
       "    </tr>\n",
       "    <tr>\n",
       "      <th>33</th>\n",
       "      <td>Карты оплаты - Live!</td>\n",
       "      <td>33</td>\n",
       "      <td>[Карты оплаты ,  Live!]</td>\n",
       "      <td>Live!</td>\n",
       "    </tr>\n",
       "    <tr>\n",
       "      <th>34</th>\n",
       "      <td>Карты оплаты - Live! (Цифра)</td>\n",
       "      <td>34</td>\n",
       "      <td>[Карты оплаты ,  Live! (Цифра)]</td>\n",
       "      <td>Live! (Цифра)</td>\n",
       "    </tr>\n",
       "    <tr>\n",
       "      <th>35</th>\n",
       "      <td>Карты оплаты - PSN</td>\n",
       "      <td>35</td>\n",
       "      <td>[Карты оплаты ,  PSN]</td>\n",
       "      <td>PSN</td>\n",
       "    </tr>\n",
       "    <tr>\n",
       "      <th>36</th>\n",
       "      <td>Карты оплаты - Windows (Цифра)</td>\n",
       "      <td>36</td>\n",
       "      <td>[Карты оплаты ,  Windows (Цифра)]</td>\n",
       "      <td>Windows (Цифра)</td>\n",
       "    </tr>\n",
       "    <tr>\n",
       "      <th>37</th>\n",
       "      <td>Кино - Blu-Ray</td>\n",
       "      <td>37</td>\n",
       "      <td>[Кино ,  Blu, Ray]</td>\n",
       "      <td>Blu</td>\n",
       "    </tr>\n",
       "    <tr>\n",
       "      <th>38</th>\n",
       "      <td>Кино - Blu-Ray 3D</td>\n",
       "      <td>38</td>\n",
       "      <td>[Кино ,  Blu, Ray 3D]</td>\n",
       "      <td>Blu</td>\n",
       "    </tr>\n",
       "    <tr>\n",
       "      <th>39</th>\n",
       "      <td>Кино - Blu-Ray 4K</td>\n",
       "      <td>39</td>\n",
       "      <td>[Кино ,  Blu, Ray 4K]</td>\n",
       "      <td>Blu</td>\n",
       "    </tr>\n",
       "    <tr>\n",
       "      <th>40</th>\n",
       "      <td>Кино - DVD</td>\n",
       "      <td>40</td>\n",
       "      <td>[Кино ,  DVD]</td>\n",
       "      <td>DVD</td>\n",
       "    </tr>\n",
       "    <tr>\n",
       "      <th>41</th>\n",
       "      <td>Кино - Коллекционное</td>\n",
       "      <td>41</td>\n",
       "      <td>[Кино ,  Коллекционное]</td>\n",
       "      <td>Коллекционное</td>\n",
       "    </tr>\n",
       "    <tr>\n",
       "      <th>42</th>\n",
       "      <td>Книги - Артбуки, энциклопедии</td>\n",
       "      <td>42</td>\n",
       "      <td>[Книги ,  Артбуки, энциклопедии]</td>\n",
       "      <td>Артбуки, энциклопедии</td>\n",
       "    </tr>\n",
       "    <tr>\n",
       "      <th>43</th>\n",
       "      <td>Книги - Аудиокниги</td>\n",
       "      <td>43</td>\n",
       "      <td>[Книги ,  Аудиокниги]</td>\n",
       "      <td>Аудиокниги</td>\n",
       "    </tr>\n",
       "    <tr>\n",
       "      <th>44</th>\n",
       "      <td>Книги - Аудиокниги (Цифра)</td>\n",
       "      <td>44</td>\n",
       "      <td>[Книги ,  Аудиокниги (Цифра)]</td>\n",
       "      <td>Аудиокниги (Цифра)</td>\n",
       "    </tr>\n",
       "    <tr>\n",
       "      <th>45</th>\n",
       "      <td>Книги - Аудиокниги 1С</td>\n",
       "      <td>45</td>\n",
       "      <td>[Книги ,  Аудиокниги 1С]</td>\n",
       "      <td>Аудиокниги 1С</td>\n",
       "    </tr>\n",
       "    <tr>\n",
       "      <th>46</th>\n",
       "      <td>Книги - Бизнес литература</td>\n",
       "      <td>46</td>\n",
       "      <td>[Книги ,  Бизнес литература]</td>\n",
       "      <td>Бизнес литература</td>\n",
       "    </tr>\n",
       "    <tr>\n",
       "      <th>47</th>\n",
       "      <td>Книги - Комиксы, манга</td>\n",
       "      <td>47</td>\n",
       "      <td>[Книги ,  Комиксы, манга]</td>\n",
       "      <td>Комиксы, манга</td>\n",
       "    </tr>\n",
       "    <tr>\n",
       "      <th>48</th>\n",
       "      <td>Книги - Компьютерная литература</td>\n",
       "      <td>48</td>\n",
       "      <td>[Книги ,  Компьютерная литература]</td>\n",
       "      <td>Компьютерная литература</td>\n",
       "    </tr>\n",
       "    <tr>\n",
       "      <th>49</th>\n",
       "      <td>Книги - Методические материалы 1С</td>\n",
       "      <td>49</td>\n",
       "      <td>[Книги ,  Методические материалы 1С]</td>\n",
       "      <td>Методические материалы 1С</td>\n",
       "    </tr>\n",
       "    <tr>\n",
       "      <th>50</th>\n",
       "      <td>Книги - Открытки</td>\n",
       "      <td>50</td>\n",
       "      <td>[Книги ,  Открытки]</td>\n",
       "      <td>Открытки</td>\n",
       "    </tr>\n",
       "    <tr>\n",
       "      <th>51</th>\n",
       "      <td>Книги - Познавательная литература</td>\n",
       "      <td>51</td>\n",
       "      <td>[Книги ,  Познавательная литература]</td>\n",
       "      <td>Познавательная литература</td>\n",
       "    </tr>\n",
       "    <tr>\n",
       "      <th>52</th>\n",
       "      <td>Книги - Путеводители</td>\n",
       "      <td>52</td>\n",
       "      <td>[Книги ,  Путеводители]</td>\n",
       "      <td>Путеводители</td>\n",
       "    </tr>\n",
       "    <tr>\n",
       "      <th>53</th>\n",
       "      <td>Книги - Художественная литература</td>\n",
       "      <td>53</td>\n",
       "      <td>[Книги ,  Художественная литература]</td>\n",
       "      <td>Художественная литература</td>\n",
       "    </tr>\n",
       "    <tr>\n",
       "      <th>54</th>\n",
       "      <td>Книги - Цифра</td>\n",
       "      <td>54</td>\n",
       "      <td>[Книги ,  Цифра]</td>\n",
       "      <td>Цифра</td>\n",
       "    </tr>\n",
       "    <tr>\n",
       "      <th>55</th>\n",
       "      <td>Музыка - CD локального производства</td>\n",
       "      <td>55</td>\n",
       "      <td>[Музыка ,  CD локального производства]</td>\n",
       "      <td>CD локального производства</td>\n",
       "    </tr>\n",
       "    <tr>\n",
       "      <th>56</th>\n",
       "      <td>Музыка - CD фирменного производства</td>\n",
       "      <td>56</td>\n",
       "      <td>[Музыка ,  CD фирменного производства]</td>\n",
       "      <td>CD фирменного производства</td>\n",
       "    </tr>\n",
       "    <tr>\n",
       "      <th>57</th>\n",
       "      <td>Музыка - MP3</td>\n",
       "      <td>57</td>\n",
       "      <td>[Музыка ,  MP3]</td>\n",
       "      <td>MP3</td>\n",
       "    </tr>\n",
       "    <tr>\n",
       "      <th>58</th>\n",
       "      <td>Музыка - Винил</td>\n",
       "      <td>58</td>\n",
       "      <td>[Музыка ,  Винил]</td>\n",
       "      <td>Винил</td>\n",
       "    </tr>\n",
       "    <tr>\n",
       "      <th>59</th>\n",
       "      <td>Музыка - Музыкальное видео</td>\n",
       "      <td>59</td>\n",
       "      <td>[Музыка ,  Музыкальное видео]</td>\n",
       "      <td>Музыкальное видео</td>\n",
       "    </tr>\n",
       "    <tr>\n",
       "      <th>60</th>\n",
       "      <td>Музыка - Подарочные издания</td>\n",
       "      <td>60</td>\n",
       "      <td>[Музыка ,  Подарочные издания]</td>\n",
       "      <td>Подарочные издания</td>\n",
       "    </tr>\n",
       "    <tr>\n",
       "      <th>61</th>\n",
       "      <td>Подарки - Атрибутика</td>\n",
       "      <td>61</td>\n",
       "      <td>[Подарки ,  Атрибутика]</td>\n",
       "      <td>Атрибутика</td>\n",
       "    </tr>\n",
       "    <tr>\n",
       "      <th>62</th>\n",
       "      <td>Подарки - Гаджеты, роботы, спорт</td>\n",
       "      <td>62</td>\n",
       "      <td>[Подарки ,  Гаджеты, роботы, спорт]</td>\n",
       "      <td>Гаджеты, роботы, спорт</td>\n",
       "    </tr>\n",
       "    <tr>\n",
       "      <th>63</th>\n",
       "      <td>Подарки - Мягкие игрушки</td>\n",
       "      <td>63</td>\n",
       "      <td>[Подарки ,  Мягкие игрушки]</td>\n",
       "      <td>Мягкие игрушки</td>\n",
       "    </tr>\n",
       "    <tr>\n",
       "      <th>64</th>\n",
       "      <td>Подарки - Настольные игры</td>\n",
       "      <td>64</td>\n",
       "      <td>[Подарки ,  Настольные игры]</td>\n",
       "      <td>Настольные игры</td>\n",
       "    </tr>\n",
       "    <tr>\n",
       "      <th>65</th>\n",
       "      <td>Подарки - Настольные игры (компактные)</td>\n",
       "      <td>65</td>\n",
       "      <td>[Подарки ,  Настольные игры (компактные)]</td>\n",
       "      <td>Настольные игры (компактные)</td>\n",
       "    </tr>\n",
       "    <tr>\n",
       "      <th>66</th>\n",
       "      <td>Подарки - Открытки, наклейки</td>\n",
       "      <td>66</td>\n",
       "      <td>[Подарки ,  Открытки, наклейки]</td>\n",
       "      <td>Открытки, наклейки</td>\n",
       "    </tr>\n",
       "    <tr>\n",
       "      <th>67</th>\n",
       "      <td>Подарки - Развитие</td>\n",
       "      <td>67</td>\n",
       "      <td>[Подарки ,  Развитие]</td>\n",
       "      <td>Развитие</td>\n",
       "    </tr>\n",
       "    <tr>\n",
       "      <th>68</th>\n",
       "      <td>Подарки - Сертификаты, услуги</td>\n",
       "      <td>68</td>\n",
       "      <td>[Подарки ,  Сертификаты, услуги]</td>\n",
       "      <td>Сертификаты, услуги</td>\n",
       "    </tr>\n",
       "    <tr>\n",
       "      <th>69</th>\n",
       "      <td>Подарки - Сувениры</td>\n",
       "      <td>69</td>\n",
       "      <td>[Подарки ,  Сувениры]</td>\n",
       "      <td>Сувениры</td>\n",
       "    </tr>\n",
       "    <tr>\n",
       "      <th>70</th>\n",
       "      <td>Подарки - Сувениры (в навеску)</td>\n",
       "      <td>70</td>\n",
       "      <td>[Подарки ,  Сувениры (в навеску)]</td>\n",
       "      <td>Сувениры (в навеску)</td>\n",
       "    </tr>\n",
       "    <tr>\n",
       "      <th>71</th>\n",
       "      <td>Подарки - Сумки, Альбомы, Коврики д/мыши</td>\n",
       "      <td>71</td>\n",
       "      <td>[Подарки ,  Сумки, Альбомы, Коврики д/мыши]</td>\n",
       "      <td>Сумки, Альбомы, Коврики д/мыши</td>\n",
       "    </tr>\n",
       "    <tr>\n",
       "      <th>72</th>\n",
       "      <td>Подарки - Фигурки</td>\n",
       "      <td>72</td>\n",
       "      <td>[Подарки ,  Фигурки]</td>\n",
       "      <td>Фигурки</td>\n",
       "    </tr>\n",
       "    <tr>\n",
       "      <th>73</th>\n",
       "      <td>Программы - 1С:Предприятие 8</td>\n",
       "      <td>73</td>\n",
       "      <td>[Программы ,  1С:Предприятие 8]</td>\n",
       "      <td>1С:Предприятие 8</td>\n",
       "    </tr>\n",
       "    <tr>\n",
       "      <th>74</th>\n",
       "      <td>Программы - MAC (Цифра)</td>\n",
       "      <td>74</td>\n",
       "      <td>[Программы ,  MAC (Цифра)]</td>\n",
       "      <td>MAC (Цифра)</td>\n",
       "    </tr>\n",
       "    <tr>\n",
       "      <th>75</th>\n",
       "      <td>Программы - Для дома и офиса</td>\n",
       "      <td>75</td>\n",
       "      <td>[Программы ,  Для дома и офиса]</td>\n",
       "      <td>Для дома и офиса</td>\n",
       "    </tr>\n",
       "    <tr>\n",
       "      <th>76</th>\n",
       "      <td>Программы - Для дома и офиса (Цифра)</td>\n",
       "      <td>76</td>\n",
       "      <td>[Программы ,  Для дома и офиса (Цифра)]</td>\n",
       "      <td>Для дома и офиса (Цифра)</td>\n",
       "    </tr>\n",
       "    <tr>\n",
       "      <th>77</th>\n",
       "      <td>Программы - Обучающие</td>\n",
       "      <td>77</td>\n",
       "      <td>[Программы ,  Обучающие]</td>\n",
       "      <td>Обучающие</td>\n",
       "    </tr>\n",
       "    <tr>\n",
       "      <th>78</th>\n",
       "      <td>Программы - Обучающие (Цифра)</td>\n",
       "      <td>78</td>\n",
       "      <td>[Программы ,  Обучающие (Цифра)]</td>\n",
       "      <td>Обучающие (Цифра)</td>\n",
       "    </tr>\n",
       "    <tr>\n",
       "      <th>79</th>\n",
       "      <td>Служебные</td>\n",
       "      <td>79</td>\n",
       "      <td>[Служебные]</td>\n",
       "      <td>Служебные</td>\n",
       "    </tr>\n",
       "    <tr>\n",
       "      <th>80</th>\n",
       "      <td>Служебные - Билеты</td>\n",
       "      <td>80</td>\n",
       "      <td>[Служебные ,  Билеты]</td>\n",
       "      <td>Билеты</td>\n",
       "    </tr>\n",
       "    <tr>\n",
       "      <th>81</th>\n",
       "      <td>Чистые носители (шпиль)</td>\n",
       "      <td>81</td>\n",
       "      <td>[Чистые носители (шпиль)]</td>\n",
       "      <td>Чистые носители (шпиль)</td>\n",
       "    </tr>\n",
       "    <tr>\n",
       "      <th>82</th>\n",
       "      <td>Чистые носители (штучные)</td>\n",
       "      <td>82</td>\n",
       "      <td>[Чистые носители (штучные)]</td>\n",
       "      <td>Чистые носители (штучные)</td>\n",
       "    </tr>\n",
       "    <tr>\n",
       "      <th>83</th>\n",
       "      <td>Элементы питания</td>\n",
       "      <td>83</td>\n",
       "      <td>[Элементы питания]</td>\n",
       "      <td>Элементы питания</td>\n",
       "    </tr>\n",
       "  </tbody>\n",
       "</table>\n",
       "</div>"
      ],
      "text/plain": [
       "                          item_category_name  item_category_id  \\\n",
       "0                    PC - Гарнитуры/Наушники                 0   \n",
       "1                           Аксессуары - PS2                 1   \n",
       "2                           Аксессуары - PS3                 2   \n",
       "3                           Аксессуары - PS4                 3   \n",
       "4                           Аксессуары - PSP                 4   \n",
       "5                        Аксессуары - PSVita                 5   \n",
       "6                      Аксессуары - XBOX 360                 6   \n",
       "7                      Аксессуары - XBOX ONE                 7   \n",
       "8                             Билеты (Цифра)                 8   \n",
       "9                            Доставка товара                 9   \n",
       "10                     Игровые консоли - PS2                10   \n",
       "11                     Игровые консоли - PS3                11   \n",
       "12                     Игровые консоли - PS4                12   \n",
       "13                     Игровые консоли - PSP                13   \n",
       "14                  Игровые консоли - PSVita                14   \n",
       "15                Игровые консоли - XBOX 360                15   \n",
       "16                Игровые консоли - XBOX ONE                16   \n",
       "17                  Игровые консоли - Прочие                17   \n",
       "18                                Игры - PS2                18   \n",
       "19                                Игры - PS3                19   \n",
       "20                                Игры - PS4                20   \n",
       "21                                Игры - PSP                21   \n",
       "22                             Игры - PSVita                22   \n",
       "23                           Игры - XBOX 360                23   \n",
       "24                           Игры - XBOX ONE                24   \n",
       "25                 Игры - Аксессуары для игр                25   \n",
       "26                      Игры Android - Цифра                26   \n",
       "27                          Игры MAC - Цифра                27   \n",
       "28          Игры PC - Дополнительные издания                28   \n",
       "29           Игры PC - Коллекционные издания                29   \n",
       "30             Игры PC - Стандартные издания                30   \n",
       "31                           Игры PC - Цифра                31   \n",
       "32         Карты оплаты (Кино, Музыка, Игры)                32   \n",
       "33                      Карты оплаты - Live!                33   \n",
       "34              Карты оплаты - Live! (Цифра)                34   \n",
       "35                        Карты оплаты - PSN                35   \n",
       "36            Карты оплаты - Windows (Цифра)                36   \n",
       "37                            Кино - Blu-Ray                37   \n",
       "38                         Кино - Blu-Ray 3D                38   \n",
       "39                         Кино - Blu-Ray 4K                39   \n",
       "40                                Кино - DVD                40   \n",
       "41                      Кино - Коллекционное                41   \n",
       "42             Книги - Артбуки, энциклопедии                42   \n",
       "43                        Книги - Аудиокниги                43   \n",
       "44                Книги - Аудиокниги (Цифра)                44   \n",
       "45                     Книги - Аудиокниги 1С                45   \n",
       "46                 Книги - Бизнес литература                46   \n",
       "47                    Книги - Комиксы, манга                47   \n",
       "48           Книги - Компьютерная литература                48   \n",
       "49         Книги - Методические материалы 1С                49   \n",
       "50                          Книги - Открытки                50   \n",
       "51         Книги - Познавательная литература                51   \n",
       "52                      Книги - Путеводители                52   \n",
       "53         Книги - Художественная литература                53   \n",
       "54                             Книги - Цифра                54   \n",
       "55       Музыка - CD локального производства                55   \n",
       "56       Музыка - CD фирменного производства                56   \n",
       "57                              Музыка - MP3                57   \n",
       "58                            Музыка - Винил                58   \n",
       "59                Музыка - Музыкальное видео                59   \n",
       "60               Музыка - Подарочные издания                60   \n",
       "61                      Подарки - Атрибутика                61   \n",
       "62          Подарки - Гаджеты, роботы, спорт                62   \n",
       "63                  Подарки - Мягкие игрушки                63   \n",
       "64                 Подарки - Настольные игры                64   \n",
       "65    Подарки - Настольные игры (компактные)                65   \n",
       "66              Подарки - Открытки, наклейки                66   \n",
       "67                        Подарки - Развитие                67   \n",
       "68             Подарки - Сертификаты, услуги                68   \n",
       "69                        Подарки - Сувениры                69   \n",
       "70            Подарки - Сувениры (в навеску)                70   \n",
       "71  Подарки - Сумки, Альбомы, Коврики д/мыши                71   \n",
       "72                         Подарки - Фигурки                72   \n",
       "73              Программы - 1С:Предприятие 8                73   \n",
       "74                   Программы - MAC (Цифра)                74   \n",
       "75              Программы - Для дома и офиса                75   \n",
       "76      Программы - Для дома и офиса (Цифра)                76   \n",
       "77                     Программы - Обучающие                77   \n",
       "78             Программы - Обучающие (Цифра)                78   \n",
       "79                                 Служебные                79   \n",
       "80                        Служебные - Билеты                80   \n",
       "81                   Чистые носители (шпиль)                81   \n",
       "82                 Чистые носители (штучные)                82   \n",
       "83                          Элементы питания                83   \n",
       "\n",
       "                                          split  \\\n",
       "0                    [PC ,  Гарнитуры/Наушники]   \n",
       "1                           [Аксессуары ,  PS2]   \n",
       "2                           [Аксессуары ,  PS3]   \n",
       "3                           [Аксессуары ,  PS4]   \n",
       "4                           [Аксессуары ,  PSP]   \n",
       "5                        [Аксессуары ,  PSVita]   \n",
       "6                      [Аксессуары ,  XBOX 360]   \n",
       "7                      [Аксессуары ,  XBOX ONE]   \n",
       "8                              [Билеты (Цифра)]   \n",
       "9                             [Доставка товара]   \n",
       "10                     [Игровые консоли ,  PS2]   \n",
       "11                     [Игровые консоли ,  PS3]   \n",
       "12                     [Игровые консоли ,  PS4]   \n",
       "13                     [Игровые консоли ,  PSP]   \n",
       "14                  [Игровые консоли ,  PSVita]   \n",
       "15                [Игровые консоли ,  XBOX 360]   \n",
       "16                [Игровые консоли ,  XBOX ONE]   \n",
       "17                  [Игровые консоли ,  Прочие]   \n",
       "18                                [Игры ,  PS2]   \n",
       "19                                [Игры ,  PS3]   \n",
       "20                                [Игры ,  PS4]   \n",
       "21                                [Игры ,  PSP]   \n",
       "22                             [Игры ,  PSVita]   \n",
       "23                           [Игры ,  XBOX 360]   \n",
       "24                           [Игры ,  XBOX ONE]   \n",
       "25                 [Игры ,  Аксессуары для игр]   \n",
       "26                      [Игры Android ,  Цифра]   \n",
       "27                          [Игры MAC ,  Цифра]   \n",
       "28          [Игры PC ,  Дополнительные издания]   \n",
       "29           [Игры PC ,  Коллекционные издания]   \n",
       "30             [Игры PC ,  Стандартные издания]   \n",
       "31                           [Игры PC ,  Цифра]   \n",
       "32          [Карты оплаты (Кино, Музыка, Игры)]   \n",
       "33                      [Карты оплаты ,  Live!]   \n",
       "34              [Карты оплаты ,  Live! (Цифра)]   \n",
       "35                        [Карты оплаты ,  PSN]   \n",
       "36            [Карты оплаты ,  Windows (Цифра)]   \n",
       "37                           [Кино ,  Blu, Ray]   \n",
       "38                        [Кино ,  Blu, Ray 3D]   \n",
       "39                        [Кино ,  Blu, Ray 4K]   \n",
       "40                                [Кино ,  DVD]   \n",
       "41                      [Кино ,  Коллекционное]   \n",
       "42             [Книги ,  Артбуки, энциклопедии]   \n",
       "43                        [Книги ,  Аудиокниги]   \n",
       "44                [Книги ,  Аудиокниги (Цифра)]   \n",
       "45                     [Книги ,  Аудиокниги 1С]   \n",
       "46                 [Книги ,  Бизнес литература]   \n",
       "47                    [Книги ,  Комиксы, манга]   \n",
       "48           [Книги ,  Компьютерная литература]   \n",
       "49         [Книги ,  Методические материалы 1С]   \n",
       "50                          [Книги ,  Открытки]   \n",
       "51         [Книги ,  Познавательная литература]   \n",
       "52                      [Книги ,  Путеводители]   \n",
       "53         [Книги ,  Художественная литература]   \n",
       "54                             [Книги ,  Цифра]   \n",
       "55       [Музыка ,  CD локального производства]   \n",
       "56       [Музыка ,  CD фирменного производства]   \n",
       "57                              [Музыка ,  MP3]   \n",
       "58                            [Музыка ,  Винил]   \n",
       "59                [Музыка ,  Музыкальное видео]   \n",
       "60               [Музыка ,  Подарочные издания]   \n",
       "61                      [Подарки ,  Атрибутика]   \n",
       "62          [Подарки ,  Гаджеты, роботы, спорт]   \n",
       "63                  [Подарки ,  Мягкие игрушки]   \n",
       "64                 [Подарки ,  Настольные игры]   \n",
       "65    [Подарки ,  Настольные игры (компактные)]   \n",
       "66              [Подарки ,  Открытки, наклейки]   \n",
       "67                        [Подарки ,  Развитие]   \n",
       "68             [Подарки ,  Сертификаты, услуги]   \n",
       "69                        [Подарки ,  Сувениры]   \n",
       "70            [Подарки ,  Сувениры (в навеску)]   \n",
       "71  [Подарки ,  Сумки, Альбомы, Коврики д/мыши]   \n",
       "72                         [Подарки ,  Фигурки]   \n",
       "73              [Программы ,  1С:Предприятие 8]   \n",
       "74                   [Программы ,  MAC (Цифра)]   \n",
       "75              [Программы ,  Для дома и офиса]   \n",
       "76      [Программы ,  Для дома и офиса (Цифра)]   \n",
       "77                     [Программы ,  Обучающие]   \n",
       "78             [Программы ,  Обучающие (Цифра)]   \n",
       "79                                  [Служебные]   \n",
       "80                        [Служебные ,  Билеты]   \n",
       "81                    [Чистые носители (шпиль)]   \n",
       "82                  [Чистые носители (штучные)]   \n",
       "83                           [Элементы питания]   \n",
       "\n",
       "                              subtype  \n",
       "0                  Гарнитуры/Наушники  \n",
       "1                                 PS2  \n",
       "2                                 PS3  \n",
       "3                                 PS4  \n",
       "4                                 PSP  \n",
       "5                              PSVita  \n",
       "6                            XBOX 360  \n",
       "7                            XBOX ONE  \n",
       "8                      Билеты (Цифра)  \n",
       "9                     Доставка товара  \n",
       "10                                PS2  \n",
       "11                                PS3  \n",
       "12                                PS4  \n",
       "13                                PSP  \n",
       "14                             PSVita  \n",
       "15                           XBOX 360  \n",
       "16                           XBOX ONE  \n",
       "17                             Прочие  \n",
       "18                                PS2  \n",
       "19                                PS3  \n",
       "20                                PS4  \n",
       "21                                PSP  \n",
       "22                             PSVita  \n",
       "23                           XBOX 360  \n",
       "24                           XBOX ONE  \n",
       "25                 Аксессуары для игр  \n",
       "26                              Цифра  \n",
       "27                              Цифра  \n",
       "28             Дополнительные издания  \n",
       "29              Коллекционные издания  \n",
       "30                Стандартные издания  \n",
       "31                              Цифра  \n",
       "32  Карты оплаты (Кино, Музыка, Игры)  \n",
       "33                              Live!  \n",
       "34                      Live! (Цифра)  \n",
       "35                                PSN  \n",
       "36                    Windows (Цифра)  \n",
       "37                                Blu  \n",
       "38                                Blu  \n",
       "39                                Blu  \n",
       "40                                DVD  \n",
       "41                      Коллекционное  \n",
       "42              Артбуки, энциклопедии  \n",
       "43                         Аудиокниги  \n",
       "44                 Аудиокниги (Цифра)  \n",
       "45                      Аудиокниги 1С  \n",
       "46                  Бизнес литература  \n",
       "47                     Комиксы, манга  \n",
       "48            Компьютерная литература  \n",
       "49          Методические материалы 1С  \n",
       "50                           Открытки  \n",
       "51          Познавательная литература  \n",
       "52                       Путеводители  \n",
       "53          Художественная литература  \n",
       "54                              Цифра  \n",
       "55         CD локального производства  \n",
       "56         CD фирменного производства  \n",
       "57                                MP3  \n",
       "58                              Винил  \n",
       "59                  Музыкальное видео  \n",
       "60                 Подарочные издания  \n",
       "61                         Атрибутика  \n",
       "62             Гаджеты, роботы, спорт  \n",
       "63                     Мягкие игрушки  \n",
       "64                    Настольные игры  \n",
       "65       Настольные игры (компактные)  \n",
       "66                 Открытки, наклейки  \n",
       "67                           Развитие  \n",
       "68                Сертификаты, услуги  \n",
       "69                           Сувениры  \n",
       "70               Сувениры (в навеску)  \n",
       "71     Сумки, Альбомы, Коврики д/мыши  \n",
       "72                            Фигурки  \n",
       "73                   1С:Предприятие 8  \n",
       "74                        MAC (Цифра)  \n",
       "75                   Для дома и офиса  \n",
       "76           Для дома и офиса (Цифра)  \n",
       "77                          Обучающие  \n",
       "78                  Обучающие (Цифра)  \n",
       "79                          Служебные  \n",
       "80                             Билеты  \n",
       "81            Чистые носители (шпиль)  \n",
       "82          Чистые носители (штучные)  \n",
       "83                   Элементы питания  "
      ]
     },
     "execution_count": 16,
     "metadata": {},
     "output_type": "execute_result"
    }
   ],
   "source": [
    "cats"
   ]
  },
  {
   "cell_type": "markdown",
   "metadata": {},
   "source": [
    "Extract text from shopnames and category names"
   ]
  },
  {
   "cell_type": "code",
   "execution_count": 18,
   "metadata": {},
   "outputs": [],
   "source": [
    "shops.loc[shops.shop_name == 'Сергиев Посад ТЦ \"7Я\"', 'shop_name'] = 'СергиевПосад ТЦ \"7Я\"'\n",
    "shops['city'] = shops['shop_name'].str.split(' ').map(lambda x: x[0])\n",
    "shops.loc[shops.city == '!Якутск', 'city'] = 'Якутск'\n",
    "shops['city_code'] = LabelEncoder().fit_transform(shops['city'])\n",
    "shops = shops[['shop_id','city_code']]\n",
    "\n",
    "cats['split'] = cats['item_category_name'].str.split('-')\n",
    "cats['type'] = cats['split'].map(lambda x: x[0].strip())\n",
    "cats['type_code'] = LabelEncoder().fit_transform(cats['type'])\n",
    "# if subtype is nan then type\n",
    "cats['subtype'] = cats['split'].map(lambda x: x[1].strip() if len(x) > 1 else x[0].strip())\n",
    "cats['subtype_code'] = LabelEncoder().fit_transform(cats['subtype'])\n",
    "cats = cats[['item_category_id','type_code', 'subtype_code']]\n",
    "\n",
    "items.drop(['item_name'], axis=1, inplace=True)"
   ]
  },
  {
   "cell_type": "code",
   "execution_count": 27,
   "metadata": {},
   "outputs": [
    {
     "data": {
      "text/plain": [
       "363"
      ]
     },
     "execution_count": 27,
     "metadata": {},
     "output_type": "execute_result"
    },
    {
     "data": {
      "text/plain": [
       "5100"
      ]
     },
     "execution_count": 27,
     "metadata": {},
     "output_type": "execute_result"
    },
    {
     "data": {
      "text/plain": [
       "42"
      ]
     },
     "execution_count": 27,
     "metadata": {},
     "output_type": "execute_result"
    },
    {
     "data": {
      "text/plain": [
       "214200"
      ]
     },
     "execution_count": 27,
     "metadata": {},
     "output_type": "execute_result"
    }
   ],
   "source": [
    "len(list(set(test.item_id) - set(test.item_id).intersection(set(train.item_id))))\n",
    "len(list(set(test.item_id)))\n",
    "len(list(set(test.shop_id)))\n",
    "len(test)"
   ]
  },
  {
   "cell_type": "markdown",
   "metadata": {},
   "source": [
    "- There are 5100 items, 42 shop_id in test. So we have 214200 pairs.\n",
    "- Among 5100 items, there are 363 items not in train"
   ]
  },
  {
   "cell_type": "markdown",
   "metadata": {},
   "source": [
    "Our idea is to calculate monthly sales for each pair (shop_id, item_id) in each month. First we build possible pairs of them"
   ]
  },
  {
   "cell_type": "code",
   "execution_count": 29,
   "metadata": {},
   "outputs": [
    {
     "data": {
      "text/plain": [
       "8.47472882270813"
      ]
     },
     "execution_count": 29,
     "metadata": {},
     "output_type": "execute_result"
    }
   ],
   "source": [
    "ts = time.time()\n",
    "matrix = []\n",
    "cols = ['date_block_num','shop_id','item_id']\n",
    "for i in range(34):\n",
    "    sales = train[train.date_block_num==i]\n",
    "    matrix.append(np.array(list(product([i], sales.shop_id.unique(), sales.item_id.unique())), dtype='int16'))\n",
    "    \n",
    "matrix = pd.DataFrame(np.vstack(matrix), columns=cols)\n",
    "matrix['date_block_num'] = matrix['date_block_num'].astype(np.int8)\n",
    "matrix['shop_id'] = matrix['shop_id'].astype(np.int8)\n",
    "matrix['item_id'] = matrix['item_id'].astype(np.int16)\n",
    "matrix.sort_values(cols,inplace=True)\n",
    "time.time() - ts"
   ]
  },
  {
   "cell_type": "code",
   "execution_count": 61,
   "metadata": {},
   "outputs": [],
   "source": [
    "train['revenue'] = train['item_price'] *  train['item_cnt_day']"
   ]
  },
  {
   "cell_type": "markdown",
   "metadata": {},
   "source": [
    "Fill in item_cnt_month the calculated possible, otherwise replaced by 0. We also clip target here. Then we merge with test"
   ]
  },
  {
   "cell_type": "code",
   "execution_count": 62,
   "metadata": {},
   "outputs": [],
   "source": [
    "ts = time.time()\n",
    "group = train.groupby(['date_block_num','shop_id','item_id']).agg({'item_cnt_day': ['sum']})\n",
    "group.columns = ['item_cnt_month']\n",
    "group.reset_index(inplace=True)\n",
    "\n",
    "matrix = pd.merge(matrix, group, on=cols, how='left')\n",
    "matrix['item_cnt_month'] = (matrix['item_cnt_month']\n",
    "                                .fillna(0)\n",
    "                                .clip(0,20) # NB clip target here\n",
    "                                .astype(np.float16))"
   ]
  },
  {
   "cell_type": "code",
   "execution_count": 63,
   "metadata": {},
   "outputs": [],
   "source": [
    "test['date_block_num'] = 34\n",
    "test['date_block_num'] = test['date_block_num'].astype(np.int8)\n",
    "test['shop_id'] = test['shop_id'].astype(np.int8)\n",
    "test['item_id'] = test['item_id'].astype(np.int16)"
   ]
  },
  {
   "cell_type": "code",
   "execution_count": 64,
   "metadata": {},
   "outputs": [
    {
     "data": {
      "text/plain": [
       "0.05582594871520996"
      ]
     },
     "execution_count": 64,
     "metadata": {},
     "output_type": "execute_result"
    }
   ],
   "source": [
    "ts = time.time()\n",
    "matrix = pd.concat([matrix, test], ignore_index=True, sort=False, keys=cols)\n",
    "matrix.fillna(0, inplace=True) # 34 month\n",
    "time.time() - ts"
   ]
  },
  {
   "cell_type": "markdown",
   "metadata": {},
   "source": [
    "- Get features from shops, items, and cats dataframe"
   ]
  },
  {
   "cell_type": "code",
   "execution_count": 65,
   "metadata": {},
   "outputs": [
    {
     "data": {
      "text/plain": [
       "4.133298397064209"
      ]
     },
     "execution_count": 65,
     "metadata": {},
     "output_type": "execute_result"
    }
   ],
   "source": [
    "ts = time.time()\n",
    "matrix = pd.merge(matrix, shops, on=['shop_id'], how='left')\n",
    "matrix = pd.merge(matrix, items, on=['item_id'], how='left')\n",
    "matrix = pd.merge(matrix, cats, on=['item_category_id'], how='left')\n",
    "matrix['city_code'] = matrix['city_code'].astype(np.int8)\n",
    "matrix['item_category_id'] = matrix['item_category_id'].astype(np.int8)\n",
    "matrix['type_code'] = matrix['type_code'].astype(np.int8)\n",
    "matrix['subtype_code'] = matrix['subtype_code'].astype(np.int8)\n",
    "time.time() - ts"
   ]
  },
  {
   "cell_type": "markdown",
   "metadata": {},
   "source": [
    "- Create lags features: we see 1,2,3, 6, 12 previous months, how much each item in each shop is sold "
   ]
  },
  {
   "cell_type": "code",
   "execution_count": 67,
   "metadata": {},
   "outputs": [],
   "source": [
    "def lag_feature(df, lags, col):\n",
    "    tmp = df[['date_block_num','shop_id','item_id',col]]\n",
    "    for i in lags:\n",
    "        shifted = tmp.copy()\n",
    "        shifted.columns = ['date_block_num','shop_id','item_id', col+'_lag_'+str(i)]\n",
    "        shifted['date_block_num'] += i\n",
    "        df = pd.merge(df, shifted, on=['date_block_num','shop_id','item_id'], how='left')\n",
    "    return df"
   ]
  },
  {
   "cell_type": "code",
   "execution_count": 68,
   "metadata": {},
   "outputs": [
    {
     "data": {
      "text/plain": [
       "29.34387755393982"
      ]
     },
     "execution_count": 68,
     "metadata": {},
     "output_type": "execute_result"
    }
   ],
   "source": [
    "ts = time.time()\n",
    "matrix = lag_feature(matrix, [1,2,3,6,12], 'item_cnt_month')\n",
    "time.time() - ts"
   ]
  },
  {
   "cell_type": "markdown",
   "metadata": {},
   "source": [
    "#### Mean encoded features"
   ]
  },
  {
   "cell_type": "markdown",
   "metadata": {},
   "source": [
    "- Create \"mean of item_cnt_month per month\" as a feature. Then, create a lag feature for this features (1 month before)"
   ]
  },
  {
   "cell_type": "code",
   "execution_count": 74,
   "metadata": {},
   "outputs": [
    {
     "data": {
      "text/plain": [
       "9.418442487716675"
      ]
     },
     "execution_count": 74,
     "metadata": {},
     "output_type": "execute_result"
    }
   ],
   "source": [
    "ts = time.time()\n",
    "group = matrix.groupby(['date_block_num']).agg({'item_cnt_month': ['mean']})\n",
    "group.columns = [ 'date_avg_item_cnt' ]\n",
    "group.reset_index(inplace=True)\n",
    "\n",
    "matrix = pd.merge(matrix, group, on=['date_block_num'], how='left')\n",
    "matrix['date_avg_item_cnt'] = matrix['date_avg_item_cnt'].astype(np.float16)\n",
    "matrix = lag_feature(matrix, [1], 'date_avg_item_cnt')\n",
    "matrix.drop(['date_avg_item_cnt'], axis=1, inplace=True)\n",
    "time.time() - ts"
   ]
  },
  {
   "cell_type": "markdown",
   "metadata": {},
   "source": [
    "- Create a \"mean of item_cnt_month per month per item\" as a feature. Then, create a lag feature for this features. This lags feature is 1,2,3,6,12 months before"
   ]
  },
  {
   "cell_type": "code",
   "execution_count": 75,
   "metadata": {},
   "outputs": [
    {
     "data": {
      "text/plain": [
       "35.690492391586304"
      ]
     },
     "execution_count": 75,
     "metadata": {},
     "output_type": "execute_result"
    }
   ],
   "source": [
    "ts = time.time()\n",
    "group = matrix.groupby(['date_block_num', 'item_id']).agg({'item_cnt_month': ['mean']})\n",
    "group.columns = [ 'date_item_avg_item_cnt' ]\n",
    "group.reset_index(inplace=True)\n",
    "\n",
    "matrix = pd.merge(matrix, group, on=['date_block_num','item_id'], how='left')\n",
    "matrix['date_item_avg_item_cnt'] = matrix['date_item_avg_item_cnt'].astype(np.float16)\n",
    "matrix = lag_feature(matrix, [1,2,3,6,12], 'date_item_avg_item_cnt')\n",
    "matrix.drop(['date_item_avg_item_cnt'], axis=1, inplace=True)\n",
    "time.time() - ts"
   ]
  },
  {
   "cell_type": "markdown",
   "metadata": {},
   "source": [
    "- Create \"mean of item_cnt_month per month per shop\". Then, create a lag feature for this features. This lags feature is 1,2,3,6,12 months before"
   ]
  },
  {
   "cell_type": "code",
   "execution_count": 76,
   "metadata": {},
   "outputs": [
    {
     "data": {
      "text/plain": [
       "35.965574502944946"
      ]
     },
     "execution_count": 76,
     "metadata": {},
     "output_type": "execute_result"
    }
   ],
   "source": [
    "ts = time.time()\n",
    "group = matrix.groupby(['date_block_num', 'shop_id']).agg({'item_cnt_month': ['mean']})\n",
    "group.columns = [ 'date_shop_avg_item_cnt' ]\n",
    "group.reset_index(inplace=True)\n",
    "\n",
    "matrix = pd.merge(matrix, group, on=['date_block_num','shop_id'], how='left')\n",
    "matrix['date_shop_avg_item_cnt'] = matrix['date_shop_avg_item_cnt'].astype(np.float16)\n",
    "matrix = lag_feature(matrix, [1,2,3,6,12], 'date_shop_avg_item_cnt')\n",
    "matrix.drop(['date_shop_avg_item_cnt'], axis=1, inplace=True)\n",
    "time.time() - ts"
   ]
  },
  {
   "cell_type": "markdown",
   "metadata": {},
   "source": [
    "- Create \"mean of item_cnt_month per month per category\". Then, create a lag feature for this features. This lags feature is 1 month before"
   ]
  },
  {
   "cell_type": "code",
   "execution_count": 77,
   "metadata": {},
   "outputs": [
    {
     "data": {
      "text/plain": [
       "48.20929026603699"
      ]
     },
     "execution_count": 77,
     "metadata": {},
     "output_type": "execute_result"
    }
   ],
   "source": [
    "group = matrix.groupby(['date_block_num', 'item_category_id']).agg({'item_cnt_month': ['mean']})\n",
    "group.columns = [ 'date_cat_avg_item_cnt' ]\n",
    "group.reset_index(inplace=True)\n",
    "\n",
    "matrix = pd.merge(matrix, group, on=['date_block_num','item_category_id'], how='left')\n",
    "matrix['date_cat_avg_item_cnt'] = matrix['date_cat_avg_item_cnt'].astype(np.float16)\n",
    "matrix = lag_feature(matrix, [1], 'date_cat_avg_item_cnt')\n",
    "matrix.drop(['date_cat_avg_item_cnt'], axis=1, inplace=True)\n",
    "time.time() - ts"
   ]
  },
  {
   "cell_type": "markdown",
   "metadata": {},
   "source": [
    "- Create \"mean of item_cnt_month per month per shop per category\". Then, create a lag feature for this features. This lags feature is 1 month before"
   ]
  },
  {
   "cell_type": "code",
   "execution_count": 78,
   "metadata": {},
   "outputs": [
    {
     "data": {
      "text/plain": [
       "13.168920993804932"
      ]
     },
     "execution_count": 78,
     "metadata": {},
     "output_type": "execute_result"
    }
   ],
   "source": [
    "ts = time.time()\n",
    "group = matrix.groupby(['date_block_num', 'shop_id', 'item_category_id']).agg({'item_cnt_month': ['mean']})\n",
    "group.columns = ['date_shop_cat_avg_item_cnt']\n",
    "group.reset_index(inplace=True)\n",
    "\n",
    "matrix = pd.merge(matrix, group, on=['date_block_num', 'shop_id', 'item_category_id'], how='left')\n",
    "matrix['date_shop_cat_avg_item_cnt'] = matrix['date_shop_cat_avg_item_cnt'].astype(np.float16)\n",
    "matrix = lag_feature(matrix, [1], 'date_shop_cat_avg_item_cnt')\n",
    "matrix.drop(['date_shop_cat_avg_item_cnt'], axis=1, inplace=True)\n",
    "time.time() - ts"
   ]
  },
  {
   "cell_type": "markdown",
   "metadata": {},
   "source": [
    "- Create \"mean of item_cnt_month per month per shop per code\". Then, create a lag feature for this features. This lags feature is 1 month before"
   ]
  },
  {
   "cell_type": "code",
   "execution_count": 79,
   "metadata": {},
   "outputs": [
    {
     "data": {
      "text/plain": [
       "13.306899070739746"
      ]
     },
     "execution_count": 79,
     "metadata": {},
     "output_type": "execute_result"
    }
   ],
   "source": [
    "ts = time.time()\n",
    "group = matrix.groupby(['date_block_num', 'shop_id', 'type_code']).agg({'item_cnt_month': ['mean']})\n",
    "group.columns = ['date_shop_type_avg_item_cnt']\n",
    "group.reset_index(inplace=True)\n",
    "\n",
    "matrix = pd.merge(matrix, group, on=['date_block_num', 'shop_id', 'type_code'], how='left')\n",
    "matrix['date_shop_type_avg_item_cnt'] = matrix['date_shop_type_avg_item_cnt'].astype(np.float16)\n",
    "matrix = lag_feature(matrix, [1], 'date_shop_type_avg_item_cnt')\n",
    "matrix.drop(['date_shop_type_avg_item_cnt'], axis=1, inplace=True)\n",
    "time.time() - ts"
   ]
  },
  {
   "cell_type": "markdown",
   "metadata": {},
   "source": [
    "- Create \"mean of item_cnt_month per month per shop per subtype_code\". Then, create a lag feature for this features."
   ]
  },
  {
   "cell_type": "code",
   "execution_count": 80,
   "metadata": {},
   "outputs": [
    {
     "data": {
      "text/plain": [
       "13.320612668991089"
      ]
     },
     "execution_count": 80,
     "metadata": {},
     "output_type": "execute_result"
    }
   ],
   "source": [
    "ts = time.time()\n",
    "group = matrix.groupby(['date_block_num', 'shop_id', 'subtype_code']).agg({'item_cnt_month': ['mean']})\n",
    "group.columns = ['date_shop_subtype_avg_item_cnt']\n",
    "group.reset_index(inplace=True)\n",
    "\n",
    "matrix = pd.merge(matrix, group, on=['date_block_num', 'shop_id', 'subtype_code'], how='left')\n",
    "matrix['date_shop_subtype_avg_item_cnt'] = matrix['date_shop_subtype_avg_item_cnt'].astype(np.float16)\n",
    "matrix = lag_feature(matrix, [1], 'date_shop_subtype_avg_item_cnt')\n",
    "matrix.drop(['date_shop_subtype_avg_item_cnt'], axis=1, inplace=True)\n",
    "time.time() - ts"
   ]
  },
  {
   "cell_type": "markdown",
   "metadata": {},
   "source": [
    "- Create \"mean of item_cnt_month per month per city\". Then, create a lag feature for this features."
   ]
  },
  {
   "cell_type": "code",
   "execution_count": 81,
   "metadata": {},
   "outputs": [
    {
     "data": {
      "text/plain": [
       "13.26701283454895"
      ]
     },
     "execution_count": 81,
     "metadata": {},
     "output_type": "execute_result"
    }
   ],
   "source": [
    "ts = time.time()\n",
    "group = matrix.groupby(['date_block_num', 'city_code']).agg({'item_cnt_month': ['mean']})\n",
    "group.columns = [ 'date_city_avg_item_cnt' ]\n",
    "group.reset_index(inplace=True)\n",
    "\n",
    "matrix = pd.merge(matrix, group, on=['date_block_num', 'city_code'], how='left')\n",
    "matrix['date_city_avg_item_cnt'] = matrix['date_city_avg_item_cnt'].astype(np.float16)\n",
    "matrix = lag_feature(matrix, [1], 'date_city_avg_item_cnt')\n",
    "matrix.drop(['date_city_avg_item_cnt'], axis=1, inplace=True)\n",
    "time.time() - ts"
   ]
  },
  {
   "cell_type": "markdown",
   "metadata": {},
   "source": [
    "- Create \"mean of item_cnt_month per item per city\". Then, create a lag feature for this features."
   ]
  },
  {
   "cell_type": "code",
   "execution_count": 82,
   "metadata": {},
   "outputs": [
    {
     "data": {
      "text/plain": [
       "19.89173173904419"
      ]
     },
     "execution_count": 82,
     "metadata": {},
     "output_type": "execute_result"
    }
   ],
   "source": [
    "ts = time.time()\n",
    "group = matrix.groupby(['date_block_num', 'item_id', 'city_code']).agg({'item_cnt_month': ['mean']})\n",
    "group.columns = [ 'date_item_city_avg_item_cnt' ]\n",
    "group.reset_index(inplace=True)\n",
    "\n",
    "matrix = pd.merge(matrix, group, on=['date_block_num', 'item_id', 'city_code'], how='left')\n",
    "matrix['date_item_city_avg_item_cnt'] = matrix['date_item_city_avg_item_cnt'].astype(np.float16)\n",
    "matrix = lag_feature(matrix, [1], 'date_item_city_avg_item_cnt')\n",
    "matrix.drop(['date_item_city_avg_item_cnt'], axis=1, inplace=True)\n",
    "time.time() - ts"
   ]
  },
  {
   "cell_type": "markdown",
   "metadata": {},
   "source": [
    "- Create \"mean of item_cnt_month per momth per type_code\". Then, create a lag feature for this features."
   ]
  },
  {
   "cell_type": "code",
   "execution_count": 83,
   "metadata": {},
   "outputs": [
    {
     "data": {
      "text/plain": [
       "41.42019248008728"
      ]
     },
     "execution_count": 83,
     "metadata": {},
     "output_type": "execute_result"
    }
   ],
   "source": [
    "group = matrix.groupby(['date_block_num', 'type_code']).agg({'item_cnt_month': ['mean']})\n",
    "group.columns = [ 'date_type_avg_item_cnt' ]\n",
    "group.reset_index(inplace=True)\n",
    "\n",
    "matrix = pd.merge(matrix, group, on=['date_block_num', 'type_code'], how='left')\n",
    "matrix['date_type_avg_item_cnt'] = matrix['date_type_avg_item_cnt'].astype(np.float16)\n",
    "matrix = lag_feature(matrix, [1], 'date_type_avg_item_cnt')\n",
    "matrix.drop(['date_type_avg_item_cnt'], axis=1, inplace=True)\n",
    "time.time() - ts"
   ]
  },
  {
   "cell_type": "markdown",
   "metadata": {},
   "source": [
    "- Create \"mean of item_cnt_month per momth per subtype_code\". Then, create a lag feature for this features."
   ]
  },
  {
   "cell_type": "code",
   "execution_count": 84,
   "metadata": {},
   "outputs": [
    {
     "data": {
      "text/plain": [
       "61.73984098434448"
      ]
     },
     "execution_count": 84,
     "metadata": {},
     "output_type": "execute_result"
    }
   ],
   "source": [
    "group = matrix.groupby(['date_block_num', 'subtype_code']).agg({'item_cnt_month': ['mean']})\n",
    "group.columns = [ 'date_subtype_avg_item_cnt' ]\n",
    "group.reset_index(inplace=True)\n",
    "\n",
    "matrix = pd.merge(matrix, group, on=['date_block_num', 'subtype_code'], how='left')\n",
    "matrix['date_subtype_avg_item_cnt'] = matrix['date_subtype_avg_item_cnt'].astype(np.float16)\n",
    "matrix = lag_feature(matrix, [1], 'date_subtype_avg_item_cnt')\n",
    "matrix.drop(['date_subtype_avg_item_cnt'], axis=1, inplace=True)\n",
    "time.time() - ts"
   ]
  },
  {
   "cell_type": "markdown",
   "metadata": {},
   "source": [
    "#### Trend features"
   ]
  },
  {
   "cell_type": "code",
   "execution_count": 85,
   "metadata": {},
   "outputs": [
    {
     "data": {
      "text/plain": [
       "206.2875781059265"
      ]
     },
     "execution_count": 85,
     "metadata": {},
     "output_type": "execute_result"
    }
   ],
   "source": [
    "ts = time.time()\n",
    "# add \"price mean per item\"\n",
    "group = train.groupby(['item_id']).agg({'item_price': ['mean']})\n",
    "group.columns = ['item_avg_item_price']\n",
    "group.reset_index(inplace=True)\n",
    "\n",
    "matrix = pd.merge(matrix, group, on=['item_id'], how='left')\n",
    "matrix['item_avg_item_price'] = matrix['item_avg_item_price'].astype(np.float16)\n",
    "\n",
    "# add \"price mean per month per item\"\n",
    "group = train.groupby(['date_block_num','item_id']).agg({'item_price': ['mean']})\n",
    "group.columns = ['date_item_avg_item_price']\n",
    "group.reset_index(inplace=True)\n",
    "\n",
    "matrix = pd.merge(matrix, group, on=['date_block_num','item_id'], how='left')\n",
    "matrix['date_item_avg_item_price'] = matrix['date_item_avg_item_price'].astype(np.float16)\n",
    "\n",
    "# add lag features for \"price mean per month per item\"\n",
    "lags = [1,2,3,4,5,6]\n",
    "matrix = lag_feature(matrix, lags, 'date_item_avg_item_price')\n",
    "\n",
    "for i in lags:\n",
    "    matrix['delta_price_lag_'+str(i)] = \\\n",
    "        (matrix['date_item_avg_item_price_lag_'+str(i)] - matrix['item_avg_item_price']) / matrix['item_avg_item_price']\n",
    "\n",
    "def select_trend(row):\n",
    "    for i in lags:\n",
    "        if row['delta_price_lag_'+str(i)]:\n",
    "            return row['delta_price_lag_'+str(i)]\n",
    "    return 0\n",
    "    \n",
    "matrix['delta_price_lag'] = matrix.apply(select_trend, axis=1)\n",
    "matrix['delta_price_lag'] = matrix['delta_price_lag'].astype(np.float16)\n",
    "matrix['delta_price_lag'].fillna(0, inplace=True)\n",
    "\n",
    "# https://stackoverflow.com/questions/31828240/first-non-null-value-per-row-from-a-list-of-pandas-columns/31828559\n",
    "# matrix['price_trend'] = matrix[['delta_price_lag_1','delta_price_lag_2','delta_price_lag_3']].bfill(axis=1).iloc[:, 0]\n",
    "# Invalid dtype for backfill_2d [float16]\n",
    "\n",
    "fetures_to_drop = ['item_avg_item_price', 'date_item_avg_item_price']\n",
    "for i in lags:\n",
    "    fetures_to_drop += ['date_item_avg_item_price_lag_'+str(i)]\n",
    "    fetures_to_drop += ['delta_price_lag_'+str(i)]\n",
    "\n",
    "matrix.drop(fetures_to_drop, axis=1, inplace=True)\n",
    "\n",
    "time.time() - ts"
   ]
  },
  {
   "cell_type": "code",
   "execution_count": 86,
   "metadata": {},
   "outputs": [
    {
     "data": {
      "text/plain": [
       "16.247005224227905"
      ]
     },
     "execution_count": 86,
     "metadata": {},
     "output_type": "execute_result"
    }
   ],
   "source": [
    "ts = time.time()\n",
    "# create \"revenue per month per shop\"\n",
    "group = train.groupby(['date_block_num','shop_id']).agg({'revenue': ['sum']})\n",
    "group.columns = ['date_shop_revenue']\n",
    "group.reset_index(inplace=True)\n",
    "\n",
    "matrix = pd.merge(matrix, group, on=['date_block_num','shop_id'], how='left')\n",
    "matrix['date_shop_revenue'] = matrix['date_shop_revenue'].astype(np.float32)\n",
    "\n",
    "# create \"revenue per shop\"\n",
    "group = group.groupby(['shop_id']).agg({'date_shop_revenue': ['mean']})\n",
    "group.columns = ['shop_avg_revenue']\n",
    "group.reset_index(inplace=True)\n",
    "\n",
    "matrix = pd.merge(matrix, group, on=['shop_id'], how='left')\n",
    "matrix['shop_avg_revenue'] = matrix['shop_avg_revenue'].astype(np.float32)\n",
    "\n",
    "matrix['delta_revenue'] = (matrix['date_shop_revenue'] - matrix['shop_avg_revenue']) / matrix['shop_avg_revenue']\n",
    "matrix['delta_revenue'] = matrix['delta_revenue'].astype(np.float16)\n",
    "\n",
    "matrix = lag_feature(matrix, [1], 'delta_revenue')\n",
    "\n",
    "matrix.drop(['date_shop_revenue','shop_avg_revenue','delta_revenue'], axis=1, inplace=True)\n",
    "time.time() - ts"
   ]
  },
  {
   "cell_type": "markdown",
   "metadata": {},
   "source": [
    "#### Special features"
   ]
  },
  {
   "cell_type": "markdown",
   "metadata": {},
   "source": [
    "- create \"month\" feature"
   ]
  },
  {
   "cell_type": "code",
   "execution_count": 87,
   "metadata": {},
   "outputs": [],
   "source": [
    "matrix['month'] = matrix['date_block_num'] % 12"
   ]
  },
  {
   "cell_type": "markdown",
   "metadata": {},
   "source": [
    "- Number of days in a month"
   ]
  },
  {
   "cell_type": "code",
   "execution_count": 88,
   "metadata": {},
   "outputs": [],
   "source": [
    "days = pd.Series([31,28,31,30,31,30,31,31,30,31,30,31])\n",
    "matrix['days'] = matrix['month'].map(days).astype(np.int8)"
   ]
  },
  {
   "cell_type": "markdown",
   "metadata": {},
   "source": [
    "- Months since the last sale for each shop/item pair and for item only"
   ]
  },
  {
   "cell_type": "code",
   "execution_count": 89,
   "metadata": {},
   "outputs": [
    {
     "data": {
      "text/plain": [
       "789.879745721817"
      ]
     },
     "execution_count": 89,
     "metadata": {},
     "output_type": "execute_result"
    },
    {
     "data": {
      "text/plain": [
       "514.6866807937622"
      ]
     },
     "execution_count": 89,
     "metadata": {},
     "output_type": "execute_result"
    }
   ],
   "source": [
    "ts = time.time()\n",
    "cache = {}\n",
    "matrix['item_shop_last_sale'] = -1\n",
    "matrix['item_shop_last_sale'] = matrix['item_shop_last_sale'].astype(np.int8)\n",
    "for idx, row in matrix.iterrows():    \n",
    "    key = str(row.item_id)+' '+str(row.shop_id)\n",
    "    if key not in cache:\n",
    "        if row.item_cnt_month!=0:\n",
    "            cache[key] = row.date_block_num\n",
    "    else:\n",
    "        last_date_block_num = cache[key]\n",
    "        matrix.at[idx, 'item_shop_last_sale'] = row.date_block_num - last_date_block_num\n",
    "        cache[key] = row.date_block_num         \n",
    "time.time() - ts\n",
    "\n",
    "ts = time.time()\n",
    "cache = {}\n",
    "matrix['item_last_sale'] = -1\n",
    "matrix['item_last_sale'] = matrix['item_last_sale'].astype(np.int8)\n",
    "for idx, row in matrix.iterrows():    \n",
    "    key = row.item_id\n",
    "    if key not in cache:\n",
    "        if row.item_cnt_month!=0:\n",
    "            cache[key] = row.date_block_num\n",
    "    else:\n",
    "        last_date_block_num = cache[key]\n",
    "        if row.date_block_num>last_date_block_num:\n",
    "            matrix.at[idx, 'item_last_sale'] = row.date_block_num - last_date_block_num\n",
    "            cache[key] = row.date_block_num         \n",
    "time.time() - ts"
   ]
  },
  {
   "cell_type": "markdown",
   "metadata": {},
   "source": [
    "- Months since the first sale for each shop/item pair and for item only."
   ]
  },
  {
   "cell_type": "code",
   "execution_count": 90,
   "metadata": {},
   "outputs": [
    {
     "data": {
      "text/plain": [
       "2.3562936782836914"
      ]
     },
     "execution_count": 90,
     "metadata": {},
     "output_type": "execute_result"
    }
   ],
   "source": [
    "ts = time.time()\n",
    "matrix['item_shop_first_sale'] = matrix['date_block_num'] - matrix.groupby(['item_id','shop_id'])['date_block_num'].transform('min')\n",
    "matrix['item_first_sale'] = matrix['date_block_num'] - matrix.groupby('item_id')['date_block_num'].transform('min')\n",
    "time.time() - ts"
   ]
  },
  {
   "cell_type": "markdown",
   "metadata": {},
   "source": [
    "- Because of the using 12 as lag value, we drop first 12 months. Also drop all the columns with this month calculated values (other words which can not be calcucated for the test set)"
   ]
  },
  {
   "cell_type": "code",
   "execution_count": 91,
   "metadata": {},
   "outputs": [
    {
     "data": {
      "text/plain": [
       "0.8561856746673584"
      ]
     },
     "execution_count": 91,
     "metadata": {},
     "output_type": "execute_result"
    }
   ],
   "source": [
    "ts = time.time()\n",
    "matrix = matrix[matrix.date_block_num > 11]\n",
    "time.time() - ts"
   ]
  },
  {
   "cell_type": "markdown",
   "metadata": {},
   "source": [
    "- Fill places where null are a lot"
   ]
  },
  {
   "cell_type": "code",
   "execution_count": 92,
   "metadata": {},
   "outputs": [
    {
     "data": {
      "text/plain": [
       "3.781978130340576"
      ]
     },
     "execution_count": 92,
     "metadata": {},
     "output_type": "execute_result"
    }
   ],
   "source": [
    "ts = time.time()\n",
    "def fill_na(df):\n",
    "    for col in df.columns:\n",
    "        if ('_lag_' in col) & (df[col].isnull().any()):\n",
    "            if ('item_cnt' in col):\n",
    "                df[col].fillna(0, inplace=True)         \n",
    "    return df\n",
    "\n",
    "matrix = fill_na(matrix)\n",
    "time.time() - ts"
   ]
  },
  {
   "cell_type": "code",
   "execution_count": 104,
   "metadata": {},
   "outputs": [
    {
     "data": {
      "text/plain": [
       "Index(['date_block_num', 'shop_id', 'item_id', 'item_cnt_month', 'city_code',\n",
       "       'item_category_id', 'type_code', 'subtype_code', 'item_cnt_month_lag_1',\n",
       "       'item_cnt_month_lag_2', 'item_cnt_month_lag_3', 'item_cnt_month_lag_6',\n",
       "       'item_cnt_month_lag_12', 'date_avg_item_cnt_lag_1_x',\n",
       "       'date_item_avg_item_cnt_lag_1', 'date_item_avg_item_cnt_lag_2',\n",
       "       'date_item_avg_item_cnt_lag_3', 'date_item_avg_item_cnt_lag_6',\n",
       "       'date_item_avg_item_cnt_lag_12', 'date_shop_avg_item_cnt_lag_1',\n",
       "       'date_shop_avg_item_cnt_lag_2', 'date_shop_avg_item_cnt_lag_3',\n",
       "       'date_shop_avg_item_cnt_lag_6', 'date_shop_avg_item_cnt_lag_12',\n",
       "       'date_cat_avg_item_cnt_lag_1', 'date_shop_cat_avg_item_cnt_lag_1',\n",
       "       'date_shop_type_avg_item_cnt_lag_1',\n",
       "       'date_shop_subtype_avg_item_cnt_lag_1', 'date_city_avg_item_cnt_lag_1',\n",
       "       'date_item_city_avg_item_cnt_lag_1', 'date_type_avg_item_cnt_lag_1',\n",
       "       'date_subtype_avg_item_cnt_lag_1', 'delta_price_lag',\n",
       "       'delta_revenue_lag_1', 'month', 'days', 'item_shop_last_sale',\n",
       "       'item_last_sale', 'item_shop_first_sale', 'item_first_sale'],\n",
       "      dtype='object')"
      ]
     },
     "execution_count": 104,
     "metadata": {},
     "output_type": "execute_result"
    }
   ],
   "source": [
    "matrix.columns"
   ]
  },
  {
   "cell_type": "code",
   "execution_count": 107,
   "metadata": {},
   "outputs": [],
   "source": [
    "matrix.rename(columns = {\"date_avg_item_cnt_lag_1_x\":\"date_avg_item_cnt_lag_1\"}, inplace = True)"
   ]
  },
  {
   "cell_type": "code",
   "execution_count": 108,
   "metadata": {},
   "outputs": [
    {
     "name": "stdout",
     "output_type": "stream",
     "text": [
      "<class 'pandas.core.frame.DataFrame'>\n",
      "Int64Index: 6639294 entries, 4488710 to 11128003\n",
      "Data columns (total 40 columns):\n",
      "date_block_num                          int8\n",
      "shop_id                                 int8\n",
      "item_id                                 int16\n",
      "item_cnt_month                          float16\n",
      "city_code                               int8\n",
      "item_category_id                        int8\n",
      "type_code                               int8\n",
      "subtype_code                            int8\n",
      "item_cnt_month_lag_1                    float16\n",
      "item_cnt_month_lag_2                    float16\n",
      "item_cnt_month_lag_3                    float16\n",
      "item_cnt_month_lag_6                    float16\n",
      "item_cnt_month_lag_12                   float16\n",
      "date_avg_item_cnt_lag_1                 float16\n",
      "date_item_avg_item_cnt_lag_1            float16\n",
      "date_item_avg_item_cnt_lag_2            float16\n",
      "date_item_avg_item_cnt_lag_3            float16\n",
      "date_item_avg_item_cnt_lag_6            float16\n",
      "date_item_avg_item_cnt_lag_12           float16\n",
      "date_shop_avg_item_cnt_lag_1            float16\n",
      "date_shop_avg_item_cnt_lag_2            float16\n",
      "date_shop_avg_item_cnt_lag_3            float16\n",
      "date_shop_avg_item_cnt_lag_6            float16\n",
      "date_shop_avg_item_cnt_lag_12           float16\n",
      "date_cat_avg_item_cnt_lag_1             float16\n",
      "date_shop_cat_avg_item_cnt_lag_1        float16\n",
      "date_shop_type_avg_item_cnt_lag_1       float16\n",
      "date_shop_subtype_avg_item_cnt_lag_1    float16\n",
      "date_city_avg_item_cnt_lag_1            float16\n",
      "date_item_city_avg_item_cnt_lag_1       float16\n",
      "date_type_avg_item_cnt_lag_1            float16\n",
      "date_subtype_avg_item_cnt_lag_1         float16\n",
      "delta_price_lag                         float16\n",
      "delta_revenue_lag_1                     float16\n",
      "month                                   int8\n",
      "days                                    int8\n",
      "item_shop_last_sale                     int8\n",
      "item_last_sale                          int8\n",
      "item_shop_first_sale                    int8\n",
      "item_first_sale                         int8\n",
      "dtypes: float16(27), int16(1), int8(12)\n",
      "memory usage: 481.2 MB\n"
     ]
    }
   ],
   "source": [
    "matrix.info()"
   ]
  },
  {
   "cell_type": "code",
   "execution_count": 109,
   "metadata": {},
   "outputs": [],
   "source": [
    "matrix.to_pickle('../results/10/data.pkl')"
   ]
  },
  {
   "cell_type": "markdown",
   "metadata": {},
   "source": [
    "### Xgboost"
   ]
  },
  {
   "cell_type": "code",
   "execution_count": 110,
   "metadata": {},
   "outputs": [],
   "source": [
    "data = pd.read_pickle('../results/10/data.pkl')"
   ]
  },
  {
   "cell_type": "code",
   "execution_count": 111,
   "metadata": {},
   "outputs": [],
   "source": [
    "data = data[[\n",
    "    'date_block_num',\n",
    "    'shop_id',\n",
    "    'item_id',\n",
    "    'item_cnt_month',\n",
    "    'city_code',\n",
    "    'item_category_id',\n",
    "    'type_code',\n",
    "    'subtype_code',\n",
    "    'item_cnt_month_lag_1',\n",
    "    'item_cnt_month_lag_2',\n",
    "    'item_cnt_month_lag_3',\n",
    "    'item_cnt_month_lag_6',\n",
    "    'item_cnt_month_lag_12',\n",
    "    'date_avg_item_cnt_lag_1',\n",
    "    'date_item_avg_item_cnt_lag_1',\n",
    "    'date_item_avg_item_cnt_lag_2',\n",
    "    'date_item_avg_item_cnt_lag_3',\n",
    "    'date_item_avg_item_cnt_lag_6',\n",
    "    'date_item_avg_item_cnt_lag_12',\n",
    "    'date_shop_avg_item_cnt_lag_1',\n",
    "    'date_shop_avg_item_cnt_lag_2',\n",
    "    'date_shop_avg_item_cnt_lag_3',\n",
    "    'date_shop_avg_item_cnt_lag_6',\n",
    "    'date_shop_avg_item_cnt_lag_12',\n",
    "    'date_cat_avg_item_cnt_lag_1',\n",
    "    'date_shop_cat_avg_item_cnt_lag_1',\n",
    "    #'date_shop_type_avg_item_cnt_lag_1',\n",
    "    #'date_shop_subtype_avg_item_cnt_lag_1',\n",
    "    'date_city_avg_item_cnt_lag_1',\n",
    "    'date_item_city_avg_item_cnt_lag_1',\n",
    "    #'date_type_avg_item_cnt_lag_1',\n",
    "    #'date_subtype_avg_item_cnt_lag_1',\n",
    "    'delta_price_lag',\n",
    "    'month',\n",
    "    'days',\n",
    "    'item_shop_last_sale',\n",
    "    'item_last_sale',\n",
    "    'item_shop_first_sale',\n",
    "    'item_first_sale',\n",
    "]]"
   ]
  },
  {
   "cell_type": "code",
   "execution_count": 112,
   "metadata": {},
   "outputs": [],
   "source": [
    "X_train = data[data.date_block_num < 33].drop(['item_cnt_month'], axis=1)\n",
    "Y_train = data[data.date_block_num < 33]['item_cnt_month']\n",
    "X_valid = data[data.date_block_num == 33].drop(['item_cnt_month'], axis=1)\n",
    "Y_valid = data[data.date_block_num == 33]['item_cnt_month']\n",
    "X_test = data[data.date_block_num == 34].drop(['item_cnt_month'], axis=1)"
   ]
  },
  {
   "cell_type": "code",
   "execution_count": 121,
   "metadata": {},
   "outputs": [
    {
     "ename": "NameError",
     "evalue": "name 'data' is not defined",
     "output_type": "error",
     "traceback": [
      "\u001b[1;31m---------------------------------------------------------------------------\u001b[0m",
      "\u001b[1;31mNameError\u001b[0m                                 Traceback (most recent call last)",
      "\u001b[1;32m<ipython-input-121-8f807740ac8f>\u001b[0m in \u001b[0;36m<module>\u001b[1;34m\u001b[0m\n\u001b[1;32m----> 1\u001b[1;33m \u001b[1;32mdel\u001b[0m \u001b[0mdata\u001b[0m\u001b[1;33m\u001b[0m\u001b[1;33m\u001b[0m\u001b[0m\n\u001b[0m\u001b[0;32m      2\u001b[0m \u001b[0mgc\u001b[0m\u001b[1;33m.\u001b[0m\u001b[0mcollect\u001b[0m\u001b[1;33m(\u001b[0m\u001b[1;33m)\u001b[0m\u001b[1;33m;\u001b[0m\u001b[1;33m\u001b[0m\u001b[1;33m\u001b[0m\u001b[0m\n",
      "\u001b[1;31mNameError\u001b[0m: name 'data' is not defined"
     ]
    }
   ],
   "source": [
    "del data\n",
    "gc.collect();"
   ]
  },
  {
   "cell_type": "code",
   "execution_count": null,
   "metadata": {
    "scrolled": true
   },
   "outputs": [
    {
     "name": "stdout",
     "output_type": "stream",
     "text": [
      "[23:44:49] WARNING: src/objective/regression_obj.cu:152: reg:linear is now deprecated in favor of reg:squarederror.\n",
      "[23:44:49] WARNING: src/learner.cc:686: Tree method is automatically selected to be 'approx' for faster speed. To use old behavior (exact greedy algorithm on single machine), set tree_method to 'exact'.\n",
      "[0]\tvalidation_0-rmse:1.12102\tvalidation_1-rmse:1.1163\n",
      "Multiple eval metrics have been passed: 'validation_1-rmse' will be used for early stopping.\n",
      "\n",
      "Will train until validation_1-rmse hasn't improved in 10 rounds.\n",
      "[1]\tvalidation_0-rmse:1.08079\tvalidation_1-rmse:1.08211\n",
      "[2]\tvalidation_0-rmse:1.04596\tvalidation_1-rmse:1.05137\n",
      "[3]\tvalidation_0-rmse:0.999944\tvalidation_1-rmse:1.02544\n",
      "[4]\tvalidation_0-rmse:0.972205\tvalidation_1-rmse:1.00433\n",
      "[5]\tvalidation_0-rmse:0.949029\tvalidation_1-rmse:0.985187\n",
      "[6]\tvalidation_0-rmse:0.927792\tvalidation_1-rmse:0.969247\n",
      "[7]\tvalidation_0-rmse:0.907394\tvalidation_1-rmse:0.956434\n",
      "[8]\tvalidation_0-rmse:0.892092\tvalidation_1-rmse:0.947996\n",
      "[9]\tvalidation_0-rmse:0.879606\tvalidation_1-rmse:0.940596\n",
      "[10]\tvalidation_0-rmse:0.868782\tvalidation_1-rmse:0.934682\n",
      "[11]\tvalidation_0-rmse:0.859302\tvalidation_1-rmse:0.929148\n",
      "[12]\tvalidation_0-rmse:0.852033\tvalidation_1-rmse:0.92465\n",
      "[13]\tvalidation_0-rmse:0.845397\tvalidation_1-rmse:0.920637\n",
      "[14]\tvalidation_0-rmse:0.839451\tvalidation_1-rmse:0.918209\n",
      "[15]\tvalidation_0-rmse:0.834753\tvalidation_1-rmse:0.916599\n",
      "[16]\tvalidation_0-rmse:0.829796\tvalidation_1-rmse:0.915524\n",
      "[17]\tvalidation_0-rmse:0.825521\tvalidation_1-rmse:0.912792\n",
      "[18]\tvalidation_0-rmse:0.821841\tvalidation_1-rmse:0.911312\n",
      "[19]\tvalidation_0-rmse:0.819296\tvalidation_1-rmse:0.910785\n",
      "[20]\tvalidation_0-rmse:0.8165\tvalidation_1-rmse:0.909886\n",
      "[21]\tvalidation_0-rmse:0.814095\tvalidation_1-rmse:0.908465\n",
      "[22]\tvalidation_0-rmse:0.811368\tvalidation_1-rmse:0.907541\n",
      "[23]\tvalidation_0-rmse:0.809291\tvalidation_1-rmse:0.906678\n",
      "[24]\tvalidation_0-rmse:0.807149\tvalidation_1-rmse:0.905152\n",
      "[25]\tvalidation_0-rmse:0.805412\tvalidation_1-rmse:0.904879\n",
      "[26]\tvalidation_0-rmse:0.803892\tvalidation_1-rmse:0.904508\n",
      "[27]\tvalidation_0-rmse:0.801942\tvalidation_1-rmse:0.903813\n",
      "[28]\tvalidation_0-rmse:0.800427\tvalidation_1-rmse:0.903534\n",
      "[29]\tvalidation_0-rmse:0.798704\tvalidation_1-rmse:0.903109\n",
      "[30]\tvalidation_0-rmse:0.796981\tvalidation_1-rmse:0.902649\n",
      "[31]\tvalidation_0-rmse:0.795229\tvalidation_1-rmse:0.904629\n",
      "[32]\tvalidation_0-rmse:0.79427\tvalidation_1-rmse:0.904487\n",
      "[33]\tvalidation_0-rmse:0.79294\tvalidation_1-rmse:0.904347\n",
      "[34]\tvalidation_0-rmse:0.791159\tvalidation_1-rmse:0.904699\n",
      "[35]\tvalidation_0-rmse:0.790015\tvalidation_1-rmse:0.905031\n",
      "[36]\tvalidation_0-rmse:0.789303\tvalidation_1-rmse:0.904936\n"
     ]
    }
   ],
   "source": [
    "ts = time.time()\n",
    "\n",
    "model = XGBRegressor(\n",
    "    max_depth=11,\n",
    "    n_estimators=1500,\n",
    "    min_child_weight=300, \n",
    "    colsample_bytree=0.8, \n",
    "    subsample=0.8, \n",
    "    eta=0.1,    \n",
    "    seed=42)\n",
    "\n",
    "model.fit(\n",
    "    X_train, \n",
    "    Y_train, \n",
    "    eval_metric=\"rmse\", \n",
    "    eval_set=[(X_train, Y_train), (X_valid, Y_valid)], \n",
    "    verbose=True, \n",
    "    early_stopping_rounds = 10)\n",
    "\n",
    "time.time() - ts"
   ]
  },
  {
   "cell_type": "code",
   "execution_count": null,
   "metadata": {},
   "outputs": [],
   "source": [
    "test  = pd.read_csv('../data/test.csv').set_index('ID')"
   ]
  },
  {
   "cell_type": "code",
   "execution_count": null,
   "metadata": {},
   "outputs": [],
   "source": [
    "Y_pred = model.predict(X_valid).clip(0, 20)\n",
    "Y_test = model.predict(X_test).clip(0, 20)\n",
    "\n",
    "submission = pd.DataFrame({\n",
    "    \"ID\": test.index, \n",
    "    \"item_cnt_month\": Y_test\n",
    "})\n",
    "submission.to_csv('../results/10/10.csv', index=False)\n",
    "\n",
    "# save predictions for an ensemble\n",
    "pickle.dump(Y_pred, open('../results/10/xgb_train.pickle', 'wb'))\n",
    "pickle.dump(Y_test, open('../results/10/xgb_test.pickle', 'wb'))"
   ]
  },
  {
   "cell_type": "code",
   "execution_count": null,
   "metadata": {},
   "outputs": [],
   "source": [
    "pickle.dump(model, open(\"../results/10/model.pickle\",\"wb\"))"
   ]
  },
  {
   "cell_type": "code",
   "execution_count": null,
   "metadata": {},
   "outputs": [],
   "source": [
    "!shutdown -s"
   ]
  },
  {
   "cell_type": "code",
   "execution_count": null,
   "metadata": {},
   "outputs": [],
   "source": []
  }
 ],
 "metadata": {
  "kernelspec": {
   "display_name": "Python 3",
   "language": "python",
   "name": "python3"
  },
  "language_info": {
   "codemirror_mode": {
    "name": "ipython",
    "version": 3
   },
   "file_extension": ".py",
   "mimetype": "text/x-python",
   "name": "python",
   "nbconvert_exporter": "python",
   "pygments_lexer": "ipython3",
   "version": "3.7.3"
  }
 },
 "nbformat": 4,
 "nbformat_minor": 2
}
