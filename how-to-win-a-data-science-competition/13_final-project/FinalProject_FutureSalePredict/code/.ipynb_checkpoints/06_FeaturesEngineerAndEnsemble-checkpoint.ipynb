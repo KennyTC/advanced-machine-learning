{
 "cells": [
  {
   "cell_type": "code",
   "execution_count": 1,
   "metadata": {},
   "outputs": [],
   "source": [
    "import pandas as  pd\n",
    "import numpy as np\n",
    "import warnings\n",
    "import itertools\n",
    "import xgboost as xgb\n",
    "from tqdm import tqdm\n",
    "from numpy import loadtxt\n",
    "import time\n",
    "import gc\n",
    "warnings.filterwarnings('ignore')\n",
    "kernel_with_output = True\n",
    "np.random.seed(10)"
   ]
  },
  {
   "cell_type": "code",
   "execution_count": 2,
   "metadata": {},
   "outputs": [],
   "source": [
    "from IPython.core.interactiveshell import InteractiveShell\n",
    "InteractiveShell.ast_node_interactivity = \"all\"\n",
    "pd.set_option('display.max_rows', 231)\n",
    "pd.set_option('display.max_columns', 100)"
   ]
  },
  {
   "cell_type": "code",
   "execution_count": 3,
   "metadata": {},
   "outputs": [],
   "source": [
    "Validation = False\n",
    "start_time = time.time()"
   ]
  },
  {
   "cell_type": "code",
   "execution_count": 4,
   "metadata": {},
   "outputs": [],
   "source": [
    "def downcast_dtypes(df):\n",
    "    float_cols = [c for c in df if df[c].dtype == \"float64\"]\n",
    "    int_cols =   [c for c in df if df[c].dtype in [\"int64\", \"int32\"]]\n",
    "    df[float_cols] = df[float_cols].astype(np.float32)\n",
    "    df[int_cols]   = df[int_cols].astype(np.int16)\n",
    "    return df"
   ]
  },
  {
   "cell_type": "code",
   "execution_count": 5,
   "metadata": {},
   "outputs": [],
   "source": [
    "if kernel_with_output:\n",
    "    item =pd.read_csv(\"../data/items.csv\")\n",
    "    item_cat = pd.read_csv(\"../data/item_categories.csv\")\n",
    "#     df_shops = pd.read_csv(\"../data/shops.csv\")\n",
    "    sale_train = pd.read_csv(\"../data/sales_train.csv.gz\")\n",
    "    test = pd.read_csv(\"../data/test.csv.gz\")\n",
    "    temp = pd.read_csv(\"../data/sample_submission.csv.gz\")\n"
   ]
  },
  {
   "cell_type": "code",
   "execution_count": 6,
   "metadata": {},
   "outputs": [
    {
     "data": {
      "text/plain": [
       "date              28.10.2015\n",
       "date_block_num            33\n",
       "shop_id                   12\n",
       "item_id                11373\n",
       "item_price          0.908714\n",
       "item_cnt_day            2169\n",
       "Name: 2909818, dtype: object"
      ]
     },
     "execution_count": 6,
     "metadata": {},
     "output_type": "execute_result"
    }
   ],
   "source": [
    "sale_train.loc[2909818] # id = 2909818 seems outliers"
   ]
  },
  {
   "cell_type": "code",
   "execution_count": 7,
   "metadata": {},
   "outputs": [],
   "source": [
    "sale_train['item_price'][2909818] = sale_train[(sale_train['shop_id'] ==12) & (sale_train['item_id'] == 11373) & (sale_train['date_block_num'] == 33)]['item_price'].median()\n",
    "sale_train['item_cnt_day'][2909818] = round(sale_train[(sale_train['shop_id'] ==12) & (sale_train['item_id'] == 11373) & (sale_train['date_block_num'] == 33)]['item_cnt_day'].median())"
   ]
  },
  {
   "cell_type": "code",
   "execution_count": 8,
   "metadata": {},
   "outputs": [
    {
     "data": {
      "text/plain": [
       "date              28.10.2015\n",
       "date_block_num            33\n",
       "shop_id                   12\n",
       "item_id                11373\n",
       "item_price               317\n",
       "item_cnt_day               4\n",
       "Name: 2909818, dtype: object"
      ]
     },
     "execution_count": 8,
     "metadata": {},
     "output_type": "execute_result"
    }
   ],
   "source": [
    "sale_train.loc[2909818] "
   ]
  },
  {
   "cell_type": "code",
   "execution_count": 9,
   "metadata": {},
   "outputs": [
    {
     "data": {
      "text/plain": [
       "date              17.09.2013\n",
       "date_block_num             8\n",
       "shop_id                   12\n",
       "item_id                11365\n",
       "item_price             59200\n",
       "item_cnt_day               1\n",
       "Name: 885138, dtype: object"
      ]
     },
     "execution_count": 9,
     "metadata": {},
     "output_type": "execute_result"
    }
   ],
   "source": [
    "sale_train.loc[885138] # the price seems too high"
   ]
  },
  {
   "cell_type": "code",
   "execution_count": 10,
   "metadata": {},
   "outputs": [],
   "source": [
    "sale_train['item_price'][885138] = sale_train[(sale_train['item_id'] == 11365) & (sale_train['shop_id'] ==12) & (sale_train['date_block_num'] == 8)]['item_price'].median()"
   ]
  },
  {
   "cell_type": "code",
   "execution_count": 11,
   "metadata": {},
   "outputs": [
    {
     "data": {
      "text/plain": [
       "date              17.09.2013\n",
       "date_block_num             8\n",
       "shop_id                   12\n",
       "item_id                11365\n",
       "item_price              2770\n",
       "item_cnt_day               1\n",
       "Name: 885138, dtype: object"
      ]
     },
     "execution_count": 11,
     "metadata": {},
     "output_type": "execute_result"
    }
   ],
   "source": [
    "sale_train.loc[885138] # the price seems too high"
   ]
  },
  {
   "cell_type": "code",
   "execution_count": 12,
   "metadata": {},
   "outputs": [
    {
     "data": {
      "text/plain": [
       "(2935849, 6)"
      ]
     },
     "execution_count": 12,
     "metadata": {},
     "output_type": "execute_result"
    }
   ],
   "source": [
    "sale_train.shape"
   ]
  },
  {
   "cell_type": "code",
   "execution_count": 13,
   "metadata": {},
   "outputs": [],
   "source": [
    "test_nrow = test.shape[0]"
   ]
  },
  {
   "cell_type": "code",
   "execution_count": 14,
   "metadata": {},
   "outputs": [],
   "source": [
    "sale_train = sale_train.merge(test[['shop_id']].drop_duplicates(), how = 'inner') \n",
    "sale_train['date'] = pd.to_datetime(sale_train['date'], format = '%d.%m.%Y')"
   ]
  },
  {
   "cell_type": "markdown",
   "metadata": {},
   "source": [
    "After merge, we delete 522603 records from sale_train. The reason is we want drop all transactions belong to shops in the train set but not in the test. "
   ]
  },
  {
   "cell_type": "code",
   "execution_count": 15,
   "metadata": {},
   "outputs": [
    {
     "name": "stdout",
     "output_type": "stream",
     "text": [
      "<class 'pandas.core.frame.DataFrame'>\n",
      "Int64Index: 2413246 entries, 0 to 2413245\n",
      "Data columns (total 6 columns):\n",
      "date              datetime64[ns]\n",
      "date_block_num    int64\n",
      "shop_id           int64\n",
      "item_id           int64\n",
      "item_price        float64\n",
      "item_cnt_day      float64\n",
      "dtypes: datetime64[ns](1), float64(2), int64(3)\n",
      "memory usage: 128.9 MB\n"
     ]
    }
   ],
   "source": [
    "sale_train.info()"
   ]
  },
  {
   "cell_type": "markdown",
   "metadata": {},
   "source": [
    "There are 4 steps:\n",
    "\n",
    "(1) Aggregate data\n",
    "\n",
    "(2) Add item/shop pair mean-encoding\n",
    "\n",
    "(3) First-level model\n",
    "\n",
    "(4) Ensembling"
   ]
  },
  {
   "cell_type": "markdown",
   "metadata": {},
   "source": [
    "### 1. Aggregate data "
   ]
  },
  {
   "cell_type": "code",
   "execution_count": 16,
   "metadata": {},
   "outputs": [
    {
     "name": "stdout",
     "output_type": "stream",
     "text": [
      "0.67 min: Finish creating the grid\n"
     ]
    }
   ],
   "source": [
    "grid = []\n",
    "for block_num in sale_train['date_block_num'].unique():\n",
    "    cur_shops = sale_train[sale_train['date_block_num']==block_num]['shop_id'].unique()\n",
    "    cur_items = sale_train[sale_train['date_block_num']==block_num]['item_id'].unique()\n",
    "    grid.append(np.array(list(itertools.product(*[cur_shops, cur_items, [block_num]])),dtype='int32'))\n",
    "\n",
    "#turn the grid into pandas dataframe\n",
    "index_cols = ['shop_id', 'item_id', 'date_block_num']\n",
    "grid = pd.DataFrame(np.vstack(grid), columns = index_cols,dtype=np.int32)\n",
    "print('%0.2f min: Finish creating the grid'%((time.time() - start_time)/60))\n",
    "\n",
    "index_cols = ['shop_id', 'item_id', 'date_block_num']\n",
    "sale_train['item_cnt_day'] = sale_train['item_cnt_day'].clip(0,20)\n",
    "gb_cnt = sale_train.groupby(index_cols)['item_cnt_day'].agg(['sum']).reset_index().rename(columns = {'sum': 'item_cnt_month'})\n",
    "gb_cnt['item_cnt_month'] = gb_cnt['item_cnt_month'].clip(0,20).astype(np.int)\n",
    "#join aggregated data to the grid\n",
    "train = pd.merge(grid,gb_cnt,how='left',on=index_cols).fillna(0)\n",
    "train['item_cnt_month'] = train['item_cnt_month'].astype(int)"
   ]
  },
  {
   "cell_type": "code",
   "execution_count": 17,
   "metadata": {},
   "outputs": [
    {
     "name": "stdout",
     "output_type": "stream",
     "text": [
      "<class 'pandas.core.frame.DataFrame'>\n",
      "Int64Index: 8598044 entries, 0 to 8598043\n",
      "Data columns (total 4 columns):\n",
      "shop_id           int32\n",
      "item_id           int32\n",
      "date_block_num    int32\n",
      "item_cnt_month    int32\n",
      "dtypes: int32(4)\n",
      "memory usage: 196.8 MB\n"
     ]
    }
   ],
   "source": [
    "train.info()"
   ]
  },
  {
   "cell_type": "code",
   "execution_count": 18,
   "metadata": {},
   "outputs": [],
   "source": [
    "train = train.merge(item[['item_id', 'item_category_id']], on = ['item_id'], how = 'left')\n",
    "test = test.merge(item[[\"item_id\", \"item_category_id\"]], on = [\"item_id\"], how=\"left\")"
   ]
  },
  {
   "cell_type": "code",
   "execution_count": 19,
   "metadata": {},
   "outputs": [
    {
     "data": {
      "text/html": [
       "<div>\n",
       "<style scoped>\n",
       "    .dataframe tbody tr th:only-of-type {\n",
       "        vertical-align: middle;\n",
       "    }\n",
       "\n",
       "    .dataframe tbody tr th {\n",
       "        vertical-align: top;\n",
       "    }\n",
       "\n",
       "    .dataframe thead th {\n",
       "        text-align: right;\n",
       "    }\n",
       "</style>\n",
       "<table border=\"1\" class=\"dataframe\">\n",
       "  <thead>\n",
       "    <tr style=\"text-align: right;\">\n",
       "      <th></th>\n",
       "      <th>item_category_name</th>\n",
       "      <th>item_category_id</th>\n",
       "    </tr>\n",
       "  </thead>\n",
       "  <tbody>\n",
       "    <tr>\n",
       "      <th>0</th>\n",
       "      <td>PC - Гарнитуры/Наушники</td>\n",
       "      <td>0</td>\n",
       "    </tr>\n",
       "    <tr>\n",
       "      <th>1</th>\n",
       "      <td>Аксессуары - PS2</td>\n",
       "      <td>1</td>\n",
       "    </tr>\n",
       "    <tr>\n",
       "      <th>2</th>\n",
       "      <td>Аксессуары - PS3</td>\n",
       "      <td>2</td>\n",
       "    </tr>\n",
       "    <tr>\n",
       "      <th>3</th>\n",
       "      <td>Аксессуары - PS4</td>\n",
       "      <td>3</td>\n",
       "    </tr>\n",
       "    <tr>\n",
       "      <th>4</th>\n",
       "      <td>Аксессуары - PSP</td>\n",
       "      <td>4</td>\n",
       "    </tr>\n",
       "  </tbody>\n",
       "</table>\n",
       "</div>"
      ],
      "text/plain": [
       "        item_category_name  item_category_id\n",
       "0  PC - Гарнитуры/Наушники                 0\n",
       "1         Аксессуары - PS2                 1\n",
       "2         Аксессуары - PS3                 2\n",
       "3         Аксессуары - PS4                 3\n",
       "4         Аксессуары - PSP                 4"
      ]
     },
     "execution_count": 19,
     "metadata": {},
     "output_type": "execute_result"
    },
    {
     "name": "stdout",
     "output_type": "stream",
     "text": [
      "<class 'pandas.core.frame.DataFrame'>\n",
      "RangeIndex: 84 entries, 0 to 83\n",
      "Data columns (total 2 columns):\n",
      "item_category_name    84 non-null object\n",
      "item_category_id      84 non-null int64\n",
      "dtypes: int64(1), object(1)\n",
      "memory usage: 1.4+ KB\n"
     ]
    }
   ],
   "source": [
    "item_cat.head()\n",
    "item_cat.info()"
   ]
  },
  {
   "cell_type": "code",
   "execution_count": 20,
   "metadata": {},
   "outputs": [],
   "source": [
    "item_cat = pd.read_csv('../data/item_categories.csv')\n",
    "\n",
    "l_cat = list(item_cat.item_category_name)\n",
    "\n",
    "for ind in range(0,1):\n",
    "\n",
    "    l_cat[ind] = 'PC Headsets / Headphones'\n",
    "\n",
    "for ind in range(1,8):\n",
    "\n",
    "    l_cat[ind] = 'Access'\n",
    "\n",
    "l_cat[8] = 'Tickets (figure)'\n",
    "\n",
    "l_cat[9] = 'Delivery of goods'\n",
    "\n",
    "for ind in range(10,18):\n",
    "\n",
    "    l_cat[ind] = 'Consoles'\n",
    "\n",
    "for ind in range(18,25):\n",
    "\n",
    "    l_cat[ind] = 'Consoles Games'\n",
    "\n",
    "l_cat[25] = 'Accessories for games'\n",
    "\n",
    "for ind in range(26,28):\n",
    "\n",
    "    l_cat[ind] = 'phone games'\n",
    "\n",
    "for ind in range(28,32):\n",
    "\n",
    "    l_cat[ind] = 'CD games'\n",
    "\n",
    "for ind in range(32,37):\n",
    "\n",
    "    l_cat[ind] = 'Card'\n",
    "\n",
    "for ind in range(37,43):\n",
    "\n",
    "    l_cat[ind] = 'Movie'\n",
    "\n",
    "for ind in range(43,55):\n",
    "\n",
    "    l_cat[ind] = 'Books'\n",
    "\n",
    "for ind in range(55,61):\n",
    "\n",
    "    l_cat[ind] = 'Music'\n",
    "\n",
    "for ind in range(61,73):\n",
    "\n",
    "    l_cat[ind] = 'Gifts'\n",
    "\n",
    "for ind in range(73,79):\n",
    "\n",
    "    l_cat[ind] = 'Soft'\n",
    "\n",
    "for ind in range(79,81):\n",
    "\n",
    "    l_cat[ind] = 'Office'\n",
    "\n",
    "for ind in range(81,83):\n",
    "\n",
    "    l_cat[ind] = 'Clean'\n",
    "\n",
    "l_cat[83] = 'Elements of a food'\n"
   ]
  },
  {
   "cell_type": "code",
   "execution_count": 21,
   "metadata": {
    "scrolled": true
   },
   "outputs": [],
   "source": [
    "from sklearn import preprocessing\n",
    "lb = preprocessing.LabelEncoder()\n",
    "item_cat['item_cat_id_fix'] = lb.fit_transform(l_cat)\n",
    "train = train.merge(item_cat[['item_cat_id_fix', 'item_category_id']], on = ['item_category_id'], how = 'left')\n",
    "test = test.merge(item_cat[['item_cat_id_fix', 'item_category_id']], on = ['item_category_id'], how = 'left')"
   ]
  },
  {
   "cell_type": "code",
   "execution_count": 22,
   "metadata": {
    "scrolled": true
   },
   "outputs": [
    {
     "data": {
      "text/html": [
       "<div>\n",
       "<style scoped>\n",
       "    .dataframe tbody tr th:only-of-type {\n",
       "        vertical-align: middle;\n",
       "    }\n",
       "\n",
       "    .dataframe tbody tr th {\n",
       "        vertical-align: top;\n",
       "    }\n",
       "\n",
       "    .dataframe thead th {\n",
       "        text-align: right;\n",
       "    }\n",
       "</style>\n",
       "<table border=\"1\" class=\"dataframe\">\n",
       "  <thead>\n",
       "    <tr style=\"text-align: right;\">\n",
       "      <th></th>\n",
       "      <th>item_category_name</th>\n",
       "      <th>item_category_id</th>\n",
       "      <th>item_cat_id_fix</th>\n",
       "    </tr>\n",
       "  </thead>\n",
       "  <tbody>\n",
       "    <tr>\n",
       "      <th>0</th>\n",
       "      <td>PC - Гарнитуры/Наушники</td>\n",
       "      <td>0</td>\n",
       "      <td>14</td>\n",
       "    </tr>\n",
       "    <tr>\n",
       "      <th>1</th>\n",
       "      <td>Аксессуары - PS2</td>\n",
       "      <td>1</td>\n",
       "      <td>0</td>\n",
       "    </tr>\n",
       "    <tr>\n",
       "      <th>2</th>\n",
       "      <td>Аксессуары - PS3</td>\n",
       "      <td>2</td>\n",
       "      <td>0</td>\n",
       "    </tr>\n",
       "    <tr>\n",
       "      <th>3</th>\n",
       "      <td>Аксессуары - PS4</td>\n",
       "      <td>3</td>\n",
       "      <td>0</td>\n",
       "    </tr>\n",
       "    <tr>\n",
       "      <th>4</th>\n",
       "      <td>Аксессуары - PSP</td>\n",
       "      <td>4</td>\n",
       "      <td>0</td>\n",
       "    </tr>\n",
       "    <tr>\n",
       "      <th>5</th>\n",
       "      <td>Аксессуары - PSVita</td>\n",
       "      <td>5</td>\n",
       "      <td>0</td>\n",
       "    </tr>\n",
       "    <tr>\n",
       "      <th>6</th>\n",
       "      <td>Аксессуары - XBOX 360</td>\n",
       "      <td>6</td>\n",
       "      <td>0</td>\n",
       "    </tr>\n",
       "    <tr>\n",
       "      <th>7</th>\n",
       "      <td>Аксессуары - XBOX ONE</td>\n",
       "      <td>7</td>\n",
       "      <td>0</td>\n",
       "    </tr>\n",
       "    <tr>\n",
       "      <th>8</th>\n",
       "      <td>Билеты (Цифра)</td>\n",
       "      <td>8</td>\n",
       "      <td>16</td>\n",
       "    </tr>\n",
       "    <tr>\n",
       "      <th>9</th>\n",
       "      <td>Доставка товара</td>\n",
       "      <td>9</td>\n",
       "      <td>8</td>\n",
       "    </tr>\n",
       "    <tr>\n",
       "      <th>10</th>\n",
       "      <td>Игровые консоли - PS2</td>\n",
       "      <td>10</td>\n",
       "      <td>6</td>\n",
       "    </tr>\n",
       "    <tr>\n",
       "      <th>11</th>\n",
       "      <td>Игровые консоли - PS3</td>\n",
       "      <td>11</td>\n",
       "      <td>6</td>\n",
       "    </tr>\n",
       "    <tr>\n",
       "      <th>12</th>\n",
       "      <td>Игровые консоли - PS4</td>\n",
       "      <td>12</td>\n",
       "      <td>6</td>\n",
       "    </tr>\n",
       "    <tr>\n",
       "      <th>13</th>\n",
       "      <td>Игровые консоли - PSP</td>\n",
       "      <td>13</td>\n",
       "      <td>6</td>\n",
       "    </tr>\n",
       "    <tr>\n",
       "      <th>14</th>\n",
       "      <td>Игровые консоли - PSVita</td>\n",
       "      <td>14</td>\n",
       "      <td>6</td>\n",
       "    </tr>\n",
       "    <tr>\n",
       "      <th>15</th>\n",
       "      <td>Игровые консоли - XBOX 360</td>\n",
       "      <td>15</td>\n",
       "      <td>6</td>\n",
       "    </tr>\n",
       "    <tr>\n",
       "      <th>16</th>\n",
       "      <td>Игровые консоли - XBOX ONE</td>\n",
       "      <td>16</td>\n",
       "      <td>6</td>\n",
       "    </tr>\n",
       "    <tr>\n",
       "      <th>17</th>\n",
       "      <td>Игровые консоли - Прочие</td>\n",
       "      <td>17</td>\n",
       "      <td>6</td>\n",
       "    </tr>\n",
       "    <tr>\n",
       "      <th>18</th>\n",
       "      <td>Игры - PS2</td>\n",
       "      <td>18</td>\n",
       "      <td>7</td>\n",
       "    </tr>\n",
       "    <tr>\n",
       "      <th>19</th>\n",
       "      <td>Игры - PS3</td>\n",
       "      <td>19</td>\n",
       "      <td>7</td>\n",
       "    </tr>\n",
       "    <tr>\n",
       "      <th>20</th>\n",
       "      <td>Игры - PS4</td>\n",
       "      <td>20</td>\n",
       "      <td>7</td>\n",
       "    </tr>\n",
       "    <tr>\n",
       "      <th>21</th>\n",
       "      <td>Игры - PSP</td>\n",
       "      <td>21</td>\n",
       "      <td>7</td>\n",
       "    </tr>\n",
       "    <tr>\n",
       "      <th>22</th>\n",
       "      <td>Игры - PSVita</td>\n",
       "      <td>22</td>\n",
       "      <td>7</td>\n",
       "    </tr>\n",
       "    <tr>\n",
       "      <th>23</th>\n",
       "      <td>Игры - XBOX 360</td>\n",
       "      <td>23</td>\n",
       "      <td>7</td>\n",
       "    </tr>\n",
       "    <tr>\n",
       "      <th>24</th>\n",
       "      <td>Игры - XBOX ONE</td>\n",
       "      <td>24</td>\n",
       "      <td>7</td>\n",
       "    </tr>\n",
       "    <tr>\n",
       "      <th>25</th>\n",
       "      <td>Игры - Аксессуары для игр</td>\n",
       "      <td>25</td>\n",
       "      <td>1</td>\n",
       "    </tr>\n",
       "    <tr>\n",
       "      <th>26</th>\n",
       "      <td>Игры Android - Цифра</td>\n",
       "      <td>26</td>\n",
       "      <td>17</td>\n",
       "    </tr>\n",
       "    <tr>\n",
       "      <th>27</th>\n",
       "      <td>Игры MAC - Цифра</td>\n",
       "      <td>27</td>\n",
       "      <td>17</td>\n",
       "    </tr>\n",
       "    <tr>\n",
       "      <th>28</th>\n",
       "      <td>Игры PC - Дополнительные издания</td>\n",
       "      <td>28</td>\n",
       "      <td>3</td>\n",
       "    </tr>\n",
       "    <tr>\n",
       "      <th>29</th>\n",
       "      <td>Игры PC - Коллекционные издания</td>\n",
       "      <td>29</td>\n",
       "      <td>3</td>\n",
       "    </tr>\n",
       "    <tr>\n",
       "      <th>30</th>\n",
       "      <td>Игры PC - Стандартные издания</td>\n",
       "      <td>30</td>\n",
       "      <td>3</td>\n",
       "    </tr>\n",
       "    <tr>\n",
       "      <th>31</th>\n",
       "      <td>Игры PC - Цифра</td>\n",
       "      <td>31</td>\n",
       "      <td>3</td>\n",
       "    </tr>\n",
       "    <tr>\n",
       "      <th>32</th>\n",
       "      <td>Карты оплаты (Кино, Музыка, Игры)</td>\n",
       "      <td>32</td>\n",
       "      <td>4</td>\n",
       "    </tr>\n",
       "    <tr>\n",
       "      <th>33</th>\n",
       "      <td>Карты оплаты - Live!</td>\n",
       "      <td>33</td>\n",
       "      <td>4</td>\n",
       "    </tr>\n",
       "    <tr>\n",
       "      <th>34</th>\n",
       "      <td>Карты оплаты - Live! (Цифра)</td>\n",
       "      <td>34</td>\n",
       "      <td>4</td>\n",
       "    </tr>\n",
       "    <tr>\n",
       "      <th>35</th>\n",
       "      <td>Карты оплаты - PSN</td>\n",
       "      <td>35</td>\n",
       "      <td>4</td>\n",
       "    </tr>\n",
       "    <tr>\n",
       "      <th>36</th>\n",
       "      <td>Карты оплаты - Windows (Цифра)</td>\n",
       "      <td>36</td>\n",
       "      <td>4</td>\n",
       "    </tr>\n",
       "    <tr>\n",
       "      <th>37</th>\n",
       "      <td>Кино - Blu-Ray</td>\n",
       "      <td>37</td>\n",
       "      <td>11</td>\n",
       "    </tr>\n",
       "    <tr>\n",
       "      <th>38</th>\n",
       "      <td>Кино - Blu-Ray 3D</td>\n",
       "      <td>38</td>\n",
       "      <td>11</td>\n",
       "    </tr>\n",
       "    <tr>\n",
       "      <th>39</th>\n",
       "      <td>Кино - Blu-Ray 4K</td>\n",
       "      <td>39</td>\n",
       "      <td>11</td>\n",
       "    </tr>\n",
       "    <tr>\n",
       "      <th>40</th>\n",
       "      <td>Кино - DVD</td>\n",
       "      <td>40</td>\n",
       "      <td>11</td>\n",
       "    </tr>\n",
       "    <tr>\n",
       "      <th>41</th>\n",
       "      <td>Кино - Коллекционное</td>\n",
       "      <td>41</td>\n",
       "      <td>11</td>\n",
       "    </tr>\n",
       "    <tr>\n",
       "      <th>42</th>\n",
       "      <td>Книги - Артбуки, энциклопедии</td>\n",
       "      <td>42</td>\n",
       "      <td>11</td>\n",
       "    </tr>\n",
       "    <tr>\n",
       "      <th>43</th>\n",
       "      <td>Книги - Аудиокниги</td>\n",
       "      <td>43</td>\n",
       "      <td>2</td>\n",
       "    </tr>\n",
       "    <tr>\n",
       "      <th>44</th>\n",
       "      <td>Книги - Аудиокниги (Цифра)</td>\n",
       "      <td>44</td>\n",
       "      <td>2</td>\n",
       "    </tr>\n",
       "    <tr>\n",
       "      <th>45</th>\n",
       "      <td>Книги - Аудиокниги 1С</td>\n",
       "      <td>45</td>\n",
       "      <td>2</td>\n",
       "    </tr>\n",
       "    <tr>\n",
       "      <th>46</th>\n",
       "      <td>Книги - Бизнес литература</td>\n",
       "      <td>46</td>\n",
       "      <td>2</td>\n",
       "    </tr>\n",
       "    <tr>\n",
       "      <th>47</th>\n",
       "      <td>Книги - Комиксы, манга</td>\n",
       "      <td>47</td>\n",
       "      <td>2</td>\n",
       "    </tr>\n",
       "    <tr>\n",
       "      <th>48</th>\n",
       "      <td>Книги - Компьютерная литература</td>\n",
       "      <td>48</td>\n",
       "      <td>2</td>\n",
       "    </tr>\n",
       "    <tr>\n",
       "      <th>49</th>\n",
       "      <td>Книги - Методические материалы 1С</td>\n",
       "      <td>49</td>\n",
       "      <td>2</td>\n",
       "    </tr>\n",
       "  </tbody>\n",
       "</table>\n",
       "</div>"
      ],
      "text/plain": [
       "                   item_category_name  item_category_id  item_cat_id_fix\n",
       "0             PC - Гарнитуры/Наушники                 0               14\n",
       "1                    Аксессуары - PS2                 1                0\n",
       "2                    Аксессуары - PS3                 2                0\n",
       "3                    Аксессуары - PS4                 3                0\n",
       "4                    Аксессуары - PSP                 4                0\n",
       "5                 Аксессуары - PSVita                 5                0\n",
       "6               Аксессуары - XBOX 360                 6                0\n",
       "7               Аксессуары - XBOX ONE                 7                0\n",
       "8                      Билеты (Цифра)                 8               16\n",
       "9                     Доставка товара                 9                8\n",
       "10              Игровые консоли - PS2                10                6\n",
       "11              Игровые консоли - PS3                11                6\n",
       "12              Игровые консоли - PS4                12                6\n",
       "13              Игровые консоли - PSP                13                6\n",
       "14           Игровые консоли - PSVita                14                6\n",
       "15         Игровые консоли - XBOX 360                15                6\n",
       "16         Игровые консоли - XBOX ONE                16                6\n",
       "17           Игровые консоли - Прочие                17                6\n",
       "18                         Игры - PS2                18                7\n",
       "19                         Игры - PS3                19                7\n",
       "20                         Игры - PS4                20                7\n",
       "21                         Игры - PSP                21                7\n",
       "22                      Игры - PSVita                22                7\n",
       "23                    Игры - XBOX 360                23                7\n",
       "24                    Игры - XBOX ONE                24                7\n",
       "25          Игры - Аксессуары для игр                25                1\n",
       "26               Игры Android - Цифра                26               17\n",
       "27                   Игры MAC - Цифра                27               17\n",
       "28   Игры PC - Дополнительные издания                28                3\n",
       "29    Игры PC - Коллекционные издания                29                3\n",
       "30      Игры PC - Стандартные издания                30                3\n",
       "31                    Игры PC - Цифра                31                3\n",
       "32  Карты оплаты (Кино, Музыка, Игры)                32                4\n",
       "33               Карты оплаты - Live!                33                4\n",
       "34       Карты оплаты - Live! (Цифра)                34                4\n",
       "35                 Карты оплаты - PSN                35                4\n",
       "36     Карты оплаты - Windows (Цифра)                36                4\n",
       "37                     Кино - Blu-Ray                37               11\n",
       "38                  Кино - Blu-Ray 3D                38               11\n",
       "39                  Кино - Blu-Ray 4K                39               11\n",
       "40                         Кино - DVD                40               11\n",
       "41               Кино - Коллекционное                41               11\n",
       "42      Книги - Артбуки, энциклопедии                42               11\n",
       "43                 Книги - Аудиокниги                43                2\n",
       "44         Книги - Аудиокниги (Цифра)                44                2\n",
       "45              Книги - Аудиокниги 1С                45                2\n",
       "46          Книги - Бизнес литература                46                2\n",
       "47             Книги - Комиксы, манга                47                2\n",
       "48    Книги - Компьютерная литература                48                2\n",
       "49  Книги - Методические материалы 1С                49                2"
      ]
     },
     "execution_count": 22,
     "metadata": {},
     "output_type": "execute_result"
    }
   ],
   "source": [
    "item_cat.head(50)"
   ]
  },
  {
   "cell_type": "code",
   "execution_count": 23,
   "metadata": {
    "scrolled": true
   },
   "outputs": [],
   "source": [
    "train = downcast_dtypes(train)\n",
    "test = downcast_dtypes(test)"
   ]
  },
  {
   "cell_type": "code",
   "execution_count": 23,
   "metadata": {},
   "outputs": [
    {
     "name": "stdout",
     "output_type": "stream",
     "text": [
      "<class 'pandas.core.frame.DataFrame'>\n",
      "Int64Index: 10913850 entries, 0 to 10913849\n",
      "Data columns (total 7 columns):\n",
      "shop_id             int16\n",
      "item_id             int16\n",
      "date_block_num      int16\n",
      "item_cnt_month      float32\n",
      "item_price          float32\n",
      "item_category_id    int16\n",
      "item_cat_id_fix     int16\n",
      "dtypes: float32(2), int16(5)\n",
      "memory usage: 270.6 MB\n",
      "<class 'pandas.core.frame.DataFrame'>\n",
      "Int64Index: 214200 entries, 0 to 214199\n",
      "Data columns (total 5 columns):\n",
      "ID                  214200 non-null int16\n",
      "shop_id             214200 non-null int16\n",
      "item_id             214200 non-null int16\n",
      "item_category_id    214200 non-null int16\n",
      "item_cat_id_fix     214200 non-null int16\n",
      "dtypes: int16(5)\n",
      "memory usage: 3.7 MB\n"
     ]
    }
   ],
   "source": [
    "train.info()\n",
    "test.info()"
   ]
  },
  {
   "cell_type": "markdown",
   "metadata": {},
   "source": [
    "### 2. Add item/shop pair mean-encodings"
   ]
  },
  {
   "cell_type": "markdown",
   "metadata": {},
   "source": [
    "##### 2.1 Combine trainset and testset"
   ]
  },
  {
   "cell_type": "code",
   "execution_count": 27,
   "metadata": {},
   "outputs": [
    {
     "name": "stdout",
     "output_type": "stream",
     "text": [
      "9.55 min: Start combining data\n"
     ]
    }
   ],
   "source": [
    "print('%0.2f min: Start combining data'%((time.time() - start_time)/60))\n",
    "if Validation == False:\n",
    "    test['date_block_num'] = 34\n",
    "    all_data = pd.concat([train, test], axis = 0)\n",
    "    all_data = all_data.drop(columns = ['ID'])\n",
    "else:\n",
    "    all_data = train"
   ]
  },
  {
   "cell_type": "code",
   "execution_count": 28,
   "metadata": {},
   "outputs": [
    {
     "data": {
      "text/plain": [
       "(8812244, 6)"
      ]
     },
     "execution_count": 28,
     "metadata": {},
     "output_type": "execute_result"
    },
    {
     "data": {
      "text/plain": [
       "date_block_num           0\n",
       "item_cat_id_fix          0\n",
       "item_category_id         0\n",
       "item_cnt_month      214200\n",
       "item_id                  0\n",
       "shop_id                  0\n",
       "dtype: int64"
      ]
     },
     "execution_count": 28,
     "metadata": {},
     "output_type": "execute_result"
    }
   ],
   "source": [
    "all_data.shape\n",
    "all_data.isnull().sum() # test has only 5 cols, so when merge, these cols will be na"
   ]
  },
  {
   "cell_type": "code",
   "execution_count": 29,
   "metadata": {},
   "outputs": [],
   "source": [
    "all_data = downcast_dtypes(all_data)"
   ]
  },
  {
   "cell_type": "code",
   "execution_count": 30,
   "metadata": {},
   "outputs": [
    {
     "data": {
      "text/html": [
       "<div>\n",
       "<style scoped>\n",
       "    .dataframe tbody tr th:only-of-type {\n",
       "        vertical-align: middle;\n",
       "    }\n",
       "\n",
       "    .dataframe tbody tr th {\n",
       "        vertical-align: top;\n",
       "    }\n",
       "\n",
       "    .dataframe thead th {\n",
       "        text-align: right;\n",
       "    }\n",
       "</style>\n",
       "<table border=\"1\" class=\"dataframe\">\n",
       "  <thead>\n",
       "    <tr style=\"text-align: right;\">\n",
       "      <th></th>\n",
       "      <th>date_block_num</th>\n",
       "      <th>item_cat_id_fix</th>\n",
       "      <th>item_category_id</th>\n",
       "      <th>item_cnt_month</th>\n",
       "      <th>item_id</th>\n",
       "      <th>shop_id</th>\n",
       "    </tr>\n",
       "  </thead>\n",
       "  <tbody>\n",
       "    <tr>\n",
       "      <th>0</th>\n",
       "      <td>0</td>\n",
       "      <td>11</td>\n",
       "      <td>37</td>\n",
       "      <td>1.0</td>\n",
       "      <td>22154</td>\n",
       "      <td>59</td>\n",
       "    </tr>\n",
       "    <tr>\n",
       "      <th>1</th>\n",
       "      <td>0</td>\n",
       "      <td>11</td>\n",
       "      <td>40</td>\n",
       "      <td>2.0</td>\n",
       "      <td>22151</td>\n",
       "      <td>59</td>\n",
       "    </tr>\n",
       "    <tr>\n",
       "      <th>2</th>\n",
       "      <td>0</td>\n",
       "      <td>0</td>\n",
       "      <td>5</td>\n",
       "      <td>1.0</td>\n",
       "      <td>5603</td>\n",
       "      <td>59</td>\n",
       "    </tr>\n",
       "    <tr>\n",
       "      <th>3</th>\n",
       "      <td>0</td>\n",
       "      <td>0</td>\n",
       "      <td>5</td>\n",
       "      <td>2.0</td>\n",
       "      <td>5587</td>\n",
       "      <td>59</td>\n",
       "    </tr>\n",
       "    <tr>\n",
       "      <th>4</th>\n",
       "      <td>0</td>\n",
       "      <td>0</td>\n",
       "      <td>2</td>\n",
       "      <td>1.0</td>\n",
       "      <td>5613</td>\n",
       "      <td>59</td>\n",
       "    </tr>\n",
       "  </tbody>\n",
       "</table>\n",
       "</div>"
      ],
      "text/plain": [
       "   date_block_num  item_cat_id_fix  item_category_id  item_cnt_month  item_id  \\\n",
       "0               0               11                37             1.0    22154   \n",
       "1               0               11                40             2.0    22151   \n",
       "2               0                0                 5             1.0     5603   \n",
       "3               0                0                 5             2.0     5587   \n",
       "4               0                0                 2             1.0     5613   \n",
       "\n",
       "   shop_id  \n",
       "0       59  \n",
       "1       59  \n",
       "2       59  \n",
       "3       59  \n",
       "4       59  "
      ]
     },
     "execution_count": 30,
     "metadata": {},
     "output_type": "execute_result"
    }
   ],
   "source": [
    "all_data.head()"
   ]
  },
  {
   "cell_type": "markdown",
   "metadata": {},
   "source": [
    "##### 2.2 Creating item/shop pair lags lag-based featuers"
   ]
  },
  {
   "cell_type": "code",
   "execution_count": 31,
   "metadata": {},
   "outputs": [
    {
     "name": "stdout",
     "output_type": "stream",
     "text": [
      "9.63 min: Start adding lag-based feature\n",
      "['item_cnt_month']\n"
     ]
    }
   ],
   "source": [
    "print('%0.2f min: Start adding lag-based feature'%((time.time() - start_time)/60))\n",
    "index_cols = ['shop_id', 'item_id', 'item_category_id', 'item_cat_id_fix', 'date_block_num']\n",
    "cols_to_rename = list(all_data.columns.difference(index_cols))\n",
    "print(cols_to_rename)\n",
    "shift_range = [1, 2, 3, 4, 12]"
   ]
  },
  {
   "cell_type": "code",
   "execution_count": 32,
   "metadata": {},
   "outputs": [
    {
     "name": "stderr",
     "output_type": "stream",
     "text": [
      "100%|████████████████████████████████████████████████████████████████████████████████████| 5/5 [01:23<00:00, 17.13s/it]\n"
     ]
    },
    {
     "data": {
      "text/plain": [
       "78"
      ]
     },
     "execution_count": 32,
     "metadata": {},
     "output_type": "execute_result"
    }
   ],
   "source": [
    "for month_shift in tqdm(shift_range):\n",
    "    train_shift = all_data[index_cols + cols_to_rename].copy()\n",
    "    train_shift['date_block_num'] = train_shift['date_block_num'] + month_shift\n",
    "    foo = lambda x: '{}_lag_{}'.format(x, month_shift) if x in cols_to_rename else x\n",
    "    train_shift = train_shift.rename(columns=foo)\n",
    "    all_data = pd.merge(all_data, train_shift, on=index_cols, how='left').fillna(0)\n",
    "del train_shift\n",
    "gc.collect()"
   ]
  },
  {
   "cell_type": "code",
   "execution_count": 33,
   "metadata": {},
   "outputs": [
    {
     "name": "stdout",
     "output_type": "stream",
     "text": [
      "11.04 min: Finish generating lag features\n"
     ]
    }
   ],
   "source": [
    "all_data = all_data[all_data['date_block_num'] >= 12] # Don't use old data from year 2013\n",
    "lag_cols = [col for col in all_data.columns if col[-1] in [str(item) for item in shift_range]]\n",
    "all_data = downcast_dtypes(all_data)\n",
    "print('%0.2f min: Finish generating lag features'%((time.time() - start_time)/60))"
   ]
  },
  {
   "cell_type": "code",
   "execution_count": 34,
   "metadata": {},
   "outputs": [
    {
     "data": {
      "text/plain": [
       "['item_cnt_month_lag_1',\n",
       " 'item_cnt_month_lag_2',\n",
       " 'item_cnt_month_lag_3',\n",
       " 'item_cnt_month_lag_4',\n",
       " 'item_cnt_month_lag_12']"
      ]
     },
     "execution_count": 34,
     "metadata": {},
     "output_type": "execute_result"
    }
   ],
   "source": [
    "lag_cols"
   ]
  },
  {
   "cell_type": "code",
   "execution_count": 35,
   "metadata": {},
   "outputs": [
    {
     "data": {
      "text/plain": [
       "(5459310, 11)"
      ]
     },
     "execution_count": 35,
     "metadata": {},
     "output_type": "execute_result"
    }
   ],
   "source": [
    "all_data.shape"
   ]
  },
  {
   "cell_type": "markdown",
   "metadata": {},
   "source": [
    "##### 2.3 Creating date features"
   ]
  },
  {
   "cell_type": "code",
   "execution_count": 36,
   "metadata": {},
   "outputs": [],
   "source": [
    "dates_train = sale_train[['date', 'date_block_num']].drop_duplicates()"
   ]
  },
  {
   "cell_type": "code",
   "execution_count": 37,
   "metadata": {},
   "outputs": [],
   "source": [
    "# choose 22 because date_block_num is Nov 2014, We will make this data to be Nov 2015\n",
    "dates_test = dates_train[dates_train['date_block_num'] == 34-12] "
   ]
  },
  {
   "cell_type": "code",
   "execution_count": 38,
   "metadata": {
    "scrolled": true
   },
   "outputs": [
    {
     "data": {
      "text/html": [
       "<div>\n",
       "<style scoped>\n",
       "    .dataframe tbody tr th:only-of-type {\n",
       "        vertical-align: middle;\n",
       "    }\n",
       "\n",
       "    .dataframe tbody tr th {\n",
       "        vertical-align: top;\n",
       "    }\n",
       "\n",
       "    .dataframe thead th {\n",
       "        text-align: right;\n",
       "    }\n",
       "</style>\n",
       "<table border=\"1\" class=\"dataframe\">\n",
       "  <thead>\n",
       "    <tr style=\"text-align: right;\">\n",
       "      <th></th>\n",
       "      <th>date</th>\n",
       "      <th>date_block_num</th>\n",
       "    </tr>\n",
       "  </thead>\n",
       "  <tbody>\n",
       "    <tr>\n",
       "      <th>0</th>\n",
       "      <td>2013-01-02</td>\n",
       "      <td>0</td>\n",
       "    </tr>\n",
       "    <tr>\n",
       "      <th>1</th>\n",
       "      <td>2013-01-10</td>\n",
       "      <td>0</td>\n",
       "    </tr>\n",
       "    <tr>\n",
       "      <th>2</th>\n",
       "      <td>2013-01-04</td>\n",
       "      <td>0</td>\n",
       "    </tr>\n",
       "    <tr>\n",
       "      <th>3</th>\n",
       "      <td>2013-01-19</td>\n",
       "      <td>0</td>\n",
       "    </tr>\n",
       "    <tr>\n",
       "      <th>4</th>\n",
       "      <td>2013-01-31</td>\n",
       "      <td>0</td>\n",
       "    </tr>\n",
       "  </tbody>\n",
       "</table>\n",
       "</div>"
      ],
      "text/plain": [
       "        date  date_block_num\n",
       "0 2013-01-02               0\n",
       "1 2013-01-10               0\n",
       "2 2013-01-04               0\n",
       "3 2013-01-19               0\n",
       "4 2013-01-31               0"
      ]
     },
     "execution_count": 38,
     "metadata": {},
     "output_type": "execute_result"
    },
    {
     "name": "stdout",
     "output_type": "stream",
     "text": [
      "<class 'pandas.core.frame.DataFrame'>\n",
      "Int64Index: 1034 entries, 0 to 281280\n",
      "Data columns (total 2 columns):\n",
      "date              1034 non-null datetime64[ns]\n",
      "date_block_num    1034 non-null int64\n",
      "dtypes: datetime64[ns](1), int64(1)\n",
      "memory usage: 24.2 KB\n"
     ]
    },
    {
     "data": {
      "text/plain": [
       "33    31\n",
       "21    31\n",
       "2     31\n",
       "4     31\n",
       "6     31\n",
       "7     31\n",
       "9     31\n",
       "11    31\n",
       "12    31\n",
       "14    31\n",
       "18    31\n",
       "19    31\n",
       "16    31\n",
       "0     31\n",
       "23    31\n",
       "31    31\n",
       "30    31\n",
       "24    31\n",
       "26    31\n",
       "28    31\n",
       "8     30\n",
       "3     30\n",
       "5     30\n",
       "29    30\n",
       "20    30\n",
       "27    30\n",
       "22    30\n",
       "15    30\n",
       "32    30\n",
       "17    30\n",
       "10    30\n",
       "25    28\n",
       "13    28\n",
       "1     28\n",
       "Name: date_block_num, dtype: int64"
      ]
     },
     "execution_count": 38,
     "metadata": {},
     "output_type": "execute_result"
    },
    {
     "data": {
      "text/html": [
       "<div>\n",
       "<style scoped>\n",
       "    .dataframe tbody tr th:only-of-type {\n",
       "        vertical-align: middle;\n",
       "    }\n",
       "\n",
       "    .dataframe tbody tr th {\n",
       "        vertical-align: top;\n",
       "    }\n",
       "\n",
       "    .dataframe thead th {\n",
       "        text-align: right;\n",
       "    }\n",
       "</style>\n",
       "<table border=\"1\" class=\"dataframe\">\n",
       "  <thead>\n",
       "    <tr style=\"text-align: right;\">\n",
       "      <th></th>\n",
       "      <th>date</th>\n",
       "      <th>date_block_num</th>\n",
       "    </tr>\n",
       "  </thead>\n",
       "  <tbody>\n",
       "    <tr>\n",
       "      <th>30384</th>\n",
       "      <td>2014-11-19</td>\n",
       "      <td>22</td>\n",
       "    </tr>\n",
       "    <tr>\n",
       "      <th>30385</th>\n",
       "      <td>2014-11-18</td>\n",
       "      <td>22</td>\n",
       "    </tr>\n",
       "    <tr>\n",
       "      <th>30386</th>\n",
       "      <td>2014-11-27</td>\n",
       "      <td>22</td>\n",
       "    </tr>\n",
       "    <tr>\n",
       "      <th>30387</th>\n",
       "      <td>2014-11-26</td>\n",
       "      <td>22</td>\n",
       "    </tr>\n",
       "    <tr>\n",
       "      <th>30388</th>\n",
       "      <td>2014-11-22</td>\n",
       "      <td>22</td>\n",
       "    </tr>\n",
       "  </tbody>\n",
       "</table>\n",
       "</div>"
      ],
      "text/plain": [
       "            date  date_block_num\n",
       "30384 2014-11-19              22\n",
       "30385 2014-11-18              22\n",
       "30386 2014-11-27              22\n",
       "30387 2014-11-26              22\n",
       "30388 2014-11-22              22"
      ]
     },
     "execution_count": 38,
     "metadata": {},
     "output_type": "execute_result"
    },
    {
     "name": "stdout",
     "output_type": "stream",
     "text": [
      "<class 'pandas.core.frame.DataFrame'>\n",
      "Int64Index: 30 entries, 30384 to 30546\n",
      "Data columns (total 2 columns):\n",
      "date              30 non-null datetime64[ns]\n",
      "date_block_num    30 non-null int64\n",
      "dtypes: datetime64[ns](1), int64(1)\n",
      "memory usage: 720.0 bytes\n"
     ]
    },
    {
     "data": {
      "text/plain": [
       "22    30\n",
       "Name: date_block_num, dtype: int64"
      ]
     },
     "execution_count": 38,
     "metadata": {},
     "output_type": "execute_result"
    }
   ],
   "source": [
    "dates_train.head()\n",
    "dates_train.info()\n",
    "dates_train.date_block_num.value_counts()\n",
    "dates_test.head()\n",
    "dates_test.info()\n",
    "dates_test.date_block_num.value_counts()"
   ]
  },
  {
   "cell_type": "code",
   "execution_count": 39,
   "metadata": {},
   "outputs": [],
   "source": [
    "dates_test['date_block_num'] = 34\n",
    "dates_test['date'] = dates_test['date'] + pd.DateOffset(years=1) # increase 1 year"
   ]
  },
  {
   "cell_type": "code",
   "execution_count": 40,
   "metadata": {},
   "outputs": [
    {
     "data": {
      "text/html": [
       "<div>\n",
       "<style scoped>\n",
       "    .dataframe tbody tr th:only-of-type {\n",
       "        vertical-align: middle;\n",
       "    }\n",
       "\n",
       "    .dataframe tbody tr th {\n",
       "        vertical-align: top;\n",
       "    }\n",
       "\n",
       "    .dataframe thead th {\n",
       "        text-align: right;\n",
       "    }\n",
       "</style>\n",
       "<table border=\"1\" class=\"dataframe\">\n",
       "  <thead>\n",
       "    <tr style=\"text-align: right;\">\n",
       "      <th></th>\n",
       "      <th>date</th>\n",
       "      <th>date_block_num</th>\n",
       "    </tr>\n",
       "  </thead>\n",
       "  <tbody>\n",
       "    <tr>\n",
       "      <th>30384</th>\n",
       "      <td>2015-11-19</td>\n",
       "      <td>34</td>\n",
       "    </tr>\n",
       "    <tr>\n",
       "      <th>30385</th>\n",
       "      <td>2015-11-18</td>\n",
       "      <td>34</td>\n",
       "    </tr>\n",
       "    <tr>\n",
       "      <th>30386</th>\n",
       "      <td>2015-11-27</td>\n",
       "      <td>34</td>\n",
       "    </tr>\n",
       "    <tr>\n",
       "      <th>30387</th>\n",
       "      <td>2015-11-26</td>\n",
       "      <td>34</td>\n",
       "    </tr>\n",
       "    <tr>\n",
       "      <th>30388</th>\n",
       "      <td>2015-11-22</td>\n",
       "      <td>34</td>\n",
       "    </tr>\n",
       "  </tbody>\n",
       "</table>\n",
       "</div>"
      ],
      "text/plain": [
       "            date  date_block_num\n",
       "30384 2015-11-19              34\n",
       "30385 2015-11-18              34\n",
       "30386 2015-11-27              34\n",
       "30387 2015-11-26              34\n",
       "30388 2015-11-22              34"
      ]
     },
     "execution_count": 40,
     "metadata": {},
     "output_type": "execute_result"
    },
    {
     "name": "stdout",
     "output_type": "stream",
     "text": [
      "<class 'pandas.core.frame.DataFrame'>\n",
      "Int64Index: 30 entries, 30384 to 30546\n",
      "Data columns (total 2 columns):\n",
      "date              30 non-null datetime64[ns]\n",
      "date_block_num    30 non-null int64\n",
      "dtypes: datetime64[ns](1), int64(1)\n",
      "memory usage: 720.0 bytes\n"
     ]
    },
    {
     "data": {
      "text/plain": [
       "34    30\n",
       "Name: date_block_num, dtype: int64"
      ]
     },
     "execution_count": 40,
     "metadata": {},
     "output_type": "execute_result"
    }
   ],
   "source": [
    "dates_test.head()\n",
    "dates_test.info()\n",
    "dates_test.date_block_num.value_counts()"
   ]
  },
  {
   "cell_type": "code",
   "execution_count": 41,
   "metadata": {},
   "outputs": [],
   "source": [
    "dates_all = pd.concat([dates_train, dates_test])"
   ]
  },
  {
   "cell_type": "code",
   "execution_count": 42,
   "metadata": {
    "scrolled": true
   },
   "outputs": [
    {
     "data": {
      "text/plain": [
       "0     31\n",
       "23    31\n",
       "12    31\n",
       "9     31\n",
       "14    31\n",
       "16    31\n",
       "33    31\n",
       "18    31\n",
       "19    31\n",
       "7     31\n",
       "21    31\n",
       "6     31\n",
       "24    31\n",
       "26    31\n",
       "4     31\n",
       "28    31\n",
       "30    31\n",
       "31    31\n",
       "2     31\n",
       "11    31\n",
       "10    30\n",
       "5     30\n",
       "3     30\n",
       "8     30\n",
       "34    30\n",
       "15    30\n",
       "20    30\n",
       "22    30\n",
       "27    30\n",
       "29    30\n",
       "32    30\n",
       "17    30\n",
       "13    28\n",
       "25    28\n",
       "1     28\n",
       "Name: date_block_num, dtype: int64"
      ]
     },
     "execution_count": 42,
     "metadata": {},
     "output_type": "execute_result"
    }
   ],
   "source": [
    "dates_all.date_block_num.value_counts()"
   ]
  },
  {
   "cell_type": "code",
   "execution_count": 43,
   "metadata": {},
   "outputs": [],
   "source": [
    "dates_all['dow'] = dates_all['date'].dt.dayofweek\n",
    "dates_all['year'] = dates_all['date'].dt.year\n",
    "dates_all['month'] = dates_all['date'].dt.month"
   ]
  },
  {
   "cell_type": "code",
   "execution_count": 44,
   "metadata": {},
   "outputs": [],
   "source": [
    "dates_all = pd.get_dummies(dates_all, columns=['dow'])\n",
    "dow_col = ['dow_' + str(x) for x in range(7)]"
   ]
  },
  {
   "cell_type": "code",
   "execution_count": 45,
   "metadata": {},
   "outputs": [
    {
     "data": {
      "text/plain": [
       "['dow_0', 'dow_1', 'dow_2', 'dow_3', 'dow_4', 'dow_5', 'dow_6']"
      ]
     },
     "execution_count": 45,
     "metadata": {},
     "output_type": "execute_result"
    }
   ],
   "source": [
    "dow_col"
   ]
  },
  {
   "cell_type": "code",
   "execution_count": 46,
   "metadata": {},
   "outputs": [],
   "source": [
    "date_features = dates_all.groupby(['year', 'month', 'date_block_num'])[dow_col].agg('sum').reset_index()"
   ]
  },
  {
   "cell_type": "code",
   "execution_count": 47,
   "metadata": {
    "scrolled": true
   },
   "outputs": [
    {
     "data": {
      "text/html": [
       "<div>\n",
       "<style scoped>\n",
       "    .dataframe tbody tr th:only-of-type {\n",
       "        vertical-align: middle;\n",
       "    }\n",
       "\n",
       "    .dataframe tbody tr th {\n",
       "        vertical-align: top;\n",
       "    }\n",
       "\n",
       "    .dataframe thead th {\n",
       "        text-align: right;\n",
       "    }\n",
       "</style>\n",
       "<table border=\"1\" class=\"dataframe\">\n",
       "  <thead>\n",
       "    <tr style=\"text-align: right;\">\n",
       "      <th></th>\n",
       "      <th>year</th>\n",
       "      <th>month</th>\n",
       "      <th>date_block_num</th>\n",
       "      <th>dow_0</th>\n",
       "      <th>dow_1</th>\n",
       "      <th>dow_2</th>\n",
       "      <th>dow_3</th>\n",
       "      <th>dow_4</th>\n",
       "      <th>dow_5</th>\n",
       "      <th>dow_6</th>\n",
       "    </tr>\n",
       "  </thead>\n",
       "  <tbody>\n",
       "    <tr>\n",
       "      <th>0</th>\n",
       "      <td>2013</td>\n",
       "      <td>1</td>\n",
       "      <td>0</td>\n",
       "      <td>4</td>\n",
       "      <td>5</td>\n",
       "      <td>5</td>\n",
       "      <td>5</td>\n",
       "      <td>4</td>\n",
       "      <td>4</td>\n",
       "      <td>4</td>\n",
       "    </tr>\n",
       "    <tr>\n",
       "      <th>1</th>\n",
       "      <td>2013</td>\n",
       "      <td>2</td>\n",
       "      <td>1</td>\n",
       "      <td>4</td>\n",
       "      <td>4</td>\n",
       "      <td>4</td>\n",
       "      <td>4</td>\n",
       "      <td>4</td>\n",
       "      <td>4</td>\n",
       "      <td>4</td>\n",
       "    </tr>\n",
       "    <tr>\n",
       "      <th>2</th>\n",
       "      <td>2013</td>\n",
       "      <td>3</td>\n",
       "      <td>2</td>\n",
       "      <td>4</td>\n",
       "      <td>4</td>\n",
       "      <td>4</td>\n",
       "      <td>4</td>\n",
       "      <td>5</td>\n",
       "      <td>5</td>\n",
       "      <td>5</td>\n",
       "    </tr>\n",
       "    <tr>\n",
       "      <th>3</th>\n",
       "      <td>2013</td>\n",
       "      <td>4</td>\n",
       "      <td>3</td>\n",
       "      <td>5</td>\n",
       "      <td>5</td>\n",
       "      <td>4</td>\n",
       "      <td>4</td>\n",
       "      <td>4</td>\n",
       "      <td>4</td>\n",
       "      <td>4</td>\n",
       "    </tr>\n",
       "    <tr>\n",
       "      <th>4</th>\n",
       "      <td>2013</td>\n",
       "      <td>5</td>\n",
       "      <td>4</td>\n",
       "      <td>4</td>\n",
       "      <td>4</td>\n",
       "      <td>5</td>\n",
       "      <td>5</td>\n",
       "      <td>5</td>\n",
       "      <td>4</td>\n",
       "      <td>4</td>\n",
       "    </tr>\n",
       "    <tr>\n",
       "      <th>5</th>\n",
       "      <td>2013</td>\n",
       "      <td>6</td>\n",
       "      <td>5</td>\n",
       "      <td>4</td>\n",
       "      <td>4</td>\n",
       "      <td>4</td>\n",
       "      <td>4</td>\n",
       "      <td>4</td>\n",
       "      <td>5</td>\n",
       "      <td>5</td>\n",
       "    </tr>\n",
       "    <tr>\n",
       "      <th>6</th>\n",
       "      <td>2013</td>\n",
       "      <td>7</td>\n",
       "      <td>6</td>\n",
       "      <td>5</td>\n",
       "      <td>5</td>\n",
       "      <td>5</td>\n",
       "      <td>4</td>\n",
       "      <td>4</td>\n",
       "      <td>4</td>\n",
       "      <td>4</td>\n",
       "    </tr>\n",
       "    <tr>\n",
       "      <th>7</th>\n",
       "      <td>2013</td>\n",
       "      <td>8</td>\n",
       "      <td>7</td>\n",
       "      <td>4</td>\n",
       "      <td>4</td>\n",
       "      <td>4</td>\n",
       "      <td>5</td>\n",
       "      <td>5</td>\n",
       "      <td>5</td>\n",
       "      <td>4</td>\n",
       "    </tr>\n",
       "    <tr>\n",
       "      <th>8</th>\n",
       "      <td>2013</td>\n",
       "      <td>9</td>\n",
       "      <td>8</td>\n",
       "      <td>5</td>\n",
       "      <td>4</td>\n",
       "      <td>4</td>\n",
       "      <td>4</td>\n",
       "      <td>4</td>\n",
       "      <td>4</td>\n",
       "      <td>5</td>\n",
       "    </tr>\n",
       "    <tr>\n",
       "      <th>9</th>\n",
       "      <td>2013</td>\n",
       "      <td>10</td>\n",
       "      <td>9</td>\n",
       "      <td>4</td>\n",
       "      <td>5</td>\n",
       "      <td>5</td>\n",
       "      <td>5</td>\n",
       "      <td>4</td>\n",
       "      <td>4</td>\n",
       "      <td>4</td>\n",
       "    </tr>\n",
       "    <tr>\n",
       "      <th>10</th>\n",
       "      <td>2013</td>\n",
       "      <td>11</td>\n",
       "      <td>10</td>\n",
       "      <td>4</td>\n",
       "      <td>4</td>\n",
       "      <td>4</td>\n",
       "      <td>4</td>\n",
       "      <td>5</td>\n",
       "      <td>5</td>\n",
       "      <td>4</td>\n",
       "    </tr>\n",
       "    <tr>\n",
       "      <th>11</th>\n",
       "      <td>2013</td>\n",
       "      <td>12</td>\n",
       "      <td>11</td>\n",
       "      <td>5</td>\n",
       "      <td>5</td>\n",
       "      <td>4</td>\n",
       "      <td>4</td>\n",
       "      <td>4</td>\n",
       "      <td>4</td>\n",
       "      <td>5</td>\n",
       "    </tr>\n",
       "    <tr>\n",
       "      <th>12</th>\n",
       "      <td>2014</td>\n",
       "      <td>1</td>\n",
       "      <td>12</td>\n",
       "      <td>4</td>\n",
       "      <td>4</td>\n",
       "      <td>5</td>\n",
       "      <td>5</td>\n",
       "      <td>5</td>\n",
       "      <td>4</td>\n",
       "      <td>4</td>\n",
       "    </tr>\n",
       "    <tr>\n",
       "      <th>13</th>\n",
       "      <td>2014</td>\n",
       "      <td>2</td>\n",
       "      <td>13</td>\n",
       "      <td>4</td>\n",
       "      <td>4</td>\n",
       "      <td>4</td>\n",
       "      <td>4</td>\n",
       "      <td>4</td>\n",
       "      <td>4</td>\n",
       "      <td>4</td>\n",
       "    </tr>\n",
       "    <tr>\n",
       "      <th>14</th>\n",
       "      <td>2014</td>\n",
       "      <td>3</td>\n",
       "      <td>14</td>\n",
       "      <td>5</td>\n",
       "      <td>4</td>\n",
       "      <td>4</td>\n",
       "      <td>4</td>\n",
       "      <td>4</td>\n",
       "      <td>5</td>\n",
       "      <td>5</td>\n",
       "    </tr>\n",
       "    <tr>\n",
       "      <th>15</th>\n",
       "      <td>2014</td>\n",
       "      <td>4</td>\n",
       "      <td>15</td>\n",
       "      <td>4</td>\n",
       "      <td>5</td>\n",
       "      <td>5</td>\n",
       "      <td>4</td>\n",
       "      <td>4</td>\n",
       "      <td>4</td>\n",
       "      <td>4</td>\n",
       "    </tr>\n",
       "    <tr>\n",
       "      <th>16</th>\n",
       "      <td>2014</td>\n",
       "      <td>5</td>\n",
       "      <td>16</td>\n",
       "      <td>4</td>\n",
       "      <td>4</td>\n",
       "      <td>4</td>\n",
       "      <td>5</td>\n",
       "      <td>5</td>\n",
       "      <td>5</td>\n",
       "      <td>4</td>\n",
       "    </tr>\n",
       "    <tr>\n",
       "      <th>17</th>\n",
       "      <td>2014</td>\n",
       "      <td>6</td>\n",
       "      <td>17</td>\n",
       "      <td>5</td>\n",
       "      <td>4</td>\n",
       "      <td>4</td>\n",
       "      <td>4</td>\n",
       "      <td>4</td>\n",
       "      <td>4</td>\n",
       "      <td>5</td>\n",
       "    </tr>\n",
       "    <tr>\n",
       "      <th>18</th>\n",
       "      <td>2014</td>\n",
       "      <td>7</td>\n",
       "      <td>18</td>\n",
       "      <td>4</td>\n",
       "      <td>5</td>\n",
       "      <td>5</td>\n",
       "      <td>5</td>\n",
       "      <td>4</td>\n",
       "      <td>4</td>\n",
       "      <td>4</td>\n",
       "    </tr>\n",
       "    <tr>\n",
       "      <th>19</th>\n",
       "      <td>2014</td>\n",
       "      <td>8</td>\n",
       "      <td>19</td>\n",
       "      <td>4</td>\n",
       "      <td>4</td>\n",
       "      <td>4</td>\n",
       "      <td>4</td>\n",
       "      <td>5</td>\n",
       "      <td>5</td>\n",
       "      <td>5</td>\n",
       "    </tr>\n",
       "    <tr>\n",
       "      <th>20</th>\n",
       "      <td>2014</td>\n",
       "      <td>9</td>\n",
       "      <td>20</td>\n",
       "      <td>5</td>\n",
       "      <td>5</td>\n",
       "      <td>4</td>\n",
       "      <td>4</td>\n",
       "      <td>4</td>\n",
       "      <td>4</td>\n",
       "      <td>4</td>\n",
       "    </tr>\n",
       "    <tr>\n",
       "      <th>21</th>\n",
       "      <td>2014</td>\n",
       "      <td>10</td>\n",
       "      <td>21</td>\n",
       "      <td>4</td>\n",
       "      <td>4</td>\n",
       "      <td>5</td>\n",
       "      <td>5</td>\n",
       "      <td>5</td>\n",
       "      <td>4</td>\n",
       "      <td>4</td>\n",
       "    </tr>\n",
       "    <tr>\n",
       "      <th>22</th>\n",
       "      <td>2014</td>\n",
       "      <td>11</td>\n",
       "      <td>22</td>\n",
       "      <td>4</td>\n",
       "      <td>4</td>\n",
       "      <td>4</td>\n",
       "      <td>4</td>\n",
       "      <td>4</td>\n",
       "      <td>5</td>\n",
       "      <td>5</td>\n",
       "    </tr>\n",
       "    <tr>\n",
       "      <th>23</th>\n",
       "      <td>2014</td>\n",
       "      <td>12</td>\n",
       "      <td>23</td>\n",
       "      <td>5</td>\n",
       "      <td>5</td>\n",
       "      <td>5</td>\n",
       "      <td>4</td>\n",
       "      <td>4</td>\n",
       "      <td>4</td>\n",
       "      <td>4</td>\n",
       "    </tr>\n",
       "    <tr>\n",
       "      <th>24</th>\n",
       "      <td>2015</td>\n",
       "      <td>1</td>\n",
       "      <td>24</td>\n",
       "      <td>4</td>\n",
       "      <td>4</td>\n",
       "      <td>4</td>\n",
       "      <td>5</td>\n",
       "      <td>5</td>\n",
       "      <td>5</td>\n",
       "      <td>4</td>\n",
       "    </tr>\n",
       "    <tr>\n",
       "      <th>25</th>\n",
       "      <td>2015</td>\n",
       "      <td>2</td>\n",
       "      <td>25</td>\n",
       "      <td>4</td>\n",
       "      <td>4</td>\n",
       "      <td>4</td>\n",
       "      <td>4</td>\n",
       "      <td>4</td>\n",
       "      <td>4</td>\n",
       "      <td>4</td>\n",
       "    </tr>\n",
       "    <tr>\n",
       "      <th>26</th>\n",
       "      <td>2015</td>\n",
       "      <td>3</td>\n",
       "      <td>26</td>\n",
       "      <td>5</td>\n",
       "      <td>5</td>\n",
       "      <td>4</td>\n",
       "      <td>4</td>\n",
       "      <td>4</td>\n",
       "      <td>4</td>\n",
       "      <td>5</td>\n",
       "    </tr>\n",
       "    <tr>\n",
       "      <th>27</th>\n",
       "      <td>2015</td>\n",
       "      <td>4</td>\n",
       "      <td>27</td>\n",
       "      <td>4</td>\n",
       "      <td>4</td>\n",
       "      <td>5</td>\n",
       "      <td>5</td>\n",
       "      <td>4</td>\n",
       "      <td>4</td>\n",
       "      <td>4</td>\n",
       "    </tr>\n",
       "    <tr>\n",
       "      <th>28</th>\n",
       "      <td>2015</td>\n",
       "      <td>5</td>\n",
       "      <td>28</td>\n",
       "      <td>4</td>\n",
       "      <td>4</td>\n",
       "      <td>4</td>\n",
       "      <td>4</td>\n",
       "      <td>5</td>\n",
       "      <td>5</td>\n",
       "      <td>5</td>\n",
       "    </tr>\n",
       "    <tr>\n",
       "      <th>29</th>\n",
       "      <td>2015</td>\n",
       "      <td>6</td>\n",
       "      <td>29</td>\n",
       "      <td>5</td>\n",
       "      <td>5</td>\n",
       "      <td>4</td>\n",
       "      <td>4</td>\n",
       "      <td>4</td>\n",
       "      <td>4</td>\n",
       "      <td>4</td>\n",
       "    </tr>\n",
       "    <tr>\n",
       "      <th>30</th>\n",
       "      <td>2015</td>\n",
       "      <td>7</td>\n",
       "      <td>30</td>\n",
       "      <td>4</td>\n",
       "      <td>4</td>\n",
       "      <td>5</td>\n",
       "      <td>5</td>\n",
       "      <td>5</td>\n",
       "      <td>4</td>\n",
       "      <td>4</td>\n",
       "    </tr>\n",
       "    <tr>\n",
       "      <th>31</th>\n",
       "      <td>2015</td>\n",
       "      <td>8</td>\n",
       "      <td>31</td>\n",
       "      <td>5</td>\n",
       "      <td>4</td>\n",
       "      <td>4</td>\n",
       "      <td>4</td>\n",
       "      <td>4</td>\n",
       "      <td>5</td>\n",
       "      <td>5</td>\n",
       "    </tr>\n",
       "    <tr>\n",
       "      <th>32</th>\n",
       "      <td>2015</td>\n",
       "      <td>9</td>\n",
       "      <td>32</td>\n",
       "      <td>4</td>\n",
       "      <td>5</td>\n",
       "      <td>5</td>\n",
       "      <td>4</td>\n",
       "      <td>4</td>\n",
       "      <td>4</td>\n",
       "      <td>4</td>\n",
       "    </tr>\n",
       "    <tr>\n",
       "      <th>33</th>\n",
       "      <td>2015</td>\n",
       "      <td>10</td>\n",
       "      <td>33</td>\n",
       "      <td>4</td>\n",
       "      <td>4</td>\n",
       "      <td>4</td>\n",
       "      <td>5</td>\n",
       "      <td>5</td>\n",
       "      <td>5</td>\n",
       "      <td>4</td>\n",
       "    </tr>\n",
       "    <tr>\n",
       "      <th>34</th>\n",
       "      <td>2015</td>\n",
       "      <td>11</td>\n",
       "      <td>34</td>\n",
       "      <td>5</td>\n",
       "      <td>4</td>\n",
       "      <td>4</td>\n",
       "      <td>4</td>\n",
       "      <td>4</td>\n",
       "      <td>4</td>\n",
       "      <td>5</td>\n",
       "    </tr>\n",
       "  </tbody>\n",
       "</table>\n",
       "</div>"
      ],
      "text/plain": [
       "    year  month  date_block_num  dow_0  dow_1  dow_2  dow_3  dow_4  dow_5  \\\n",
       "0   2013      1               0      4      5      5      5      4      4   \n",
       "1   2013      2               1      4      4      4      4      4      4   \n",
       "2   2013      3               2      4      4      4      4      5      5   \n",
       "3   2013      4               3      5      5      4      4      4      4   \n",
       "4   2013      5               4      4      4      5      5      5      4   \n",
       "5   2013      6               5      4      4      4      4      4      5   \n",
       "6   2013      7               6      5      5      5      4      4      4   \n",
       "7   2013      8               7      4      4      4      5      5      5   \n",
       "8   2013      9               8      5      4      4      4      4      4   \n",
       "9   2013     10               9      4      5      5      5      4      4   \n",
       "10  2013     11              10      4      4      4      4      5      5   \n",
       "11  2013     12              11      5      5      4      4      4      4   \n",
       "12  2014      1              12      4      4      5      5      5      4   \n",
       "13  2014      2              13      4      4      4      4      4      4   \n",
       "14  2014      3              14      5      4      4      4      4      5   \n",
       "15  2014      4              15      4      5      5      4      4      4   \n",
       "16  2014      5              16      4      4      4      5      5      5   \n",
       "17  2014      6              17      5      4      4      4      4      4   \n",
       "18  2014      7              18      4      5      5      5      4      4   \n",
       "19  2014      8              19      4      4      4      4      5      5   \n",
       "20  2014      9              20      5      5      4      4      4      4   \n",
       "21  2014     10              21      4      4      5      5      5      4   \n",
       "22  2014     11              22      4      4      4      4      4      5   \n",
       "23  2014     12              23      5      5      5      4      4      4   \n",
       "24  2015      1              24      4      4      4      5      5      5   \n",
       "25  2015      2              25      4      4      4      4      4      4   \n",
       "26  2015      3              26      5      5      4      4      4      4   \n",
       "27  2015      4              27      4      4      5      5      4      4   \n",
       "28  2015      5              28      4      4      4      4      5      5   \n",
       "29  2015      6              29      5      5      4      4      4      4   \n",
       "30  2015      7              30      4      4      5      5      5      4   \n",
       "31  2015      8              31      5      4      4      4      4      5   \n",
       "32  2015      9              32      4      5      5      4      4      4   \n",
       "33  2015     10              33      4      4      4      5      5      5   \n",
       "34  2015     11              34      5      4      4      4      4      4   \n",
       "\n",
       "    dow_6  \n",
       "0       4  \n",
       "1       4  \n",
       "2       5  \n",
       "3       4  \n",
       "4       4  \n",
       "5       5  \n",
       "6       4  \n",
       "7       4  \n",
       "8       5  \n",
       "9       4  \n",
       "10      4  \n",
       "11      5  \n",
       "12      4  \n",
       "13      4  \n",
       "14      5  \n",
       "15      4  \n",
       "16      4  \n",
       "17      5  \n",
       "18      4  \n",
       "19      5  \n",
       "20      4  \n",
       "21      4  \n",
       "22      5  \n",
       "23      4  \n",
       "24      4  \n",
       "25      4  \n",
       "26      5  \n",
       "27      4  \n",
       "28      5  \n",
       "29      4  \n",
       "30      4  \n",
       "31      5  \n",
       "32      4  \n",
       "33      4  \n",
       "34      5  "
      ]
     },
     "execution_count": 47,
     "metadata": {},
     "output_type": "execute_result"
    }
   ],
   "source": [
    "dates_all.groupby(['year', 'month', 'date_block_num'])[dow_col].agg('sum').reset_index()"
   ]
  },
  {
   "cell_type": "code",
   "execution_count": 48,
   "metadata": {},
   "outputs": [],
   "source": [
    "date_features['days_of_month'] = date_features[dow_col].sum(axis=1)"
   ]
  },
  {
   "cell_type": "code",
   "execution_count": 49,
   "metadata": {},
   "outputs": [
    {
     "data": {
      "text/plain": [
       "count    35.000000\n",
       "mean     30.400000\n",
       "std       0.881176\n",
       "min      28.000000\n",
       "25%      30.000000\n",
       "50%      31.000000\n",
       "75%      31.000000\n",
       "max      31.000000\n",
       "Name: days_of_month, dtype: float64"
      ]
     },
     "execution_count": 49,
     "metadata": {},
     "output_type": "execute_result"
    }
   ],
   "source": [
    "date_features[\"days_of_month\"].describe()"
   ]
  },
  {
   "cell_type": "code",
   "execution_count": 50,
   "metadata": {},
   "outputs": [],
   "source": [
    "date_features['year'] = date_features['year'] - 2013 # We already choose data from 2013, so we do it\n",
    "# to make year start from 0. Maybe this helps to make the value of \"year\" smaller"
   ]
  },
  {
   "cell_type": "code",
   "execution_count": 51,
   "metadata": {},
   "outputs": [],
   "source": [
    "date_features = date_features[['month', 'year', 'days_of_month', 'date_block_num']]"
   ]
  },
  {
   "cell_type": "code",
   "execution_count": 52,
   "metadata": {},
   "outputs": [],
   "source": [
    "all_data = all_data.merge(date_features, on = 'date_block_num', how = 'left')"
   ]
  },
  {
   "cell_type": "code",
   "execution_count": 53,
   "metadata": {},
   "outputs": [
    {
     "data": {
      "text/html": [
       "<div>\n",
       "<style scoped>\n",
       "    .dataframe tbody tr th:only-of-type {\n",
       "        vertical-align: middle;\n",
       "    }\n",
       "\n",
       "    .dataframe tbody tr th {\n",
       "        vertical-align: top;\n",
       "    }\n",
       "\n",
       "    .dataframe thead th {\n",
       "        text-align: right;\n",
       "    }\n",
       "</style>\n",
       "<table border=\"1\" class=\"dataframe\">\n",
       "  <thead>\n",
       "    <tr style=\"text-align: right;\">\n",
       "      <th></th>\n",
       "      <th>date_block_num</th>\n",
       "      <th>item_cat_id_fix</th>\n",
       "      <th>item_category_id</th>\n",
       "      <th>item_cnt_month</th>\n",
       "      <th>item_id</th>\n",
       "      <th>shop_id</th>\n",
       "      <th>item_cnt_month_lag_1</th>\n",
       "      <th>item_cnt_month_lag_2</th>\n",
       "      <th>item_cnt_month_lag_3</th>\n",
       "      <th>item_cnt_month_lag_4</th>\n",
       "      <th>item_cnt_month_lag_12</th>\n",
       "      <th>month</th>\n",
       "      <th>year</th>\n",
       "      <th>days_of_month</th>\n",
       "    </tr>\n",
       "  </thead>\n",
       "  <tbody>\n",
       "    <tr>\n",
       "      <th>0</th>\n",
       "      <td>12</td>\n",
       "      <td>11</td>\n",
       "      <td>40</td>\n",
       "      <td>2.0</td>\n",
       "      <td>5325</td>\n",
       "      <td>59</td>\n",
       "      <td>3.0</td>\n",
       "      <td>0.0</td>\n",
       "      <td>0.0</td>\n",
       "      <td>0.0</td>\n",
       "      <td>0.0</td>\n",
       "      <td>1</td>\n",
       "      <td>1</td>\n",
       "      <td>31</td>\n",
       "    </tr>\n",
       "    <tr>\n",
       "      <th>1</th>\n",
       "      <td>12</td>\n",
       "      <td>12</td>\n",
       "      <td>55</td>\n",
       "      <td>1.0</td>\n",
       "      <td>5444</td>\n",
       "      <td>59</td>\n",
       "      <td>1.0</td>\n",
       "      <td>0.0</td>\n",
       "      <td>0.0</td>\n",
       "      <td>0.0</td>\n",
       "      <td>0.0</td>\n",
       "      <td>1</td>\n",
       "      <td>1</td>\n",
       "      <td>31</td>\n",
       "    </tr>\n",
       "    <tr>\n",
       "      <th>2</th>\n",
       "      <td>12</td>\n",
       "      <td>12</td>\n",
       "      <td>55</td>\n",
       "      <td>1.0</td>\n",
       "      <td>5459</td>\n",
       "      <td>59</td>\n",
       "      <td>1.0</td>\n",
       "      <td>2.0</td>\n",
       "      <td>0.0</td>\n",
       "      <td>0.0</td>\n",
       "      <td>0.0</td>\n",
       "      <td>1</td>\n",
       "      <td>1</td>\n",
       "      <td>31</td>\n",
       "    </tr>\n",
       "    <tr>\n",
       "      <th>3</th>\n",
       "      <td>12</td>\n",
       "      <td>12</td>\n",
       "      <td>55</td>\n",
       "      <td>1.0</td>\n",
       "      <td>5511</td>\n",
       "      <td>59</td>\n",
       "      <td>0.0</td>\n",
       "      <td>1.0</td>\n",
       "      <td>0.0</td>\n",
       "      <td>0.0</td>\n",
       "      <td>0.0</td>\n",
       "      <td>1</td>\n",
       "      <td>1</td>\n",
       "      <td>31</td>\n",
       "    </tr>\n",
       "    <tr>\n",
       "      <th>4</th>\n",
       "      <td>12</td>\n",
       "      <td>3</td>\n",
       "      <td>30</td>\n",
       "      <td>3.0</td>\n",
       "      <td>5811</td>\n",
       "      <td>59</td>\n",
       "      <td>5.0</td>\n",
       "      <td>3.0</td>\n",
       "      <td>3.0</td>\n",
       "      <td>3.0</td>\n",
       "      <td>3.0</td>\n",
       "      <td>1</td>\n",
       "      <td>1</td>\n",
       "      <td>31</td>\n",
       "    </tr>\n",
       "  </tbody>\n",
       "</table>\n",
       "</div>"
      ],
      "text/plain": [
       "   date_block_num  item_cat_id_fix  item_category_id  item_cnt_month  item_id  \\\n",
       "0              12               11                40             2.0     5325   \n",
       "1              12               12                55             1.0     5444   \n",
       "2              12               12                55             1.0     5459   \n",
       "3              12               12                55             1.0     5511   \n",
       "4              12                3                30             3.0     5811   \n",
       "\n",
       "   shop_id  item_cnt_month_lag_1  item_cnt_month_lag_2  item_cnt_month_lag_3  \\\n",
       "0       59                   3.0                   0.0                   0.0   \n",
       "1       59                   1.0                   0.0                   0.0   \n",
       "2       59                   1.0                   2.0                   0.0   \n",
       "3       59                   0.0                   1.0                   0.0   \n",
       "4       59                   5.0                   3.0                   3.0   \n",
       "\n",
       "   item_cnt_month_lag_4  item_cnt_month_lag_12  month  year  days_of_month  \n",
       "0                   0.0                    0.0      1     1             31  \n",
       "1                   0.0                    0.0      1     1             31  \n",
       "2                   0.0                    0.0      1     1             31  \n",
       "3                   0.0                    0.0      1     1             31  \n",
       "4                   3.0                    3.0      1     1             31  "
      ]
     },
     "execution_count": 53,
     "metadata": {},
     "output_type": "execute_result"
    }
   ],
   "source": [
    "all_data.head()"
   ]
  },
  {
   "cell_type": "code",
   "execution_count": 54,
   "metadata": {},
   "outputs": [],
   "source": [
    "date_columns = date_features.columns.difference(set(index_cols))"
   ]
  },
  {
   "cell_type": "code",
   "execution_count": 55,
   "metadata": {},
   "outputs": [
    {
     "data": {
      "text/plain": [
       "Index(['days_of_month', 'month', 'year'], dtype='object')"
      ]
     },
     "execution_count": 55,
     "metadata": {},
     "output_type": "execute_result"
    }
   ],
   "source": [
    "date_columns"
   ]
  },
  {
   "cell_type": "code",
   "execution_count": 56,
   "metadata": {},
   "outputs": [
    {
     "name": "stdout",
     "output_type": "stream",
     "text": [
      "11.10 min: Start getting date features\n"
     ]
    }
   ],
   "source": [
    "print('%0.2f min: Start getting date features'%((time.time() - start_time)/60))\n",
    "dates_train = sale_train[['date', 'date_block_num']].drop_duplicates()\n",
    "dates_test = dates_train[dates_train['date_block_num'] == 34-12]\n",
    "dates_test['date_block_num'] = 34\n",
    "dates_test['date'] = dates_test['date'] + pd.DateOffset(years=1) # increase 1 year"
   ]
  },
  {
   "cell_type": "code",
   "execution_count": 57,
   "metadata": {},
   "outputs": [
    {
     "name": "stdout",
     "output_type": "stream",
     "text": [
      "11.15 min: Finish getting date features\n"
     ]
    }
   ],
   "source": [
    "dates_all = pd.concat([dates_train, dates_test])\n",
    "dates_all['dow'] = dates_all['date'].dt.dayofweek\n",
    "dates_all['year'] = dates_all['date'].dt.year\n",
    "dates_all['month'] = dates_all['date'].dt.month\n",
    "dates_all = pd.get_dummies(dates_all, columns=['dow'])\n",
    "dow_col = ['dow_' + str(x) for x in range(7)]\n",
    "date_features = dates_all.groupby(['year', 'month', 'date_block_num'])[dow_col].agg('sum').reset_index()\n",
    "date_features['days_of_month'] = date_features[dow_col].sum(axis=1)\n",
    "date_features['year'] = date_features['year'] - 2013\n",
    "date_features = date_features[['month', 'year', 'days_of_month', 'date_block_num']]\n",
    "all_data = all_data.merge(date_features, on = 'date_block_num', how = 'left')\n",
    "date_columns = date_features.columns.difference(set(index_cols))\n",
    "print('%0.2f min: Finish getting date features'%((time.time() - start_time)/60))"
   ]
  },
  {
   "cell_type": "markdown",
   "metadata": {},
   "source": [
    "#### 2.4 Scale feature columns"
   ]
  },
  {
   "cell_type": "code",
   "execution_count": 58,
   "metadata": {},
   "outputs": [],
   "source": [
    "from sklearn.preprocessing import StandardScaler"
   ]
  },
  {
   "cell_type": "code",
   "execution_count": 59,
   "metadata": {},
   "outputs": [],
   "source": [
    "train = all_data[all_data[\"date_block_num\"]!= all_data[\"date_block_num\"].max()]\n",
    "test = all_data[all_data[\"date_block_num\"]== all_data[\"date_block_num\"].max()]"
   ]
  },
  {
   "cell_type": "code",
   "execution_count": 60,
   "metadata": {},
   "outputs": [
    {
     "data": {
      "text/html": [
       "<div>\n",
       "<style scoped>\n",
       "    .dataframe tbody tr th:only-of-type {\n",
       "        vertical-align: middle;\n",
       "    }\n",
       "\n",
       "    .dataframe tbody tr th {\n",
       "        vertical-align: top;\n",
       "    }\n",
       "\n",
       "    .dataframe thead th {\n",
       "        text-align: right;\n",
       "    }\n",
       "</style>\n",
       "<table border=\"1\" class=\"dataframe\">\n",
       "  <thead>\n",
       "    <tr style=\"text-align: right;\">\n",
       "      <th></th>\n",
       "      <th>date_block_num</th>\n",
       "      <th>item_cat_id_fix</th>\n",
       "      <th>item_category_id</th>\n",
       "      <th>item_cnt_month</th>\n",
       "      <th>item_id</th>\n",
       "      <th>shop_id</th>\n",
       "      <th>item_cnt_month_lag_1</th>\n",
       "      <th>item_cnt_month_lag_2</th>\n",
       "      <th>item_cnt_month_lag_3</th>\n",
       "      <th>item_cnt_month_lag_4</th>\n",
       "      <th>item_cnt_month_lag_12</th>\n",
       "      <th>month_x</th>\n",
       "      <th>year_x</th>\n",
       "      <th>days_of_month_x</th>\n",
       "      <th>month_y</th>\n",
       "      <th>year_y</th>\n",
       "      <th>days_of_month_y</th>\n",
       "    </tr>\n",
       "  </thead>\n",
       "  <tbody>\n",
       "    <tr>\n",
       "      <th>5245110</th>\n",
       "      <td>34</td>\n",
       "      <td>7</td>\n",
       "      <td>19</td>\n",
       "      <td>0.0</td>\n",
       "      <td>5037</td>\n",
       "      <td>5</td>\n",
       "      <td>0.0</td>\n",
       "      <td>1.0</td>\n",
       "      <td>3.0</td>\n",
       "      <td>1.0</td>\n",
       "      <td>1.0</td>\n",
       "      <td>11</td>\n",
       "      <td>2</td>\n",
       "      <td>30</td>\n",
       "      <td>11</td>\n",
       "      <td>2</td>\n",
       "      <td>30</td>\n",
       "    </tr>\n",
       "    <tr>\n",
       "      <th>5245111</th>\n",
       "      <td>34</td>\n",
       "      <td>12</td>\n",
       "      <td>55</td>\n",
       "      <td>0.0</td>\n",
       "      <td>5320</td>\n",
       "      <td>5</td>\n",
       "      <td>0.0</td>\n",
       "      <td>0.0</td>\n",
       "      <td>0.0</td>\n",
       "      <td>0.0</td>\n",
       "      <td>0.0</td>\n",
       "      <td>11</td>\n",
       "      <td>2</td>\n",
       "      <td>30</td>\n",
       "      <td>11</td>\n",
       "      <td>2</td>\n",
       "      <td>30</td>\n",
       "    </tr>\n",
       "    <tr>\n",
       "      <th>5245112</th>\n",
       "      <td>34</td>\n",
       "      <td>7</td>\n",
       "      <td>19</td>\n",
       "      <td>0.0</td>\n",
       "      <td>5233</td>\n",
       "      <td>5</td>\n",
       "      <td>1.0</td>\n",
       "      <td>3.0</td>\n",
       "      <td>1.0</td>\n",
       "      <td>0.0</td>\n",
       "      <td>0.0</td>\n",
       "      <td>11</td>\n",
       "      <td>2</td>\n",
       "      <td>30</td>\n",
       "      <td>11</td>\n",
       "      <td>2</td>\n",
       "      <td>30</td>\n",
       "    </tr>\n",
       "    <tr>\n",
       "      <th>5245113</th>\n",
       "      <td>34</td>\n",
       "      <td>7</td>\n",
       "      <td>23</td>\n",
       "      <td>0.0</td>\n",
       "      <td>5232</td>\n",
       "      <td>5</td>\n",
       "      <td>0.0</td>\n",
       "      <td>0.0</td>\n",
       "      <td>1.0</td>\n",
       "      <td>0.0</td>\n",
       "      <td>0.0</td>\n",
       "      <td>11</td>\n",
       "      <td>2</td>\n",
       "      <td>30</td>\n",
       "      <td>11</td>\n",
       "      <td>2</td>\n",
       "      <td>30</td>\n",
       "    </tr>\n",
       "    <tr>\n",
       "      <th>5245114</th>\n",
       "      <td>34</td>\n",
       "      <td>7</td>\n",
       "      <td>20</td>\n",
       "      <td>0.0</td>\n",
       "      <td>5268</td>\n",
       "      <td>5</td>\n",
       "      <td>0.0</td>\n",
       "      <td>0.0</td>\n",
       "      <td>0.0</td>\n",
       "      <td>0.0</td>\n",
       "      <td>0.0</td>\n",
       "      <td>11</td>\n",
       "      <td>2</td>\n",
       "      <td>30</td>\n",
       "      <td>11</td>\n",
       "      <td>2</td>\n",
       "      <td>30</td>\n",
       "    </tr>\n",
       "  </tbody>\n",
       "</table>\n",
       "</div>"
      ],
      "text/plain": [
       "         date_block_num  item_cat_id_fix  item_category_id  item_cnt_month  \\\n",
       "5245110              34                7                19             0.0   \n",
       "5245111              34               12                55             0.0   \n",
       "5245112              34                7                19             0.0   \n",
       "5245113              34                7                23             0.0   \n",
       "5245114              34                7                20             0.0   \n",
       "\n",
       "         item_id  shop_id  item_cnt_month_lag_1  item_cnt_month_lag_2  \\\n",
       "5245110     5037        5                   0.0                   1.0   \n",
       "5245111     5320        5                   0.0                   0.0   \n",
       "5245112     5233        5                   1.0                   3.0   \n",
       "5245113     5232        5                   0.0                   0.0   \n",
       "5245114     5268        5                   0.0                   0.0   \n",
       "\n",
       "         item_cnt_month_lag_3  item_cnt_month_lag_4  item_cnt_month_lag_12  \\\n",
       "5245110                   3.0                   1.0                    1.0   \n",
       "5245111                   0.0                   0.0                    0.0   \n",
       "5245112                   1.0                   0.0                    0.0   \n",
       "5245113                   1.0                   0.0                    0.0   \n",
       "5245114                   0.0                   0.0                    0.0   \n",
       "\n",
       "         month_x  year_x  days_of_month_x  month_y  year_y  days_of_month_y  \n",
       "5245110       11       2               30       11       2               30  \n",
       "5245111       11       2               30       11       2               30  \n",
       "5245112       11       2               30       11       2               30  \n",
       "5245113       11       2               30       11       2               30  \n",
       "5245114       11       2               30       11       2               30  "
      ]
     },
     "execution_count": 60,
     "metadata": {},
     "output_type": "execute_result"
    }
   ],
   "source": [
    "test.head()"
   ]
  },
  {
   "cell_type": "code",
   "execution_count": 61,
   "metadata": {},
   "outputs": [],
   "source": [
    "sc = StandardScaler()"
   ]
  },
  {
   "cell_type": "code",
   "execution_count": 62,
   "metadata": {},
   "outputs": [],
   "source": [
    "to_drop_cols = [\"date_block_num\"]"
   ]
  },
  {
   "cell_type": "code",
   "execution_count": 63,
   "metadata": {},
   "outputs": [
    {
     "data": {
      "text/plain": [
       "['shop_id', 'item_id', 'item_category_id', 'item_cat_id_fix', 'date_block_num']"
      ]
     },
     "execution_count": 63,
     "metadata": {},
     "output_type": "execute_result"
    }
   ],
   "source": [
    "index_cols"
   ]
  },
  {
   "cell_type": "code",
   "execution_count": 64,
   "metadata": {},
   "outputs": [],
   "source": [
    "feature_columns = list(set(lag_cols + index_cols + list(date_columns)).difference(to_drop_cols))"
   ]
  },
  {
   "cell_type": "code",
   "execution_count": 65,
   "metadata": {},
   "outputs": [
    {
     "data": {
      "text/plain": [
       "['item_cat_id_fix',\n",
       " 'year',\n",
       " 'item_cnt_month_lag_2',\n",
       " 'days_of_month',\n",
       " 'month',\n",
       " 'item_cnt_month_lag_12',\n",
       " 'item_cnt_month_lag_4',\n",
       " 'shop_id',\n",
       " 'item_cnt_month_lag_1',\n",
       " 'item_category_id',\n",
       " 'item_cnt_month_lag_3',\n",
       " 'item_id']"
      ]
     },
     "execution_count": 65,
     "metadata": {},
     "output_type": "execute_result"
    }
   ],
   "source": [
    "feature_columns"
   ]
  },
  {
   "cell_type": "code",
   "execution_count": 78,
   "metadata": {},
   "outputs": [],
   "source": [
    "train.rename(columns = {\"month_x\":\"month\", \"year_x\":\"year\", \"days_of_month_x\":\"days_of_month\"}, inplace = True)\n",
    "test.rename(columns = {\"month_x\":\"month\", \"year_x\":\"year\", \"days_of_month_x\":\"days_of_month\"}, inplace = True)"
   ]
  },
  {
   "cell_type": "code",
   "execution_count": 79,
   "metadata": {},
   "outputs": [],
   "source": [
    "train.drop([\"month_y\", \"year_y\", \"days_of_month_y\"], axis = 1, inplace = True)\n",
    "test.drop([\"month_y\", \"year_y\", \"days_of_month_y\"], axis = 1, inplace = True)"
   ]
  },
  {
   "cell_type": "code",
   "execution_count": 80,
   "metadata": {},
   "outputs": [
    {
     "name": "stdout",
     "output_type": "stream",
     "text": [
      "<class 'pandas.core.frame.DataFrame'>\n",
      "Int64Index: 214200 entries, 5245110 to 5459309\n",
      "Data columns (total 14 columns):\n",
      "date_block_num           214200 non-null int16\n",
      "item_cat_id_fix          214200 non-null int16\n",
      "item_category_id         214200 non-null int16\n",
      "item_cnt_month           214200 non-null float32\n",
      "item_id                  214200 non-null int16\n",
      "shop_id                  214200 non-null int16\n",
      "item_cnt_month_lag_1     214200 non-null float32\n",
      "item_cnt_month_lag_2     214200 non-null float32\n",
      "item_cnt_month_lag_3     214200 non-null float32\n",
      "item_cnt_month_lag_4     214200 non-null float32\n",
      "item_cnt_month_lag_12    214200 non-null float32\n",
      "month                    214200 non-null int64\n",
      "year                     214200 non-null int64\n",
      "days_of_month            214200 non-null int64\n",
      "dtypes: float32(6), int16(5), int64(3)\n",
      "memory usage: 13.5 MB\n"
     ]
    }
   ],
   "source": [
    "test.info()"
   ]
  },
  {
   "cell_type": "code",
   "execution_count": 81,
   "metadata": {},
   "outputs": [],
   "source": [
    "train[feature_columns] = sc.fit_transform(train[feature_columns])\n",
    "test[feature_columns] = sc.fit_transform(test[feature_columns])"
   ]
  },
  {
   "cell_type": "code",
   "execution_count": 82,
   "metadata": {},
   "outputs": [],
   "source": [
    "all_data = pd.concat([train, test], axis = 0)\n",
    "all_data = downcast_dtypes(all_data)"
   ]
  },
  {
   "cell_type": "code",
   "execution_count": 83,
   "metadata": {},
   "outputs": [],
   "source": [
    "all_data.to_csv(\"../results/06/step_2.csv\")"
   ]
  },
  {
   "cell_type": "code",
   "execution_count": 84,
   "metadata": {},
   "outputs": [
    {
     "data": {
      "text/plain": [
       "67"
      ]
     },
     "execution_count": 84,
     "metadata": {},
     "output_type": "execute_result"
    },
    {
     "name": "stdout",
     "output_type": "stream",
     "text": [
      "400.77 min: Finish scaling features\n"
     ]
    }
   ],
   "source": [
    "gc.collect()\n",
    "print('%0.2f min: Finish scaling features'%((time.time() - start_time)/60))"
   ]
  },
  {
   "cell_type": "markdown",
   "metadata": {},
   "source": [
    "### 3. First-level model"
   ]
  },
  {
   "cell_type": "markdown",
   "metadata": {},
   "source": [
    "###### Save `date_block_num`, as we can't use them as features, but will need them to split the dataset into parts"
   ]
  },
  {
   "cell_type": "code",
   "execution_count": null,
   "metadata": {},
   "outputs": [],
   "source": [
    "dates = all_data[\"date_block_num\"]\n",
    "last_block = dates.max() # last_block 34"
   ]
  },
  {
   "cell_type": "code",
   "execution_count": null,
   "metadata": {},
   "outputs": [],
   "source": [
    "print(\"%0.2f min: Start training First level models\" %((time.time() - start_time)/60))"
   ]
  },
  {
   "cell_type": "code",
   "execution_count": null,
   "metadata": {},
   "outputs": [],
   "source": [
    "start_first_level_total = time.perf_counter()\n",
    "scoringMethod = 'r2'\n",
    "num_first_level_models = 3 "
   ]
  },
  {
   "cell_type": "code",
   "execution_count": null,
   "metadata": {},
   "outputs": [],
   "source": [
    "from sklearn.metrics import mean_squared_error\n",
    "from math import sqrt"
   ]
  },
  {
   "cell_type": "code",
   "execution_count": null,
   "metadata": {},
   "outputs": [],
   "source": [
    "# Train meta-features M = 15 (12 + 15 = 27)"
   ]
  },
  {
   "cell_type": "code",
   "execution_count": null,
   "metadata": {},
   "outputs": [],
   "source": [
    "months_to_generate_meta_features = range(27,last_block +1)\n",
    "mask = dates.isin(months_to_generate_meta_features)\n",
    "Target = 'item_cnt_month'\n",
    "y_all_level2 = all_data[Target][mask].values # choose item_cnt_month where date_block_num from 27..34\n",
    "X_all_level2 = np.zeros([y_all_level2.shape[0], num_first_level_models])"
   ]
  },
  {
   "cell_type": "code",
   "execution_count": null,
   "metadata": {},
   "outputs": [],
   "source": [
    "slice_start = 0"
   ]
  },
  {
   "cell_type": "code",
   "execution_count": null,
   "metadata": {},
   "outputs": [],
   "source": [
    "SEED = 0\n",
    "for cur_block_num in tqdm(months_to_generate_meta_features):\n",
    "    print('-' * 50)\n",
    "    print('Start training for month%d'% cur_block_num)\n",
    "    start_cur_month = time.perf_counter()\n",
    "    cur_X_train = all_data.loc[dates <  cur_block_num][feature_columns]\n",
    "    cur_X_test =  all_data.loc[dates == cur_block_num][feature_columns]\n",
    "    cur_y_train = all_data.loc[dates <  cur_block_num, Target].values\n",
    "    cur_y_test =  all_data.loc[dates == cur_block_num, Target].values\n",
    "    # Create Numpy arrays of train, test and target dataframes to feed into models\n",
    "    train_x = cur_X_train.values\n",
    "    train_y = cur_y_train.ravel()\n",
    "    test_x = cur_X_test.values\n",
    "    test_y = cur_y_test.ravel()\n",
    "    \n",
    "    preds = []\n",
    "    from sklearn.linear_model import (LinearRegression, SGDRegressor)\n",
    "    import lightgbm as lgb\n",
    "    sgdr= SGDRegressor(\n",
    "        penalty = 'l2' ,\n",
    "        random_state = SEED )\n",
    "    lgb_params = {\n",
    "        'feature_fraction': 0.75,\n",
    "        'metric': 'rmse',\n",
    "        'nthread':1,\n",
    "        'min_data_in_leaf': 2**7,\n",
    "        'bagging_fraction': 0.75,\n",
    "        'learning_rate': 0.03,\n",
    "        'objective': 'mse',\n",
    "        'bagging_seed': 2**7,\n",
    "        'num_leaves': 2**7,\n",
    "        'bagging_freq':1,\n",
    "        'verbose':0}\n",
    "    estimators = [sgdr]\n",
    "    for estimator in estimators:\n",
    "        print('Training Model %d: %s'%(len(preds), estimator.__class__.__name__))\n",
    "        start = time.perf_counter()\n",
    "        estimator.fit(train_x, train_y)\n",
    "        pred_test = estimator.predict(test_x)\n",
    "        preds.append(pred_test)\n",
    "\n",
    "        pred_train = estimator.predict(train_x)\n",
    "        print('Train RMSE for %s is %f' % (estimator.__class__.__name__, sqrt(mean_squared_error(cur_y_train, pred_train))))\n",
    "        print('Test RMSE for %s is %f' % (estimator.__class__.__name__, sqrt(mean_squared_error(cur_y_test, pred_test))))\n",
    "\n",
    "        run = time.perf_counter() - start\n",
    "        print('{} runs for {:.2f} seconds.'.format(estimator.__class__.__name__, run))\n",
    "        print()\n",
    "#         import pickle\n",
    "#         pickle.dump(estimator, open(filename, 'wb'))\n",
    "\n",
    "    print('Training Model %d: %s'%(len(preds), 'lightgbm'))\n",
    "    start = time.perf_counter()\n",
    "    estimator = lgb.train(lgb_params, lgb.Dataset(train_x, label=train_y), 300)\n",
    "    pred_test = estimator.predict(test_x)\n",
    "    preds.append(pred_test)\n",
    "\n",
    "    pred_train = estimator.predict(train_x)\n",
    "    print('Train RMSE for %s is %f' % ('lightgbm', sqrt(mean_squared_error(cur_y_train, pred_train))))\n",
    "    print('Test RMSE for %s is %f' % ('lightgbm', sqrt(mean_squared_error(cur_y_test, pred_test))))\n",
    "\n",
    "    run = time.perf_counter() - start\n",
    "    print('{} runs for {:.2f} seconds.'.format('lightgbm', run))\n",
    "    print()\n",
    "\n",
    "    print('Training Model %d: %s'%(len(preds), 'keras'))\n",
    "    start = time.perf_counter()\n",
    "    from keras.models import Sequential\n",
    "    from keras.layers import Dense\n",
    "    from keras.wrappers.scikit_learn import KerasRegressor\n",
    "\n",
    "    def baseline_model():\n",
    "        # create model\n",
    "        model = Sequential()\n",
    "        model.add(Dense(20, input_dim=train_x.shape[1], kernel_initializer='uniform', activation='softplus'))\n",
    "        model.add(Dense(1, kernel_initializer='uniform', activation = 'relu'))\n",
    "        # Compile model\n",
    "        model.compile(loss='mse', optimizer='Nadam', metrics=['mse'])\n",
    "        # model.compile(loss='mean_squared_error', optimizer='adam')\n",
    "        return model\n",
    "\n",
    "    estimator = KerasRegressor(build_fn=baseline_model, verbose=1, epochs=5, batch_size = 55000)\n",
    "    estimator.fit(train_x, train_y)\n",
    "    pred_test = estimator.predict(test_x)\n",
    "    preds.append(pred_test)\n",
    "    run = time.perf_counter() - start\n",
    "    print('{} runs for {:.2f} seconds.'.format('lightgbm', run))\n",
    "\n",
    "    cur_month_run_total = time.perf_counter() - start_cur_month\n",
    "    print('Total running time was {:.2f} minutes.'.format(cur_month_run_total/60))\n",
    "    print('-' * 50)\n",
    "\n",
    "    slice_end = slice_start + cur_X_test.shape[0]\n",
    "    X_all_level2[ slice_start : slice_end , :] = np.c_[preds].transpose()\n",
    "    slice_start = slice_end"
   ]
  },
  {
   "cell_type": "code",
   "execution_count": null,
   "metadata": {},
   "outputs": [],
   "source": []
  },
  {
   "cell_type": "code",
   "execution_count": null,
   "metadata": {},
   "outputs": [],
   "source": [
    "# Split train and test\n",
    "test_nrow = len(preds[0])\n",
    "X_train_level2 = X_all_level2[ : -test_nrow, :]\n",
    "X_test_level2 = X_all_level2[ -test_nrow: , :]\n",
    "y_train_level2 = y_all_level2[ : -test_nrow]\n",
    "y_test_level2 = y_all_level2[ -test_nrow : ]\n",
    "print('%0.2f min: Finish training First level models'%((time.perf_counter() - start_first_level_total)/60))"
   ]
  },
  {
   "cell_type": "markdown",
   "metadata": {},
   "source": [
    "### 4. Ensembling"
   ]
  },
  {
   "cell_type": "code",
   "execution_count": null,
   "metadata": {},
   "outputs": [],
   "source": [
    "pred_list = {}"
   ]
  },
  {
   "cell_type": "code",
   "execution_count": null,
   "metadata": {},
   "outputs": [],
   "source": [
    "# A. Second level learning model via linear regression\n",
    "print('Training Second level learning model via linear regression')\n",
    "from sklearn.linear_model import (LinearRegression, SGDRegressor)\n",
    "lr = LinearRegression()\n",
    "lr.fit(X_train_level2, y_train_level2)\n",
    "# Compute R-squared on the train and test sets.\n",
    "# print('Train R-squared for %s is %f' %('test_preds_lr_stacking', sqrt(mean_squared_error(y_train_level2, lr.predict(X_train_level2)))))\n",
    "test_preds_lr_stacking = lr.predict(X_test_level2)\n",
    "train_preds_lr_stacking = lr.predict(X_train_level2)\n",
    "print('Train R-squared for %s is %f' %('train_preds_lr_stacking', sqrt(mean_squared_error(y_train_level2, train_preds_lr_stacking))))\n",
    "pred_list['test_preds_lr_stacking'] = test_preds_lr_stacking\n",
    "if Validation:\n",
    "    print('Test R-squared for %s is %f' %('test_preds_lr_stacking', sqrt(mean_squared_error(y_test_level2, test_preds_lr_stacking))))"
   ]
  },
  {
   "cell_type": "code",
   "execution_count": null,
   "metadata": {},
   "outputs": [],
   "source": [
    "# B. Second level learning model via SGDRegressor\n",
    "print('Training Second level learning model via SGDRegressor')\n",
    "sgdr= SGDRegressor(\n",
    "    penalty = 'l2' ,\n",
    "    random_state = SEED )\n",
    "sgdr.fit(X_train_level2, y_train_level2)\n",
    "# Compute R-squared on the train and test sets.\n",
    "# print('Train R-squared for %s is %f' %('test_preds_lr_stacking', sqrt(mean_squared_error(y_train_level2, lr.predict(X_train_level2)))))\n",
    "test_preds_sgdr_stacking = sgdr.predict(X_test_level2)\n",
    "train_preds_sgdr_stacking = sgdr.predict(X_train_level2)\n",
    "print('Train R-squared for %s is %f' %('train_preds_lr_stacking', sqrt(mean_squared_error(y_train_level2, train_preds_sgdr_stacking))))\n",
    "pred_list['test_preds_sgdr_stacking'] = test_preds_sgdr_stacking\n",
    "if Validation:\n",
    "    print('Test R-squared for %s is %f' %('test_preds_sgdr_stacking', sqrt(mean_squared_error(y_test_level2, test_preds_sgdr_stacking))))\n",
    "print('%0.2f min: Finish training second level model'%((time.time() - start_time)/60))"
   ]
  },
  {
   "cell_type": "code",
   "execution_count": null,
   "metadata": {},
   "outputs": [],
   "source": [
    "# Submission -------------------------------------------------------------------\n",
    "if not Validation:\n",
    "    submission = pd.read_csv('../data/sample_submission.csv')\n",
    "    ver = 6\n",
    "    for pred_ver in ['lr_stacking', 'sgdr_stacking']:\n",
    "        print(pred_list['test_preds_' + pred_ver].clip(0,20).mean())\n",
    "        submission['item_cnt_month'] = pred_list['test_preds_' + pred_ver].clip(0,20)\n",
    "        submission[['ID', 'item_cnt_month']].to_csv(\"../results/05.csv\", index = False)\n",
    "print('%0.2f min: Finish running scripts'%((time.time() - start_time)/60))"
   ]
  },
  {
   "cell_type": "code",
   "execution_count": null,
   "metadata": {},
   "outputs": [],
   "source": [
    "!shutdown -s "
   ]
  }
 ],
 "metadata": {
  "kernelspec": {
   "display_name": "Python 3",
   "language": "python",
   "name": "python3"
  },
  "language_info": {
   "codemirror_mode": {
    "name": "ipython",
    "version": 3
   },
   "file_extension": ".py",
   "mimetype": "text/x-python",
   "name": "python",
   "nbconvert_exporter": "python",
   "pygments_lexer": "ipython3",
   "version": "3.7.3"
  }
 },
 "nbformat": 4,
 "nbformat_minor": 2
}
