{
 "cells": [
  {
   "cell_type": "code",
   "execution_count": 1,
   "metadata": {},
   "outputs": [],
   "source": [
    "from IPython.core.interactiveshell import InteractiveShell\n",
    "InteractiveShell.ast_node_interactivity = \"all\""
   ]
  },
  {
   "cell_type": "code",
   "execution_count": 2,
   "metadata": {},
   "outputs": [],
   "source": [
    "import pandas as  pd\n",
    "import numpy as np\n",
    "import matplotlib.pyplot as plt\n",
    "import seaborn as sns\n",
    "import warnings\n",
    "warnings.filterwarnings('ignore')"
   ]
  },
  {
   "cell_type": "code",
   "execution_count": 3,
   "metadata": {},
   "outputs": [],
   "source": [
    "df_items=pd.read_csv(\"../data/items.csv\")\n",
    "df_categories = pd.read_csv(\"../data/item_categories.csv\")\n",
    "df_shops = pd.read_csv(\"../data/shops.csv\")\n",
    "df_sales = pd.read_csv(\"../data/sales_train.csv.gz\")\n",
    "df_test = pd.read_csv(\"../data/test.csv.gz\")"
   ]
  },
  {
   "cell_type": "code",
   "execution_count": 4,
   "metadata": {},
   "outputs": [
    {
     "data": {
      "text/plain": [
       "<matplotlib.axes._subplots.AxesSubplot at 0x263ab21e438>"
      ]
     },
     "execution_count": 4,
     "metadata": {},
     "output_type": "execute_result"
    },
    {
     "data": {
      "image/png": "[encoded data removed]",
      "text/plain": [
       "<Figure size 432x288 with 1 Axes>"
      ]
     },
     "metadata": {
      "needs_background": "light"
     },
     "output_type": "display_data"
    }
   ],
   "source": [
    "df_sales.shop_id.hist()"
   ]
  },
  {
   "cell_type": "markdown",
   "metadata": {},
   "source": [
    "##### there are 59 shop_id"
   ]
  },
  {
   "cell_type": "code",
   "execution_count": 5,
   "metadata": {},
   "outputs": [
    {
     "data": {
      "text/plain": [
       "<matplotlib.axes._subplots.AxesSubplot at 0x263aa916828>"
      ]
     },
     "execution_count": 5,
     "metadata": {},
     "output_type": "execute_result"
    },
    {
     "data": {
      "image/png": "[encoded data removed]",
      "text/plain": [
       "<Figure size 432x288 with 1 Axes>"
      ]
     },
     "metadata": {
      "needs_background": "light"
     },
     "output_type": "display_data"
    }
   ],
   "source": [
    "df_sales.item_id.hist()"
   ]
  },
  {
   "cell_type": "markdown",
   "metadata": {},
   "source": [
    "#### more than 22xxx items"
   ]
  },
  {
   "cell_type": "code",
   "execution_count": 6,
   "metadata": {},
   "outputs": [
    {
     "data": {
      "text/plain": [
       "<matplotlib.axes._subplots.AxesSubplot at 0x263aa98ea58>"
      ]
     },
     "execution_count": 6,
     "metadata": {},
     "output_type": "execute_result"
    },
    {
     "data": {
      "image/png": "[encoded data removed]",
      "text/plain": [
       "<Figure size 432x288 with 1 Axes>"
      ]
     },
     "metadata": {
      "needs_background": "light"
     },
     "output_type": "display_data"
    }
   ],
   "source": [
    "df_sales.groupby([\"shop_id\"])[\"item_id\"].sum().sort_values(ascending=False)[:20].plot.barh()"
   ]
  },
  {
   "cell_type": "markdown",
   "metadata": {},
   "source": [
    "#### shop_id 31 sales the most items"
   ]
  },
  {
   "cell_type": "code",
   "execution_count": 7,
   "metadata": {},
   "outputs": [
    {
     "data": {
      "text/plain": [
       "('01.01.2013', '31.12.2014')"
      ]
     },
     "execution_count": 7,
     "metadata": {},
     "output_type": "execute_result"
    }
   ],
   "source": [
    "df_sales.date.min(), df_sales.date.max()"
   ]
  },
  {
   "cell_type": "code",
   "execution_count": 8,
   "metadata": {
    "scrolled": true
   },
   "outputs": [
    {
     "data": {
      "text/plain": [
       " 1.0      2629372\n",
       " 2.0       194201\n",
       " 3.0        47350\n",
       " 4.0        19685\n",
       " 5.0        10474\n",
       "-1.0         7252\n",
       " 6.0         6338\n",
       " 7.0         4057\n",
       " 8.0         2903\n",
       " 9.0         2177\n",
       " 10.0        1820\n",
       " 11.0        1263\n",
       " 12.0        1083\n",
       " 13.0         918\n",
       " 14.0         716\n",
       " 15.0         638\n",
       " 16.0         544\n",
       " 17.0         438\n",
       " 18.0         391\n",
       " 20.0         364\n",
       " 19.0         347\n",
       " 21.0         290\n",
       " 22.0         242\n",
       " 24.0         204\n",
       " 23.0         198\n",
       " 25.0         180\n",
       " 26.0         176\n",
       " 30.0         147\n",
       " 28.0         131\n",
       " 27.0         130\n",
       "           ...   \n",
       " 95.0           1\n",
       " 96.0           1\n",
       " 102.0          1\n",
       " 105.0          1\n",
       " 109.0          1\n",
       " 112.0          1\n",
       " 113.0          1\n",
       " 118.0          1\n",
       " 128.0          1\n",
       " 129.0          1\n",
       " 131.0          1\n",
       " 132.0          1\n",
       " 135.0          1\n",
       " 146.0          1\n",
       " 200.0          1\n",
       " 147.0          1\n",
       " 149.0          1\n",
       " 153.0          1\n",
       " 154.0          1\n",
       " 156.0          1\n",
       " 157.0          1\n",
       " 504.0          1\n",
       " 163.0          1\n",
       " 164.0          1\n",
       " 167.0          1\n",
       " 179.0          1\n",
       " 187.0          1\n",
       " 194.0          1\n",
       " 195.0          1\n",
       " 508.0          1\n",
       "Name: item_cnt_day, Length: 198, dtype: int64"
      ]
     },
     "execution_count": 8,
     "metadata": {},
     "output_type": "execute_result"
    }
   ],
   "source": [
    "df_sales[\"item_cnt_day\"].value_counts()"
   ]
  },
  {
   "cell_type": "code",
   "execution_count": 9,
   "metadata": {},
   "outputs": [
    {
     "data": {
      "text/plain": [
       "<matplotlib.axes._subplots.AxesSubplot at 0x263aaaee668>"
      ]
     },
     "execution_count": 9,
     "metadata": {},
     "output_type": "execute_result"
    },
    {
     "data": {
      "image/png": "[encoded data removed]",
      "text/plain": [
       "<Figure size 432x288 with 1 Axes>"
      ]
     },
     "metadata": {
      "needs_background": "light"
     },
     "output_type": "display_data"
    }
   ],
   "source": [
    "df_sales[[\"item_cnt_day\"]].boxplot()"
   ]
  },
  {
   "cell_type": "code",
   "execution_count": 10,
   "metadata": {},
   "outputs": [],
   "source": [
    "df_sales.item_cnt_day = df_sales.item_cnt_day.clip(0,20)"
   ]
  },
  {
   "cell_type": "code",
   "execution_count": 11,
   "metadata": {},
   "outputs": [
    {
     "data": {
      "text/plain": [
       "<matplotlib.axes._subplots.AxesSubplot at 0x263aaec9e10>"
      ]
     },
     "execution_count": 11,
     "metadata": {},
     "output_type": "execute_result"
    },
    {
     "data": {
      "image/png": "[encoded data removed]",
      "text/plain": [
       "<Figure size 432x288 with 1 Axes>"
      ]
     },
     "metadata": {
      "needs_background": "light"
     },
     "output_type": "display_data"
    }
   ],
   "source": [
    "df_sales[[\"item_cnt_day\"]].boxplot()"
   ]
  },
  {
   "cell_type": "code",
   "execution_count": null,
   "metadata": {},
   "outputs": [],
   "source": []
  },
  {
   "cell_type": "code",
   "execution_count": null,
   "metadata": {},
   "outputs": [],
   "source": []
  }
 ],
 "metadata": {
  "kernelspec": {
   "display_name": "Python 3",
   "language": "python",
   "name": "python3"
  },
  "language_info": {
   "codemirror_mode": {
    "name": "ipython",
    "version": 3
   },
   "file_extension": ".py",
   "mimetype": "text/x-python",
   "name": "python",
   "nbconvert_exporter": "python",
   "pygments_lexer": "ipython3",
   "version": "3.7.3"
  }
 },
 "nbformat": 4,
 "nbformat_minor": 2
}
